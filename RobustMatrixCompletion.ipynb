{
 "cells": [
  {
   "cell_type": "code",
   "execution_count": 1,
   "metadata": {},
   "outputs": [],
   "source": [
    "using LinearAlgebra, ToeplitzMatrices, Random, IterativeSolvers, FunctionOperators,\n",
    "    EllipsisNotation, Printf, BenchmarkTools\n",
    "Random.seed!(1)\n",
    "include(\"helper_functions.jl\");"
   ]
  },
  {
   "cell_type": "markdown",
   "metadata": {},
   "source": [
    "### IRLS for robust principal component analysis"
   ]
  },
  {
   "cell_type": "code",
   "execution_count": 173,
   "metadata": {},
   "outputs": [
    {
     "data": {
      "text/plain": [
       "RPCA_IRLS (generic function with 2 methods)"
      ]
     },
     "execution_count": 173,
     "metadata": {},
     "output_type": "execute_result"
    }
   ],
   "source": [
    "function RPCA_IRLS(\n",
    "        Xᴳᵀ::AbstractArray,                     # ground truth for MSE evaluation\n",
    "        y::AbstractArray,                       # under-sampled data\n",
    "        Φ::FunctionOperator;                    # sampling operator\n",
    "        img_size::NTuple = size(Xᴳᵀ),           # size of output matrix\n",
    "        r̃::Int,                                 # rank estimate of low rank part\n",
    "        s̃::Int,                                 # sparsity estimate of sparse part\n",
    "        λ::Real = 1,                            # regularization param. to balance sparsity and low-rankness\n",
    "        μ::Real = 1e-3,                          # regularization param. for separation strictness\n",
    "        δ::Real = 1e-3,                         # smoothing parameter for log (see eq. 5)\n",
    "        maxIter::Union{Int, Nothing} = nothing, # number of CG iteration steps\n",
    "        N::Int = 10,                            # number of iterations\n",
    "        verbose::Bool = false)                  # print rank and loss value in each iteration\n",
    "    \n",
    "    # Initialize variables\n",
    "    dType = eltype(y)\n",
    "    d₁, d₂ = img_size\n",
    "    maxIter = maxIter isa Nothing ? max(r̃*(r̃+d₁+d₂), s̃*(s̃+d₁+d₂)) : maxIter\n",
    "    ϵ = Inf\n",
    "    #X₀ = reshape(Φ' * vec(y), d₁, d₂)\n",
    "    X₀ = Φ' * y\n",
    "    Wₛ, Wₗ = I, I\n",
    "    ΦᵃΦ = Φ' * Φ\n",
    "    L, S = copy(X₀), zeros(dType, size(X₀))\n",
    "    X = L + S\n",
    "    \n",
    "    r, c, n, s, e = rank(L, atol = 1e-3), norm(y - Φ * X, 2), norm(Xᴳᵀ - X, 2), svdvals(L)[1], ϵ\n",
    "    n, c, s, e = @sprintf(\"%7.3f\", n), @sprintf(\"%7.3f\", c), @sprintf(\"%7.3f\", s), @sprintf(\"%7.3f\", e)\n",
    "    verbose && println(\"k = 0,\\trank(L) = $r,\\t‖y - Φ * X‖₂ = $c,\\t‖Xᴳᵀ - X‖₂ = $n,\\tσ₁ = $s,\\tϵᵏ = $e\")\n",
    "    \n",
    "    for k in 1:N\n",
    "        \n",
    "        # Equation under (29)\n",
    "        Aₗ = ((λ/μ*Wₛ + ΦᵃΦ) * Wₗ + λ * Wₛ * ΦᵃΦ)\n",
    "        bₗ = λ * Wₛ * X₀\n",
    "        cg!(vec(L), reshape(Aₗ, inDims=(d₁*d₂,), outDims=(d₁*d₂,)), vec(bₗ)) # solve Aₗ⋅L = bₗ for L\n",
    "        \n",
    "        # Equation 30\n",
    "        Aₛ = λ/μ*Wₛ + ΦᵃΦ\n",
    "        bₛ = X₀ - ΦᵃΦ * L\n",
    "        cg!(vec(S), reshape(Aₛ, inDims=(d₁*d₂,), outDims=(d₁*d₂,)), vec(bₛ)) # solve Aₛ⋅S = bₛ for S\n",
    "        \n",
    "        #println(\"consistency: \", norm(y - Φ * (L + S)))\n",
    "        \n",
    "        F = svd(L)\n",
    "        U, σ, V = F.U, F.S, F.V\n",
    "        \n",
    "        # Equation 32\n",
    "        Sₛ₊₁ = sort(abs.(vec(S)), rev=true)[s̃+1]\n",
    "        #println(Sₛ₊₁/(2λ), \", \", σ[r̃+1])\n",
    "        ϵ = min(max(Sₛ₊₁/(2λ), σ[r̃+1]), ϵ)\n",
    "        \n",
    "        # Equation 22\n",
    "        wₛ = [1 / max(abs(S[i,j]), δ)^2 + δ^2 for i in 1:d₁, j in 1:d₂]\n",
    "        # Equation 24\n",
    "        Wₛ = FunctionOperator{dType}(name = \"Wₛ\", inDims = (d₁, d₂), outDims = (d₁, d₂),\n",
    "            forw = Z -> wₛ .* Z)\n",
    "        # Equation 23 and 15 with q = 0 (typo in def of H₁: mean of σ̃ᵢ and σ̃ᵢ ??)\n",
    "        σ̃ᵢ(i) = 1 / (max(σ[i], ϵ) + ϵ^2)\n",
    "        d = min(d₁, d₂)\n",
    "        H₁ = [sqrt(σ̃ᵢ(i) * σ̃ᵢ(j)) for i in 1:d, j in 1:d]\n",
    "        # Equation 25 (typo: second V⁽ᵏ⁾ should be adjoint)\n",
    "        Wₗ = FunctionOperator{dType}(name = \"Wₗ\", inDims = (d₁, d₂), outDims = (d₁, d₂),\n",
    "            forw = Z -> U * (H₁ .* (U' * Z * V)) * V')\n",
    "        \n",
    "        X = L + S\n",
    "\n",
    "        # Print\n",
    "        r, c, n, s, e = rank(L, atol = 1e-3), norm(y - Φ * X, 2), norm(Xᴳᵀ - X, 2), σ[1], ϵ\n",
    "        n, c, s, e = @sprintf(\"%7.3f\", n), @sprintf(\"%7.3f\", c), @sprintf(\"%7.3f\", s), @sprintf(\"%7.3f\", e)\n",
    "        verbose && println(\"k = $k,\\trank(L) = $r,\\t‖y - Φ * X‖₂ = $c,\\t‖Xᴳᵀ - X‖₂ = $n,\\tσ₁ = $s,\\tϵ = $e\")\n",
    "    end\n",
    "end"
   ]
  },
  {
   "cell_type": "code",
   "execution_count": 174,
   "metadata": {},
   "outputs": [
    {
     "name": "stdout",
     "output_type": "stream",
     "text": [
      "k = 0,\trank(L) = 40,\t‖y - Φ * X‖₂ =   0.000,\t‖Xᴳᵀ - X‖₂ = 125.133,\tσ₁ =  28.903,\tϵᵏ =     Inf\n",
      "k = 1,\trank(L) = 40,\t‖y - Φ * X‖₂ =  78.646,\t‖Xᴳᵀ - X‖₂ = 147.795,\tσ₁ =   0.029,\tϵ =   0.016\n",
      "k = 2,\trank(L) = 28,\t‖y - Φ * X‖₂ =  78.761,\t‖Xᴳᵀ - X‖₂ = 147.858,\tσ₁ =   0.343,\tϵ =   0.016\n",
      "k = 3,\trank(L) = 20,\t‖y - Φ * X‖₂ =   8.545,\t‖Xᴳᵀ - X‖₂ = 646.085,\tσ₁ = 330.708,\tϵ =   0.016\n",
      "k = 4,\trank(L) = 30,\t‖y - Φ * X‖₂ =   4.883,\t‖Xᴳᵀ - X‖₂ = 294.498,\tσ₁ = 142.320,\tϵ =   0.016\n",
      "k = 5,\trank(L) = 38,\t‖y - Φ * X‖₂ =  15.062,\t‖Xᴳᵀ - X‖₂ = 525.715,\tσ₁ = 220.323,\tϵ =   0.016\n",
      "k = 6,\trank(L) = 39,\t‖y - Φ * X‖₂ =  10.875,\t‖Xᴳᵀ - X‖₂ = 369.044,\tσ₁ = 142.707,\tϵ =   0.016\n",
      "k = 7,\trank(L) = 38,\t‖y - Φ * X‖₂ =   6.179,\t‖Xᴳᵀ - X‖₂ = 228.043,\tσ₁ = 108.041,\tϵ =   0.016\n",
      "k = 8,\trank(L) = 38,\t‖y - Φ * X‖₂ =  16.033,\t‖Xᴳᵀ - X‖₂ = 462.216,\tσ₁ = 199.379,\tϵ =   0.016\n",
      "k = 9,\trank(L) = 39,\t‖y - Φ * X‖₂ =   8.569,\t‖Xᴳᵀ - X‖₂ = 356.316,\tσ₁ = 137.818,\tϵ =   0.016\n",
      "k = 10,\trank(L) = 38,\t‖y - Φ * X‖₂ =   8.422,\t‖Xᴳᵀ - X‖₂ = 233.376,\tσ₁ =  94.238,\tϵ =   0.016\n",
      "k = 11,\trank(L) = 38,\t‖y - Φ * X‖₂ =  10.006,\t‖Xᴳᵀ - X‖₂ = 393.524,\tσ₁ = 162.831,\tϵ =   0.016\n",
      "k = 12,\trank(L) = 37,\t‖y - Φ * X‖₂ =  10.058,\t‖Xᴳᵀ - X‖₂ = 349.826,\tσ₁ = 132.572,\tϵ =   0.016\n",
      "k = 13,\trank(L) = 37,\t‖y - Φ * X‖₂ =   5.867,\t‖Xᴳᵀ - X‖₂ = 242.960,\tσ₁ =  95.285,\tϵ =   0.016\n",
      "k = 14,\trank(L) = 39,\t‖y - Φ * X‖₂ =   9.996,\t‖Xᴳᵀ - X‖₂ = 458.428,\tσ₁ = 211.382,\tϵ =   0.016\n",
      "k = 15,\trank(L) = 39,\t‖y - Φ * X‖₂ =  11.114,\t‖Xᴳᵀ - X‖₂ = 334.528,\tσ₁ = 119.618,\tϵ =   0.016\n",
      "k = 16,\trank(L) = 39,\t‖y - Φ * X‖₂ =   7.921,\t‖Xᴳᵀ - X‖₂ = 240.131,\tσ₁ = 103.541,\tϵ =   0.016\n",
      "k = 17,\trank(L) = 38,\t‖y - Φ * X‖₂ =  11.057,\t‖Xᴳᵀ - X‖₂ = 397.833,\tσ₁ = 166.628,\tϵ =   0.016\n",
      "k = 18,\trank(L) = 38,\t‖y - Φ * X‖₂ =  12.549,\t‖Xᴳᵀ - X‖₂ = 340.568,\tσ₁ = 120.422,\tϵ =   0.016\n",
      "k = 19,\trank(L) = 37,\t‖y - Φ * X‖₂ =   7.742,\t‖Xᴳᵀ - X‖₂ = 230.020,\tσ₁ =  86.270,\tϵ =   0.016\n",
      "k = 20,\trank(L) = 38,\t‖y - Φ * X‖₂ =  10.932,\t‖Xᴳᵀ - X‖₂ = 372.178,\tσ₁ = 146.153,\tϵ =   0.016\n",
      "k = 21,\trank(L) = 39,\t‖y - Φ * X‖₂ =  11.425,\t‖Xᴳᵀ - X‖₂ = 343.855,\tσ₁ = 136.024,\tϵ =   0.016\n",
      "k = 22,\trank(L) = 37,\t‖y - Φ * X‖₂ =   8.267,\t‖Xᴳᵀ - X‖₂ = 243.388,\tσ₁ =  95.168,\tϵ =   0.016\n",
      "k = 23,\trank(L) = 38,\t‖y - Φ * X‖₂ =  10.010,\t‖Xᴳᵀ - X‖₂ = 354.375,\tσ₁ = 132.444,\tϵ =   0.016\n",
      "k = 24,\trank(L) = 37,\t‖y - Φ * X‖₂ =   9.766,\t‖Xᴳᵀ - X‖₂ = 386.182,\tσ₁ = 163.293,\tϵ =   0.016\n",
      "k = 25,\trank(L) = 37,\t‖y - Φ * X‖₂ =   8.175,\t‖Xᴳᵀ - X‖₂ = 251.198,\tσ₁ = 103.359,\tϵ =   0.016\n",
      "k = 26,\trank(L) = 38,\t‖y - Φ * X‖₂ =  10.499,\t‖Xᴳᵀ - X‖₂ = 357.148,\tσ₁ = 141.889,\tϵ =   0.016\n",
      "k = 27,\trank(L) = 38,\t‖y - Φ * X‖₂ =  10.022,\t‖Xᴳᵀ - X‖₂ = 363.279,\tσ₁ = 141.820,\tϵ =   0.016\n",
      "k = 28,\trank(L) = 39,\t‖y - Φ * X‖₂ =  11.845,\t‖Xᴳᵀ - X‖₂ = 275.105,\tσ₁ = 107.649,\tϵ =   0.016\n",
      "k = 29,\trank(L) = 38,\t‖y - Φ * X‖₂ =  11.719,\t‖Xᴳᵀ - X‖₂ = 327.111,\tσ₁ = 132.627,\tϵ =   0.016\n",
      "k = 30,\trank(L) = 40,\t‖y - Φ * X‖₂ =  12.913,\t‖Xᴳᵀ - X‖₂ = 353.589,\tσ₁ = 137.944,\tϵ =   0.016\n",
      "k = 31,\trank(L) = 37,\t‖y - Φ * X‖₂ =  10.541,\t‖Xᴳᵀ - X‖₂ = 261.170,\tσ₁ = 121.511,\tϵ =   0.016\n",
      "k = 32,\trank(L) = 38,\t‖y - Φ * X‖₂ =  10.023,\t‖Xᴳᵀ - X‖₂ = 322.072,\tσ₁ = 122.696,\tϵ =   0.016\n",
      "k = 33,\trank(L) = 38,\t‖y - Φ * X‖₂ =  11.194,\t‖Xᴳᵀ - X‖₂ = 336.731,\tσ₁ = 131.994,\tϵ =   0.016\n",
      "k = 34,\trank(L) = 38,\t‖y - Φ * X‖₂ =  11.528,\t‖Xᴳᵀ - X‖₂ = 255.300,\tσ₁ =  98.705,\tϵ =   0.016\n",
      "k = 35,\trank(L) = 38,\t‖y - Φ * X‖₂ =   9.753,\t‖Xᴳᵀ - X‖₂ = 319.956,\tσ₁ = 120.578,\tϵ =   0.016\n",
      "k = 36,\trank(L) = 38,\t‖y - Φ * X‖₂ =   7.464,\t‖Xᴳᵀ - X‖₂ = 359.332,\tσ₁ = 142.811,\tϵ =   0.016\n",
      "k = 37,\trank(L) = 38,\t‖y - Φ * X‖₂ =   6.142,\t‖Xᴳᵀ - X‖₂ = 276.160,\tσ₁ = 103.108,\tϵ =   0.016\n",
      "k = 38,\trank(L) = 38,\t‖y - Φ * X‖₂ =   8.211,\t‖Xᴳᵀ - X‖₂ = 325.222,\tσ₁ = 124.053,\tϵ =   0.016\n",
      "k = 39,\trank(L) = 38,\t‖y - Φ * X‖₂ =   8.709,\t‖Xᴳᵀ - X‖₂ = 348.238,\tσ₁ = 139.553,\tϵ =   0.016\n",
      "k = 40,\trank(L) = 38,\t‖y - Φ * X‖₂ =   7.391,\t‖Xᴳᵀ - X‖₂ = 280.395,\tσ₁ = 118.169,\tϵ =   0.016\n",
      "k = 41,\trank(L) = 36,\t‖y - Φ * X‖₂ =   9.475,\t‖Xᴳᵀ - X‖₂ = 299.694,\tσ₁ = 109.892,\tϵ =   0.016\n",
      "k = 42,\trank(L) = 38,\t‖y - Φ * X‖₂ =  12.946,\t‖Xᴳᵀ - X‖₂ = 372.426,\tσ₁ = 154.029,\tϵ =   0.016\n",
      "k = 43,\trank(L) = 37,\t‖y - Φ * X‖₂ =   6.866,\t‖Xᴳᵀ - X‖₂ = 285.647,\tσ₁ = 115.708,\tϵ =   0.016\n",
      "k = 44,\trank(L) = 38,\t‖y - Φ * X‖₂ =  10.335,\t‖Xᴳᵀ - X‖₂ = 308.080,\tσ₁ = 112.291,\tϵ =   0.016\n",
      "k = 45,\trank(L) = 38,\t‖y - Φ * X‖₂ =  10.796,\t‖Xᴳᵀ - X‖₂ = 316.035,\tσ₁ = 128.185,\tϵ =   0.016\n",
      "k = 46,\trank(L) = 39,\t‖y - Φ * X‖₂ =   7.918,\t‖Xᴳᵀ - X‖₂ = 302.680,\tσ₁ = 130.522,\tϵ =   0.016\n",
      "k = 47,\trank(L) = 39,\t‖y - Φ * X‖₂ =   8.148,\t‖Xᴳᵀ - X‖₂ = 310.746,\tσ₁ = 115.263,\tϵ =   0.016\n",
      "k = 48,\trank(L) = 38,\t‖y - Φ * X‖₂ =   9.405,\t‖Xᴳᵀ - X‖₂ = 343.238,\tσ₁ = 150.106,\tϵ =   0.016\n",
      "k = 49,\trank(L) = 38,\t‖y - Φ * X‖₂ =   8.429,\t‖Xᴳᵀ - X‖₂ = 292.191,\tσ₁ = 119.205,\tϵ =   0.016\n",
      "k = 50,\trank(L) = 37,\t‖y - Φ * X‖₂ =   7.152,\t‖Xᴳᵀ - X‖₂ = 296.220,\tσ₁ = 110.505,\tϵ =   0.016\n",
      " 26.785345 seconds (8.87 M allocations: 25.619 GiB, 5.75% gc time)\n"
     ]
    }
   ],
   "source": [
    "@time RPCA_IRLS(Xᴳᵀ, y, Φ, N = 50, r̃ = r, s̃ = s, λ = 2, μ = 1e-3, δ = 1e-5, verbose = true);"
   ]
  },
  {
   "cell_type": "markdown",
   "metadata": {},
   "source": [
    "### Some helper functions"
   ]
  },
  {
   "cell_type": "code",
   "execution_count": 10,
   "metadata": {},
   "outputs": [],
   "source": [
    "import Base.size\n",
    "function Base.size(FO::FunctionOperator, d::Int)\n",
    "    @assert d in [1, 2]\n",
    "    prod(d == 1 ? FO.outDims : FO.inDims)\n",
    "end"
   ]
  },
  {
   "cell_type": "code",
   "execution_count": 11,
   "metadata": {},
   "outputs": [
    {
     "data": {
      "text/plain": [
       "generateΦ (generic function with 1 method)"
      ]
     },
     "execution_count": 11,
     "metadata": {},
     "output_type": "execute_result"
    }
   ],
   "source": [
    "# This function randomly samples a $(d₁ \\times d₂)$ sparse matrix with ones at $m$ randomly chosen\n",
    "# coordinates (uniform without replacement). The output matrix has at least $r$ non-zero entries\n",
    "# in each row and each column, where $r$ is a specified positive integer. The number of ones in the\n",
    "# output matrix is exactly $m$.\n",
    "function generateΦ(d₁, d₂, r, m)\n",
    "    @assert max(d₁, d₂) * r ≤ m\n",
    "    @assert m ≤ d₁ * d₂\n",
    "    @assert r ≤ d₁\n",
    "    @assert r ≤ d₂\n",
    "    \n",
    "    # generate a square matrix where each row and each column has exactly r ones\n",
    "    initial = Circulant([fill(1, r)..., fill(0, min(d₁, d₂) - r)...])\n",
    "    \n",
    "    # Extend that matrix to a d₁×d₂ matrix where each row and each column has at least r ones\n",
    "    # That is accomplished by repeating the \"initial\" matrix and then cropping\n",
    "    if d₁ < d₂\n",
    "        M = repeat(initial, outer = (1, ceil(Int, d₂ / d₁)))\n",
    "    elseif d₁ > d₂\n",
    "        M = repeat(initial, outer = (ceil(Int, d₁ / d₂), 1))\n",
    "    else\n",
    "        M = initial\n",
    "    end\n",
    "    M = M[1:d₁, 1:d₂]\n",
    "    \n",
    "    # Randomly switch zeros to ones until exactly m number of ones are in the matrix\n",
    "    zero_places = findall(M .== 0)\n",
    "    number_of_missing_ones = m - (d₁*d₂ - length(zero_places))\n",
    "    number_of_missing_ones > 0 && (M[shuffle(zero_places)[1:number_of_missing_ones]] .= 1)\n",
    "    \n",
    "    # Then randomize matrix by permutating rows and columns a couple times\n",
    "    for i in 1:10\n",
    "        M .= M[shuffle(1:end), :] # shuffle rows\n",
    "        M .= M[:, shuffle(1:end)] # shuffle columns\n",
    "    end\n",
    "    \n",
    "    M\n",
    "end"
   ]
  },
  {
   "cell_type": "code",
   "execution_count": 12,
   "metadata": {},
   "outputs": [
    {
     "data": {
      "text/plain": [
       "maskToMatrix (generic function with 1 method)"
      ]
     },
     "execution_count": 12,
     "metadata": {},
     "output_type": "execute_result"
    }
   ],
   "source": [
    "function maskToMatrix(Φᴹ)\n",
    "    m = convert(Int, sum(Φᴹ))\n",
    "    d₁, d₂ = size(Φᴹ)\n",
    "\n",
    "    Φ = zeros(m, length(Φᴹ))\n",
    "    non_zero_places = findall(vec(Φᴹ) .== 1)\n",
    "    for i in 1:m\n",
    "        Φ[i, non_zero_places[i]] = 1\n",
    "    end\n",
    "    return Φ\n",
    "end"
   ]
  },
  {
   "cell_type": "markdown",
   "metadata": {},
   "source": [
    "### Generate data\n",
    "\n",
    "#### That's how Chirstian generated the data to compare algorithms:"
   ]
  },
  {
   "cell_type": "code",
   "execution_count": 127,
   "metadata": {},
   "outputs": [
    {
     "name": "stdout",
     "output_type": "stream",
     "text": [
      "size(Xᴳᵀ) = (60, 40)\n",
      "rank(Xᴳᵀ) = 21\n",
      "rank(y) = 40\n"
     ]
    }
   ],
   "source": [
    "d₁, d₂, r, s = 60, 40, 7, 15\n",
    "df_LR = r * (d₁ + d₂ - r) # Number of degrees of freedom of the setting\n",
    "m = floor(Int, min(1.05 * df_LR, d₁ * d₂))\n",
    "\n",
    "dType = ComplexF64\n",
    "U, Σ, V = randn(dType, d₁, r), Diagonal(randn(r)), randn(dType, d₂, r)\n",
    "S = zeros(d₁, d₂)\n",
    "S[randperm(d₁*d₂)[1:s]] = rand(s)\n",
    "Xᴳᵀ = U * Σ * V' + S # Ground Truth matrix\n",
    "\n",
    "@show size(Xᴳᵀ)\n",
    "@show rank(Xᴳᵀ);\n",
    "\n",
    "Φᴹ = generateΦ(d₁, d₂, r, m)\n",
    "Φ = FunctionOperator{dType}(name = \"Φ\", inDims = (d₁, d₂), outDims = (d₁, d₂),\n",
    "    forw = (b,x) -> b .= Φᴹ .* x, backw = (b,x) -> b .= x)\n",
    "y = Φ * Xᴳᵀ\n",
    "@show rank(y);"
   ]
  },
  {
   "cell_type": "code",
   "execution_count": 128,
   "metadata": {},
   "outputs": [
    {
     "data": {
      "text/plain": [
       "true"
      ]
     },
     "execution_count": 128,
     "metadata": {},
     "output_type": "execute_result"
    }
   ],
   "source": [
    "Φᴹ .* Xᴳᵀ == Φ * Xᴳᵀ"
   ]
  },
  {
   "cell_type": "code",
   "execution_count": 137,
   "metadata": {},
   "outputs": [
    {
     "name": "stdout",
     "output_type": "stream",
     "text": [
      "k = 70,\trank(Xᵏ) = 40,\t‖Xᴳᵀ - Xᵏ‖₂ = 125.133, σ₁ = 28.903, ϵᵏ = Inf\n",
      "k = 1,\trank(L) = 39,\t‖Xᴳᵀ - X‖₂ = 147.816, σ₁ = 0.014, ϵ = 0.008\n",
      "k = 2,\trank(L) = 22,\t‖Xᴳᵀ - X‖₂ = 147.858, σ₁ = 0.178, ϵ = 0.008\n",
      "k = 3,\trank(L) = 20,\t‖Xᴳᵀ - X‖₂ = 596.994, σ₁ = 308.556, ϵ = 0.008\n",
      "k = 4,\trank(L) = 33,\t‖Xᴳᵀ - X‖₂ = 365.009, σ₁ = 202.247, ϵ = 0.008\n",
      "k = 5,\trank(L) = 39,\t‖Xᴳᵀ - X‖₂ = 429.478, σ₁ = 167.384, ϵ = 0.008\n",
      "k = 6,\trank(L) = 39,\t‖Xᴳᵀ - X‖₂ = 342.315, σ₁ = 131.841, ϵ = 0.008\n",
      "k = 7,\trank(L) = 39,\t‖Xᴳᵀ - X‖₂ = 214.556, σ₁ = 88.125, ϵ = 0.008\n",
      "k = 8,\trank(L) = 38,\t‖Xᴳᵀ - X‖₂ = 344.309, σ₁ = 143.167, ϵ = 0.008\n",
      "k = 9,\trank(L) = 39,\t‖Xᴳᵀ - X‖₂ = 337.265, σ₁ = 122.195, ϵ = 0.008\n",
      "k = 10,\trank(L) = 38,\t‖Xᴳᵀ - X‖₂ = 235.070, σ₁ = 94.327, ϵ = 0.008\n",
      "k = 11,\trank(L) = 38,\t‖Xᴳᵀ - X‖₂ = 351.344, σ₁ = 145.260, ϵ = 0.008\n",
      "k = 12,\trank(L) = 39,\t‖Xᴳᵀ - X‖₂ = 321.393, σ₁ = 119.487, ϵ = 0.008\n",
      "k = 13,\trank(L) = 38,\t‖Xᴳᵀ - X‖₂ = 245.166, σ₁ = 93.440, ϵ = 0.008\n",
      "k = 14,\trank(L) = 37,\t‖Xᴳᵀ - X‖₂ = 314.612, σ₁ = 115.901, ϵ = 0.008\n",
      "k = 15,\trank(L) = 39,\t‖Xᴳᵀ - X‖₂ = 350.700, σ₁ = 137.092, ϵ = 0.008\n",
      "k = 16,\trank(L) = 37,\t‖Xᴳᵀ - X‖₂ = 240.376, σ₁ = 95.504, ϵ = 0.008\n",
      "k = 17,\trank(L) = 38,\t‖Xᴳᵀ - X‖₂ = 326.593, σ₁ = 123.239, ϵ = 0.008\n",
      "k = 18,\trank(L) = 39,\t‖Xᴳᵀ - X‖₂ = 308.657, σ₁ = 111.803, ϵ = 0.008\n",
      "k = 19,\trank(L) = 38,\t‖Xᴳᵀ - X‖₂ = 238.379, σ₁ = 94.347, ϵ = 0.008\n",
      "k = 20,\trank(L) = 37,\t‖Xᴳᵀ - X‖₂ = 291.268, σ₁ = 107.676, ϵ = 0.008\n",
      "k = 21,\trank(L) = 39,\t‖Xᴳᵀ - X‖₂ = 304.920, σ₁ = 111.844, ϵ = 0.008\n",
      "k = 22,\trank(L) = 38,\t‖Xᴳᵀ - X‖₂ = 237.485, σ₁ = 96.046, ϵ = 0.008\n",
      "k = 23,\trank(L) = 38,\t‖Xᴳᵀ - X‖₂ = 286.610, σ₁ = 107.538, ϵ = 0.008\n",
      "k = 24,\trank(L) = 39,\t‖Xᴳᵀ - X‖₂ = 292.703, σ₁ = 104.043, ϵ = 0.008\n",
      "k = 25,\trank(L) = 36,\t‖Xᴳᵀ - X‖₂ = 255.536, σ₁ = 98.919, ϵ = 0.008\n",
      "k = 26,\trank(L) = 37,\t‖Xᴳᵀ - X‖₂ = 299.772, σ₁ = 119.354, ϵ = 0.008\n",
      "k = 27,\trank(L) = 37,\t‖Xᴳᵀ - X‖₂ = 303.741, σ₁ = 106.059, ϵ = 0.008\n",
      "k = 28,\trank(L) = 37,\t‖Xᴳᵀ - X‖₂ = 269.603, σ₁ = 104.815, ϵ = 0.008\n",
      "k = 29,\trank(L) = 37,\t‖Xᴳᵀ - X‖₂ = 276.969, σ₁ = 107.629, ϵ = 0.008\n",
      "k = 30,\trank(L) = 36,\t‖Xᴳᵀ - X‖₂ = 288.092, σ₁ = 98.723, ϵ = 0.008\n",
      "k = 31,\trank(L) = 37,\t‖Xᴳᵀ - X‖₂ = 297.008, σ₁ = 120.193, ϵ = 0.008\n",
      "k = 32,\trank(L) = 38,\t‖Xᴳᵀ - X‖₂ = 280.256, σ₁ = 105.666, ϵ = 0.008\n",
      "k = 33,\trank(L) = 37,\t‖Xᴳᵀ - X‖₂ = 286.499, σ₁ = 96.598, ϵ = 0.008\n",
      "k = 34,\trank(L) = 38,\t‖Xᴳᵀ - X‖₂ = 295.561, σ₁ = 129.717, ϵ = 0.008\n",
      "k = 35,\trank(L) = 38,\t‖Xᴳᵀ - X‖₂ = 257.155, σ₁ = 97.470, ϵ = 0.008\n"
     ]
    },
    {
     "ename": "InterruptException",
     "evalue": "InterruptException:",
     "output_type": "error",
     "traceback": [
      "InterruptException:",
      "",
      "Stacktrace:",
      " [1] Array at ./boot.jl:407 [inlined]",
      " [2] Array at ./boot.jl:415 [inlined]",
      " [3] Array at ./boot.jl:422 [inlined]",
      " [4] similar at ./abstractarray.jl:671 [inlined]",
      " [5] similar at ./abstractarray.jl:670 [inlined]",
      " [6] similar at ./broadcast.jl:196 [inlined]",
      " [7] copy at ./broadcast.jl:840 [inlined]",
      " [8] materialize at ./broadcast.jl:820 [inlined]",
      " [9] (::var\"#420#425\"{Array{Complex{Float64},2},Adjoint{Complex{Float64},Array{Complex{Float64},2}},Array{Float64,2}})(::Array{Complex{Float64},2}) at ./In[108]:67",
      " [10] (::FunctionOperators.var\"#68#72\"{FunctionOperator{Complex{Float64}}})(::Array{Complex{Float64},2}, ::Array{Complex{Float64},2}) at /home/hakkelt/.julia/packages/FunctionOperators/Txenf/src/getPlan.jl:168",
      " [11] (::FunctionOperators.var\"#47#50\"{FunctionOperators.var\"#68#72\"{FunctionOperator{Complex{Float64}}},FunctionOperators.var\"#55#61\"{FunctionOperators.Buffer,FunctionOperators.var\"#47#50\"{FunctionOperators.var\"#68#72\"{FunctionOperator{Complex{Float64}}},FunctionOperators.var\"#66#70\"{FunctionOperator{Complex{Float64}}}},FunctionOperators.var\"#47#50\"{FunctionOperators.var\"#66#70\"{FunctionOperator{Complex{Float64}}},FunctionOperators.var\"#65#69\"{FunctionOperator{Complex{Float64}}}}}})(::Array{Complex{Float64},2}, ::Array{Complex{Float64},2}) at /home/hakkelt/.julia/packages/FunctionOperators/Txenf/src/getPlan.jl:73",
      " [12] (::FunctionOperators.var\"#55#61\"{FunctionOperators.Buffer,FunctionOperators.var\"#47#50\"{FunctionOperators.var\"#68#72\"{FunctionOperator{Complex{Float64}}},FunctionOperators.var\"#55#61\"{FunctionOperators.Buffer,FunctionOperators.var\"#47#50\"{FunctionOperators.var\"#68#72\"{FunctionOperator{Complex{Float64}}},FunctionOperators.var\"#66#70\"{FunctionOperator{Complex{Float64}}}},FunctionOperators.var\"#47#50\"{FunctionOperators.var\"#66#70\"{FunctionOperator{Complex{Float64}}},FunctionOperators.var\"#65#69\"{FunctionOperator{Complex{Float64}}}}}},FunctionOperators.var\"#47#50\"{FunctionOperators.var\"#47#50\"{FunctionOperators.var\"#66#70\"{FunctionOperator{Complex{Float64}}},FunctionOperators.var\"#65#69\"{FunctionOperator{Complex{Float64}}}},FunctionOperators.var\"#47#50\"{FunctionOperators.var\"#68#72\"{FunctionOperator{Complex{Float64}}},FunctionOperators.var\"#66#70\"{FunctionOperator{Complex{Float64}}}}}})(::Array{Complex{Float64},2}, ::Array{Complex{Float64},2}) at /home/hakkelt/.julia/packages/FunctionOperators/Txenf/src/getPlan.jl:105",
      " [13] mul!(::Array{Complex{Float64},2}, ::FunctionOperators.FunctionOperatorComposite{Complex{Float64}}, ::Array{Complex{Float64},2}) at /home/hakkelt/.julia/packages/FunctionOperators/Txenf/src/mul.jl:75",
      " [14] (::FunctionOperators.var\"#83#85\"{FunctionOperators.FunctionOperatorComposite{Complex{Float64}}})(::Array{Complex{Float64},1}, ::Array{Complex{Float64},1}) at /home/hakkelt/.julia/packages/FunctionOperators/Txenf/src/Auxiliary.jl:41",
      " [15] mul!(::Array{Complex{Float64},1}, ::FunctionOperator{Complex{Float64}}, ::Array{Complex{Float64},1}) at /home/hakkelt/.julia/packages/FunctionOperators/Txenf/src/mul.jl:30",
      " [16] iterate(::CGIterable{FunctionOperator{Complex{Float64}},Array{Complex{Float64},1},Array{Complex{Float64},1},Float64}, ::Int64) at /home/hakkelt/.julia/packages/IterativeSolvers/3g7hG/src/cg.jl:51",
      " [17] iterate at ./iterators.jl:139 [inlined]",
      " [18] cg!(::Array{Complex{Float64},1}, ::FunctionOperator{Complex{Float64}}, ::Array{Complex{Float64},1}; tol::Float64, maxiter::Int64, log::Bool, statevars::CGStateVariables{Complex{Float64},Array{Complex{Float64},1}}, verbose::Bool, Pl::Identity, kwargs::Base.Iterators.Pairs{Union{},Union{},Tuple{},NamedTuple{(),Tuple{}}}) at /home/hakkelt/.julia/packages/IterativeSolvers/3g7hG/src/cg.jl:224",
      " [19] cg!(::Array{Complex{Float64},1}, ::FunctionOperator{Complex{Float64}}, ::Array{Complex{Float64},1}) at /home/hakkelt/.julia/packages/IterativeSolvers/3g7hG/src/cg.jl:210",
      " [20] RPCA_IRLS(::Array{Complex{Float64},2}, ::Array{Complex{Float64},2}, ::FunctionOperator{Complex{Float64}}; img_size::Tuple{Int64,Int64}, r̃::Int64, s̃::Int64, λ::Int64, μ::Float64, δ::Float64, maxIter::Nothing, N::Int64, verbose::Bool) at ./In[108]:38",
      " [21] macro expansion at ./util.jl:175 [inlined]",
      " [22] top-level scope at ./In[137]:1"
     ]
    }
   ],
   "source": [
    "#Φ = maskToMatrix(Φᴹ)\n",
    "#y = Φ * vec(Xᴳᵀ)\n",
    "@time RPCA_IRLS(Xᴳᵀ, y, Φ, N = 70, r̃ = r, s̃ = s, λ = 1, μ = 5e-4, δ = 1e-5, verbose = true);"
   ]
  },
  {
   "cell_type": "markdown",
   "metadata": {},
   "source": [
    "#### An easy problem:"
   ]
  },
  {
   "cell_type": "code",
   "execution_count": 16,
   "metadata": {},
   "outputs": [
    {
     "name": "stdout",
     "output_type": "stream",
     "text": [
      "size(Xᴳᵀ) = (10, 10)\n",
      "rank(Xᴳᵀ) = 1\n",
      "rank(y) = 6\n"
     ]
    }
   ],
   "source": [
    "d = 10\n",
    "v = rand(d)\n",
    "Xᴳᵀ = v * v'  # Ground Truth matrix\n",
    "@show size(Xᴳᵀ)\n",
    "@show rank(Xᴳᵀ)\n",
    "\n",
    "# mask that erases 5 elements:\n",
    "num_of_points_to_erase = 5\n",
    "Φᴹ = reshape(shuffle!([fill(0, num_of_points_to_erase)...,\n",
    "            fill(1, d*d - num_of_points_to_erase)...]), d, d)\n",
    "Φ = FunctionOperator{Float64}(name = \"Φ\", inDims = (d, d), outDims = (d, d),\n",
    "    forw = (b,x) -> b .= Φᴹ .* x, backw = (b,x) -> b .= x)\n",
    "\n",
    "y = Φ * Xᴳᵀ\n",
    "@show rank(y);"
   ]
  },
  {
   "cell_type": "code",
   "execution_count": 17,
   "metadata": {},
   "outputs": [
    {
     "name": "stdout",
     "output_type": "stream",
     "text": [
      "k = 0,\trank(Xᵏ) = 6,\t‖Xᴳᵀ - Xᵏ‖₂ = 0.730, σ₁ = 4.028, ϵᵏ = 0.693\n",
      "k = 1,\trank(Xᵏ) = 5,\t‖Xᴳᵀ - Xᵏ‖₂ = 0.062, σ₁ = 4.252, ϵᵏ = 0.057\n",
      "k = 2,\trank(Xᵏ) = 1,\t‖Xᴳᵀ - Xᵏ‖₂ = 0.001, σ₁ = 4.272, ϵᵏ = 0.000\n",
      "k = 3,\trank(Xᵏ) = 1,\t‖Xᴳᵀ - Xᵏ‖₂ = 0.000, σ₁ = 4.272, ϵᵏ = 0.000\n",
      "k = 4,\trank(Xᵏ) = 1,\t‖Xᴳᵀ - Xᵏ‖₂ = 0.000, σ₁ = 4.272, ϵᵏ = 0.000\n",
      "k = 5,\trank(Xᵏ) = 1,\t‖Xᴳᵀ - Xᵏ‖₂ = 0.000, σ₁ = 4.272, ϵᵏ = 0.000\n",
      "k = 6,\trank(Xᵏ) = 1,\t‖Xᴳᵀ - Xᵏ‖₂ = 0.000, σ₁ = 4.272, ϵᵏ = 0.000\n",
      "k = 7,\trank(Xᵏ) = 1,\t‖Xᴳᵀ - Xᵏ‖₂ = 0.000, σ₁ = 4.272, ϵᵏ = 0.000\n",
      "k = 8,\trank(Xᵏ) = 1,\t‖Xᴳᵀ - Xᵏ‖₂ = 0.000, σ₁ = 4.272, ϵᵏ = 0.000\n",
      "k = 9,\trank(Xᵏ) = 1,\t‖Xᴳᵀ - Xᵏ‖₂ = 0.000, σ₁ = 4.272, ϵᵏ = 0.000\n",
      "k = 10,\trank(Xᵏ) = 1,\t‖Xᴳᵀ - Xᵏ‖₂ = 0.000, σ₁ = 4.272, ϵᵏ = 0.000\n",
      "  3.282879 seconds (6.87 M allocations: 338.124 MiB, 3.60% gc time)\n"
     ]
    }
   ],
   "source": [
    "@time HM_IRLS(Xᴳᵀ, y, Φ, N = 10, verbose = true);"
   ]
  },
  {
   "cell_type": "code",
   "execution_count": null,
   "metadata": {},
   "outputs": [],
   "source": []
  }
 ],
 "metadata": {
  "kernelspec": {
   "display_name": "Julia 1.4.1",
   "language": "julia",
   "name": "julia-1.4"
  },
  "language_info": {
   "file_extension": ".jl",
   "mimetype": "application/julia",
   "name": "julia",
   "version": "1.4.1"
  }
 },
 "nbformat": 4,
 "nbformat_minor": 4
}
