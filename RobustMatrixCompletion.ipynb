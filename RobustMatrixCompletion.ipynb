{
 "cells": [
  {
   "cell_type": "code",
   "execution_count": 1,
   "metadata": {},
   "outputs": [],
   "source": [
    "using LinearAlgebra, ToeplitzMatrices, Random, IterativeSolvers, FunctionOperators, Printf\n",
    "Random.seed!(1);"
   ]
  },
  {
   "cell_type": "markdown",
   "metadata": {},
   "source": [
    "### IRLS for robust principal component analysis"
   ]
  },
  {
   "cell_type": "code",
   "execution_count": 2,
   "metadata": {},
   "outputs": [
    {
     "data": {
      "text/plain": [
       "RPCA_IRLS (generic function with 1 method)"
      ]
     },
     "execution_count": 2,
     "metadata": {},
     "output_type": "execute_result"
    }
   ],
   "source": [
    "function RPCA_IRLS(\n",
    "        Xᴳᵀ::AbstractArray,                     # ground truth for MSE evaluation\n",
    "        y::AbstractArray,                       # under-sampled data\n",
    "        Φ::FunctionOperator;                    # sampling operator (P_Omaga in the paper)\n",
    "        img_size::NTuple = size(Xᴳᵀ),           # size of output matrix\n",
    "        r̃::Int,                                 # rank estimate of low-rank part\n",
    "        s̃::Int,                                 # sparsity estimate of sparse part\n",
    "        λ::Real = 1,                            # regularization param. to balance sparsity and low-rankness\n",
    "        μ::Real = 1e-3,                         # regularization param. for separation strictness\n",
    "        δ::Real = 1e-3,                         # smoothing parameter for log (see eq. 5)\n",
    "        maxIter::Union{Int, Nothing} = nothing, # number of CG iteration steps\n",
    "        N::Int = 10,                            # number of iterations\n",
    "        verbose::Bool = false)                  # print rank and loss value in each iteration\n",
    "    \n",
    "    # Initialize variables\n",
    "    dType = eltype(y)\n",
    "    d₁, d₂ = img_size\n",
    "    maxIter = maxIter isa Nothing ? max(r̃*(r̃+d₁+d₂), s̃*(s̃+d₁+d₂)) : maxIter\n",
    "    ϵ = Inf\n",
    "    X₀ = Φ' * y # that's basically Pᵃ_Omega * P_Omega (M)\n",
    "    Wₛ, Wₗ = I, I\n",
    "    ΦᵃΦ = Φ' * Φ\n",
    "    L, S = copy(X₀), zeros(dType, size(X₀))\n",
    "    X = L + S\n",
    "    \n",
    "    r, c, n, s, e = rank(L, atol = 1e-3), norm(y - Φ * X), norm(Xᴳᵀ - X), svdvals(L)[1], ϵ\n",
    "    n, c, s, e = @sprintf(\"%7.3f\", n), @sprintf(\"%7.3f\", c), @sprintf(\"%7.3f\", s), @sprintf(\"%7.3f\", e)\n",
    "    verbose && println(\"k = 0,\\trank(L) = $r,\\t‖y - Φ * X‖₂ = $c,\\t‖Xᴳᵀ - X‖₂ = $n,\\tσ₁ = $s,\\tϵ = $e\")\n",
    "    \n",
    "    for k in 1:N\n",
    "        \n",
    "        # Equation under (29)\n",
    "        Aₗ = reshape((λ/μ*Wₛ + ΦᵃΦ) * Wₗ + λ * Wₛ * ΦᵃΦ, inDims=(d₁*d₂,), outDims=(d₁*d₂,))\n",
    "        bₗ = λ * Wₛ * X₀\n",
    "        cg!(vec(L), Aₗ, vec(bₗ), maxiter = maxIter) # solve Aₗ⋅L = bₗ for L\n",
    "        \n",
    "        # Equation 30\n",
    "        Aₛ = reshape(λ/μ*Wₛ + ΦᵃΦ, inDims=(d₁*d₂,), outDims=(d₁*d₂,))\n",
    "        bₛ = X₀ - ΦᵃΦ * L\n",
    "        cg!(vec(S), Aₛ, vec(bₛ), maxiter = maxIter) # solve Aₛ⋅S = bₛ for S\n",
    "        \n",
    "        F = svd(L)\n",
    "        U, σ, V = F.U, F.S, F.V\n",
    "        \n",
    "        # Equation 32\n",
    "        Sₛ₊₁ = sort(abs.(vec(S)), rev=true)[s̃+1]\n",
    "        println(\"\\t\\x1b[31m|S|₍ₛ₊₁₎/(2λ) = \", @sprintf(\"%7.3g\", Sₛ₊₁/(2λ)),\n",
    "            \", σᵣ₊₁ = \", @sprintf(\"%7.3f\", σ[r̃+1]), \"\\x1b[0m\")\n",
    "        ϵ = min(max(Sₛ₊₁/(2λ), σ[r̃+1]), ϵ)\n",
    "        \n",
    "        # Equation 22\n",
    "        wₛ = [1 / max.(abs(S[i,j]), δ)^2 + δ^2 for i in 1:d₁, j in 1:d₂]\n",
    "        # Equation 24\n",
    "        Wₛ = FunctionOperator{dType}(name = \"Wₛ\", inDims = (d₁, d₂), outDims = (d₁, d₂),\n",
    "            forw = Z -> wₛ .* Z)\n",
    "        # Equation 23 and 15 with q = 0 (typo in def of H₁: mean of σ̃ᵢ and σ̃ᵢ ??)\n",
    "        σ̃ᵢ(i) = 1 / (max(σ[i], ϵ) + ϵ^2)\n",
    "        d = min(d₁, d₂)\n",
    "        H₁ = [sqrt(σ̃ᵢ(i) * σ̃ᵢ(j)) for i in 1:d, j in 1:d]\n",
    "        # Equation 25 (typo: second V⁽ᵏ⁾ should be adjoint)\n",
    "        Wₗ = FunctionOperator{dType}(name = \"Wₗ\", inDims = (d₁, d₂), outDims = (d₁, d₂),\n",
    "            forw = Z -> U * (H₁ .* (U' * Z * V)) * V')\n",
    "        \n",
    "        X = L + S\n",
    "\n",
    "        # Print\n",
    "        r, c, n, s, e = rank(L, atol = 1e-3), norm(y - Φ * X), norm(Xᴳᵀ - X), σ[1], ϵ\n",
    "        n, c, s, e = @sprintf(\"%7.3f\", n), @sprintf(\"%7.3f\", c), @sprintf(\"%7.3f\", s), @sprintf(\"%7.3f\", e)\n",
    "        verbose && println(\"k = $k,\\trank(L) = $r,\\t‖y - Φ * X‖₂ = $c,\\t‖Xᴳᵀ - X‖₂ = $n,\\tσ₁ = $s,\\tϵ = $e\")\n",
    "    end\n",
    "end"
   ]
  },
  {
   "cell_type": "markdown",
   "metadata": {},
   "source": [
    "### Some helper functions"
   ]
  },
  {
   "cell_type": "code",
   "execution_count": 3,
   "metadata": {},
   "outputs": [],
   "source": [
    "import Base.size\n",
    "function Base.size(FO::FunctionOperator, d::Int)\n",
    "    @assert d in [1, 2]\n",
    "    prod(d == 1 ? FO.outDims : FO.inDims)\n",
    "end"
   ]
  },
  {
   "cell_type": "code",
   "execution_count": 4,
   "metadata": {},
   "outputs": [
    {
     "data": {
      "text/plain": [
       "generateΦ (generic function with 1 method)"
      ]
     },
     "execution_count": 4,
     "metadata": {},
     "output_type": "execute_result"
    }
   ],
   "source": [
    "# This function randomly samples a $(d₁ \\times d₂)$ sparse matrix with ones at $m$ randomly chosen\n",
    "# coordinates (uniform without replacement). The output matrix has at least $r$ non-zero entries\n",
    "# in each row and each column, where $r$ is a specified positive integer. The number of ones in the\n",
    "# output matrix is exactly $m$.\n",
    "function generateΦ(d₁, d₂, r, m)\n",
    "    @assert max(d₁, d₂) * r ≤ m\n",
    "    @assert m ≤ d₁ * d₂\n",
    "    @assert r ≤ d₁\n",
    "    @assert r ≤ d₂\n",
    "    \n",
    "    # generate a square matrix where each row and each column has exactly r ones\n",
    "    initial = Circulant([fill(1, r)..., fill(0, min(d₁, d₂) - r)...])\n",
    "    \n",
    "    # Extend that matrix to a d₁×d₂ matrix where each row and each column has at least r ones\n",
    "    # That is accomplished by repeating the \"initial\" matrix and then cropping\n",
    "    if d₁ < d₂\n",
    "        M = repeat(initial, outer = (1, ceil(Int, d₂ / d₁)))\n",
    "    elseif d₁ > d₂\n",
    "        M = repeat(initial, outer = (ceil(Int, d₁ / d₂), 1))\n",
    "    else\n",
    "        M = initial\n",
    "    end\n",
    "    M = M[1:d₁, 1:d₂]\n",
    "    \n",
    "    # Randomly switch zeros to ones until exactly m number of ones are in the matrix\n",
    "    zero_places = findall(M .== 0)\n",
    "    number_of_missing_ones = m - (d₁*d₂ - length(zero_places))\n",
    "    number_of_missing_ones > 0 && (M[shuffle(zero_places)[1:number_of_missing_ones]] .= 1)\n",
    "    \n",
    "    # Then randomize matrix by permutating rows and columns a couple times\n",
    "    for i in 1:10\n",
    "        M .= M[shuffle(1:end), :] # shuffle rows\n",
    "        M .= M[:, shuffle(1:end)] # shuffle columns\n",
    "    end\n",
    "    \n",
    "    M\n",
    "end"
   ]
  },
  {
   "cell_type": "code",
   "execution_count": 5,
   "metadata": {},
   "outputs": [
    {
     "data": {
      "text/plain": [
       "maskToMatrix (generic function with 1 method)"
      ]
     },
     "execution_count": 5,
     "metadata": {},
     "output_type": "execute_result"
    }
   ],
   "source": [
    "function maskToMatrix(Φᴹ)\n",
    "    m = convert(Int, sum(Φᴹ))\n",
    "    d₁, d₂ = size(Φᴹ)\n",
    "\n",
    "    Φ = zeros(m, length(Φᴹ))\n",
    "    non_zero_places = findall(vec(Φᴹ) .== 1)\n",
    "    for i in 1:m\n",
    "        Φ[i, non_zero_places[i]] = 1\n",
    "    end\n",
    "    return Φ\n",
    "end"
   ]
  },
  {
   "cell_type": "markdown",
   "metadata": {},
   "source": [
    "### Generate data\n",
    "\n",
    "#### That's how Chirstian generated the data to compare algorithms:"
   ]
  },
  {
   "cell_type": "code",
   "execution_count": 6,
   "metadata": {},
   "outputs": [
    {
     "name": "stdout",
     "output_type": "stream",
     "text": [
      "size(Xᴳᵀ) = (60, 40)\n",
      "rank(Xᴳᵀ) = 18\n",
      "rank(y) = 40\n"
     ]
    }
   ],
   "source": [
    "d₁, d₂, r, s = 60, 40, 7, 15\n",
    "df_LR = r * (d₁ + d₂ - r) # Number of degrees of freedom of the setting\n",
    "m = floor(Int, min(1.05 * df_LR, d₁ * d₂))\n",
    "\n",
    "dType = ComplexF64\n",
    "\n",
    "# Generate a matrix with rank = r\n",
    "U, Σ, V = randn(dType, d₁, r), Diagonal(randn(r)), randn(dType, d₂, r)\n",
    "\n",
    "# Generate a sparse matrix with exactly s non-zero values\n",
    "S = zeros(d₁, d₂)\n",
    "S[randperm(d₁*d₂)[1:s]] = rand(s)\n",
    "\n",
    "# Ground Truth matrix\n",
    "Xᴳᵀ = U * Σ * V' + S\n",
    "\n",
    "@show size(Xᴳᵀ)\n",
    "@show rank(Xᴳᵀ);\n",
    "\n",
    "Φᴹ = generateΦ(d₁, d₂, r, m)\n",
    "Φ = FunctionOperator{dType}(name = \"Φ\", inDims = (d₁, d₂), outDims = (d₁, d₂),\n",
    "    forw = (b,x) -> b .= Φᴹ .* x, backw = (b,x) -> b .= x)\n",
    "y = Φ * Xᴳᵀ\n",
    "@show rank(y);"
   ]
  },
  {
   "cell_type": "code",
   "execution_count": 7,
   "metadata": {},
   "outputs": [
    {
     "name": "stdout",
     "output_type": "stream",
     "text": [
      "k = 0,\trank(L) = 40,\t‖y - Φ * X‖₂ =   0.000,\t‖Xᴳᵀ - X‖₂ = 120.816,\tσ₁ =  43.166,\tϵ =     Inf\n",
      "\t\u001b[31m|S|₍ₛ₊₁₎/(2λ) =   0.863, σᵣ₊₁ =   3.512\u001b[0m\n",
      "k = 1,\trank(L) = 40,\t‖y - Φ * X‖₂ =  38.540,\t‖Xᴳᵀ - X‖₂ = 126.814,\tσ₁ =  10.792,\tϵ =   3.512\n",
      "\t\u001b[31m|S|₍ₛ₊₁₎/(2λ) =   0.252, σᵣ₊₁ =  16.211\u001b[0m\n",
      "k = 2,\trank(L) = 40,\t‖y - Φ * X‖₂ =   6.990,\t‖Xᴳᵀ - X‖₂ = 145.549,\tσ₁ =  84.028,\tϵ =   3.512\n",
      "\t\u001b[31m|S|₍ₛ₊₁₎/(2λ) = 0.00925, σᵣ₊₁ = 224.142\u001b[0m\n",
      "k = 3,\trank(L) = 27,\t‖y - Φ * X‖₂ =   1.079,\t‖Xᴳᵀ - X‖₂ = 1398.945,\tσ₁ = 859.507,\tϵ =   3.512\n",
      "\t\u001b[31m|S|₍ₛ₊₁₎/(2λ) =  0.0085, σᵣ₊₁ = 107.791\u001b[0m\n",
      "k = 4,\trank(L) = 27,\t‖y - Φ * X‖₂ =   1.119,\t‖Xᴳᵀ - X‖₂ = 745.841,\tσ₁ = 472.684,\tϵ =   3.512\n",
      "\t\u001b[31m|S|₍ₛ₊₁₎/(2λ) = 0.00455, σᵣ₊₁ =  77.054\u001b[0m\n",
      "k = 5,\trank(L) = 27,\t‖y - Φ * X‖₂ =   0.588,\t‖Xᴳᵀ - X‖₂ = 409.986,\tσ₁ = 199.107,\tϵ =   3.512\n",
      "\t\u001b[31m|S|₍ₛ₊₁₎/(2λ) = 0.00308, σᵣ₊₁ =  93.564\u001b[0m\n",
      "k = 6,\trank(L) = 27,\t‖y - Φ * X‖₂ =   0.409,\t‖Xᴳᵀ - X‖₂ = 590.129,\tσ₁ = 426.752,\tϵ =   3.512\n",
      "\t\u001b[31m|S|₍ₛ₊₁₎/(2λ) = 0.00351, σᵣ₊₁ =  84.266\u001b[0m\n",
      "k = 7,\trank(L) = 27,\t‖y - Φ * X‖₂ =   0.466,\t‖Xᴳᵀ - X‖₂ = 525.221,\tσ₁ = 325.490,\tϵ =   3.512\n",
      "\t\u001b[31m|S|₍ₛ₊₁₎/(2λ) = 0.00341, σᵣ₊₁ =  72.345\u001b[0m\n",
      "k = 8,\trank(L) = 27,\t‖y - Φ * X‖₂ =   0.436,\t‖Xᴳᵀ - X‖₂ = 369.337,\tσ₁ = 166.872,\tϵ =   3.512\n",
      "\t\u001b[31m|S|₍ₛ₊₁₎/(2λ) = 0.00392, σᵣ₊₁ =  80.321\u001b[0m\n",
      "k = 9,\trank(L) = 27,\t‖y - Φ * X‖₂ =   0.541,\t‖Xᴳᵀ - X‖₂ = 484.463,\tσ₁ = 276.061,\tϵ =   3.512\n",
      "\t\u001b[31m|S|₍ₛ₊₁₎/(2λ) = 0.00311, σᵣ₊₁ =  86.766\u001b[0m\n",
      "k = 10,\trank(L) = 27,\t‖y - Φ * X‖₂ =   0.409,\t‖Xᴳᵀ - X‖₂ = 479.761,\tσ₁ = 251.841,\tϵ =   3.512\n",
      "\t\u001b[31m|S|₍ₛ₊₁₎/(2λ) = 0.00418, σᵣ₊₁ =  85.172\u001b[0m\n",
      "k = 11,\trank(L) = 27,\t‖y - Φ * X‖₂ =   0.589,\t‖Xᴳᵀ - X‖₂ = 498.524,\tσ₁ = 277.868,\tϵ =   3.512\n",
      "\t\u001b[31m|S|₍ₛ₊₁₎/(2λ) = 0.00343, σᵣ₊₁ =  61.853\u001b[0m\n",
      "k = 12,\trank(L) = 27,\t‖y - Φ * X‖₂ =   0.450,\t‖Xᴳᵀ - X‖₂ = 385.070,\tσ₁ = 234.830,\tϵ =   3.512\n",
      "\t\u001b[31m|S|₍ₛ₊₁₎/(2λ) = 0.00347, σᵣ₊₁ =  89.358\u001b[0m\n",
      "k = 13,\trank(L) = 27,\t‖y - Φ * X‖₂ =   0.450,\t‖Xᴳᵀ - X‖₂ = 923.117,\tσ₁ = 839.297,\tϵ =   3.512\n",
      "\t\u001b[31m|S|₍ₛ₊₁₎/(2λ) = 0.00472, σᵣ₊₁ =  74.090\u001b[0m\n",
      "k = 14,\trank(L) = 27,\t‖y - Φ * X‖₂ =   0.592,\t‖Xᴳᵀ - X‖₂ = 486.405,\tσ₁ = 253.030,\tϵ =   3.512\n",
      "\t\u001b[31m|S|₍ₛ₊₁₎/(2λ) = 0.00502, σᵣ₊₁ =  85.733\u001b[0m\n",
      "k = 15,\trank(L) = 27,\t‖y - Φ * X‖₂ =   0.623,\t‖Xᴳᵀ - X‖₂ = 804.467,\tσ₁ = 672.105,\tϵ =   3.512\n",
      "\t\u001b[31m|S|₍ₛ₊₁₎/(2λ) = 0.00458, σᵣ₊₁ =  69.749\u001b[0m\n",
      "k = 16,\trank(L) = 27,\t‖y - Φ * X‖₂ =   0.613,\t‖Xᴳᵀ - X‖₂ = 408.434,\tσ₁ = 215.874,\tϵ =   3.512\n",
      "\t\u001b[31m|S|₍ₛ₊₁₎/(2λ) = 0.00493, σᵣ₊₁ =  76.351\u001b[0m\n",
      "k = 17,\trank(L) = 27,\t‖y - Φ * X‖₂ =   0.549,\t‖Xᴳᵀ - X‖₂ = 374.302,\tσ₁ = 177.246,\tϵ =   3.512\n",
      "\t\u001b[31m|S|₍ₛ₊₁₎/(2λ) = 0.00549, σᵣ₊₁ =  77.231\u001b[0m\n",
      "k = 18,\trank(L) = 27,\t‖y - Φ * X‖₂ =   0.589,\t‖Xᴳᵀ - X‖₂ = 571.237,\tσ₁ = 430.999,\tϵ =   3.512\n",
      "\t\u001b[31m|S|₍ₛ₊₁₎/(2λ) = 0.00546, σᵣ₊₁ =  78.640\u001b[0m\n",
      "k = 19,\trank(L) = 27,\t‖y - Φ * X‖₂ =   0.657,\t‖Xᴳᵀ - X‖₂ = 513.025,\tσ₁ = 307.796,\tϵ =   3.512\n",
      "\t\u001b[31m|S|₍ₛ₊₁₎/(2λ) = 0.00495, σᵣ₊₁ =  78.193\u001b[0m\n",
      "k = 20,\trank(L) = 27,\t‖y - Φ * X‖₂ =   0.598,\t‖Xᴳᵀ - X‖₂ = 378.902,\tσ₁ = 190.210,\tϵ =   3.512\n",
      " 10.693367 seconds (13.73 M allocations: 5.225 GiB, 6.53% gc time)\n"
     ]
    }
   ],
   "source": [
    "@time RPCA_IRLS(Xᴳᵀ, y, Φ, N = 20, r̃ = r, s̃ = s, λ = 1, μ = 0.5, δ = 0.5, verbose = true);"
   ]
  },
  {
   "cell_type": "code",
   "execution_count": null,
   "metadata": {},
   "outputs": [],
   "source": []
  }
 ],
 "metadata": {
  "kernelspec": {
   "display_name": "Julia 1.4.1",
   "language": "julia",
   "name": "julia-1.4"
  },
  "language_info": {
   "file_extension": ".jl",
   "mimetype": "application/julia",
   "name": "julia",
   "version": "1.4.1"
  }
 },
 "nbformat": 4,
 "nbformat_minor": 4
}
