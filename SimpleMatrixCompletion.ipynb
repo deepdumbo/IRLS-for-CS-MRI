{
 "cells": [
  {
   "cell_type": "code",
   "execution_count": 10,
   "metadata": {},
   "outputs": [
    {
     "name": "stderr",
     "output_type": "stream",
     "text": [
      "┌ Info: Precompiling MATLAB [10e44e05-a98a-55b3-a45b-ba969058deb6]\n",
      "└ @ Base loading.jl:1260\n"
     ]
    }
   ],
   "source": [
    "using LinearAlgebra, ToeplitzMatrices, Random, IterativeSolvers, FunctionOperators,\n",
    "    EllipsisNotation, Printf, MATLAB"
   ]
  },
  {
   "cell_type": "markdown",
   "metadata": {},
   "source": [
    "### The algorithm itself"
   ]
  },
  {
   "cell_type": "code",
   "execution_count": 27,
   "metadata": {},
   "outputs": [
    {
     "data": {
      "text/plain": [
       "HM_IRLS (generic function with 1 method)"
      ]
     },
     "execution_count": 27,
     "metadata": {},
     "output_type": "execute_result"
    }
   ],
   "source": [
    "function HM_IRLS(\n",
    "        Xᴳᵀ::AbstractArray,                   # ground truth for MSE evaluation\n",
    "        y::AbstractArray,                     # under-sampled data\n",
    "        Φ::FunctionOperator;                  # sampling operator\n",
    "        shape::NTuple = size(Xᴳᵀ),            # size of output matrix\n",
    "        r̃::Int = 0,                           # rank estimate of solution\n",
    "        maxIter::Int = 3,                     # number of CG iteration steps\n",
    "        N::Int = 10,                          # number of iterations\n",
    "        verbose::Bool = false)                # print rank and loss value in each iteration\n",
    "    \n",
    "    dType = eltype(y)\n",
    "    d₁, d₂ = shape\n",
    "    r̃ == 0 && (r̃ = rank(Xᴳᵀ))\n",
    "    \n",
    "    ϵᵏ = Inf\n",
    "    Xᵏ = Φ' * y\n",
    "    \n",
    "    for k in 1:N\n",
    "\"\"\"\n",
    "    2. Find best rank-(r̃ + 1) approximation of Xᵏ to obtain\n",
    "        𝒯ᵣ(Xᵏ) = Uᵏ * diag(σᵢᵏ)ᵢ₌₁ʳ * Vᵏ' and σᵣ₊₁ᵏ \n",
    "\"\"\"\n",
    "        F = svd(Xᵏ)\n",
    "        Uᵏ, σ, Vᵏ = F.U[:, 1:r̃], F.S, F.V[:, 1:r̃]\n",
    "        \n",
    "\"\"\"     update smoothing:                                 (2.91) \"\"\"\n",
    "        ϵᵏ = min(ϵᵏ, σ[r̃+1])\n",
    "        \n",
    "        r, n, s, e = rank(Xᵏ), norm₂(Xᴳᵀ - Xᵏ), σ[1], ϵᵏ\n",
    "        n, s, e = @sprintf(\"%.3f\", n), @sprintf(\"%.3f\", s), @sprintf(\"%.3f\", e)\n",
    "        println(\"k = $(k-1),\\trank(Xᵏ) = $r,\\t‖Xᴳᵀ - Xᵏ‖₂ = $n, σ₁ = $s, ϵᵏ = $e\")\n",
    "        \n",
    "\"\"\"\n",
    "    3. Update Wᵏ as in (2.57), using parameters ϵ = ϵᵏ and p in (2.58) and (2.59), and the\n",
    "        information Uᵏ , Vᵏ and σ₁ᵏ, ..., σᵣ₊₁ᵏ from item 2.\n",
    "\n",
    "        (Lines below are based on Remark 2.3.2, the special case for p = 0)\n",
    "\"\"\"\n",
    "        # Hᵏ = [1 / (max(σ[i], ϵᵏ) * max(σ[j], ϵᵏ))  for i in 1:r̃+1, j in 1:r̃+1]\n",
    "        #Wᵏ = FunctionOperator{dType}(name = \"Wᵏ\", inDims = (d₁, d₂), outDims = (d₁, d₂),\n",
    "        #    forw = Z -> Uᵏ * (Hᵏ .* (Uᵏ' * Z * Vᵏ)) * Vᵏ')\n",
    "        \n",
    "\"\"\"\n",
    "    1. Use a conjugate gradient method to solve linearly constrained quadratic program\n",
    "         Xᵏ = arg minₓ ⟨X,Wᵏ⁻¹(X)⟩ s.t. Φ(X) = y         (2.90)\n",
    "\"\"\"\n",
    "        \n",
    "        Hᵏᵤᵥ = [1 / (max(σ[i], ϵᵏ) * max(σ[j], ϵᵏ))  for i in 1:r̃, j in 1:r̃] # the upper-left (r × r) block of (d₁ × d₂) Hᵏ matrix\n",
    "        dHᵏ = reshape([1 / (max(σ[r̃+1], ϵᵏ) * max(σ[j], ϵᵏ))  for j in 1:r̃], :, 1) # the first column of Hᵏᵤᵥ⟂\n",
    "        Pᵏ = FunctionOperator{dType}(name=\"Pᵏ\", inDims = (r̃*(r̃+d₁+d₂),), outDims = (d₁, d₂),\n",
    "            forw = γ -> begin\n",
    "                    γ₁ = reshape(γ[1:r̃^2], r̃, r̃)\n",
    "                    γ₂ = reshape(γ[r̃^2+1:r̃*(r̃+d₁)], d₁, r̃)\n",
    "                    γ₃ = reshape(γ[r̃*(r̃+d₁)+1:r̃*(r̃+d₁+d₂)], r̃, d₂)\n",
    "                    # According to (2.169) I would expect the following:\n",
    "                    #Uᵏ * γ₁ * Vᵏ' + Uᵏ * γ₂' * (I - Vᵏ*Vᵏ') + (I - Uᵏ*Uᵏ') * γ₃' * Vᵏ'\n",
    "                    # But in proj_Oprange_tangspace.m I found the following:\n",
    "                    (Uᵏ * γ₁ + γ₂) * Vᵏ' + Uᵏ * γ₃\n",
    "                end,\n",
    "            backw = Φᵃy -> begin\n",
    "                    γ₁ = Uᵏ' * Φᵃy * Vᵏ\n",
    "                    γ₂ = (I - Uᵏ*Uᵏ') * Φᵃy * Vᵏ\n",
    "                    γ₃ = Uᵏ' * Φᵃy * (I - Vᵏ*Vᵏ')\n",
    "                    vcat(vec(γ₁), vec(γ₂), vec(γ₃))\n",
    "                end)\n",
    "        b = Pᵏ' * Φ' * y\n",
    "        𝒟⁻¹ = I / Diagonal(vcat(vec(Hᵏᵤᵥ), vec(kron(dHᵏ, ones(1, d₁))'), vec(kron(dHᵏ, ones(1, d₂)))))\n",
    "        CG_op = FunctionOperator{dType}(name = \"CG_op\", inDims = (r̃*(r̃+d₁+d₂),), outDims = (r̃*(r̃+d₁+d₂),),\n",
    "            forw = γ ->  begin\n",
    "                    (ϵᵏ^2 * I / (𝒟⁻¹ - ϵᵏ^2 * I)) * γ + Pᵏ' * Φ' * Φ * Pᵏ * γ\n",
    "                end)\n",
    "        γᵏ = cg(CG_op, b, maxiter = maxIter) # 2.167\n",
    "        rᵏ = y - Φ * Pᵏ * γᵏ\n",
    "        γᵏ_tilde = (𝒟⁻¹ / (𝒟⁻¹ - ϵᵏ^2 * I)) * γᵏ - Pᵏ' * Φ' * rᵏ\n",
    "        Xᵏ = Φ' * rᵏ + Pᵏ * γᵏ_tilde   # 2.168\n",
    "    end\n",
    "    \n",
    "    #println(\"k = $maxIter,\\trank(Xᵏ) = $r,\\t‖Xᴳᵀ - Xᵏ‖₂ = $n, σ₁ = $s, ϵᵏ = $e\")\n",
    "    \n",
    "    Xᵏ\n",
    "end"
   ]
  },
  {
   "cell_type": "markdown",
   "metadata": {},
   "source": [
    "### Some helper functions"
   ]
  },
  {
   "cell_type": "code",
   "execution_count": 12,
   "metadata": {},
   "outputs": [],
   "source": [
    "import Base.size\n",
    "function Base.size(FO::FunctionOperator, d::Int)\n",
    "    @assert d in [1, 2]\n",
    "    prod(d == 1 ? FO.outDims : FO.inDims)\n",
    "end"
   ]
  },
  {
   "cell_type": "code",
   "execution_count": 13,
   "metadata": {},
   "outputs": [
    {
     "data": {
      "text/plain": [
       "#14 (generic function with 1 method)"
      ]
     },
     "execution_count": 13,
     "metadata": {},
     "output_type": "execute_result"
    }
   ],
   "source": [
    "norm₂ = (A) -> svdvals(A)[1]"
   ]
  },
  {
   "cell_type": "code",
   "execution_count": 14,
   "metadata": {},
   "outputs": [
    {
     "data": {
      "text/plain": [
       "generateΦ (generic function with 1 method)"
      ]
     },
     "execution_count": 14,
     "metadata": {},
     "output_type": "execute_result"
    }
   ],
   "source": [
    "# This function randomly samples a $(d₁ \\times d₂)$ sparse matrix with ones at $m$ randomly chosen\n",
    "# coordinates (uniform without replacement). The output matrix has at least $r$ non-zero entries\n",
    "# in each row and each column, where $r$ is a specified positive integer. The number of ones in the\n",
    "# output matrix is exactly $m$.\n",
    "function generateΦ(d₁, d₂, r, m)\n",
    "    @assert max(d₁, d₂) * r ≤ m\n",
    "    @assert m ≤ d₁ * d₂\n",
    "    @assert r ≤ d₁\n",
    "    @assert r ≤ d₂\n",
    "    \n",
    "    # generate a square matrix where each row and each column has exactly r ones\n",
    "    initial = Circulant([fill(1, r)..., fill(0, min(d₁, d₂) - r)...])\n",
    "    \n",
    "    # Extend that matrix to a d₁×d₂ matrix where each row and each column has at least r ones\n",
    "    # That is accomplished by repeating the \"initial\" matrix and then cropping\n",
    "    if d₁ < d₂\n",
    "        M = repeat(initial, outer = (1, ceil(Int, d₂ / d₁)))\n",
    "    elseif d₁ > d₂\n",
    "        M = repeat(initial, outer = (ceil(Int, d₁ / d₂), 1))\n",
    "    else\n",
    "        M = initial\n",
    "    end\n",
    "    M = M[1:d₁, 1:d₂]\n",
    "    \n",
    "    # Randomly switch zeros to ones until exactly m number of ones are in the matrix\n",
    "    zero_places = findall(M .== 0)\n",
    "    number_of_missing_ones = m - (d₁*d₂ - length(zero_places))\n",
    "    number_of_missing_ones > 0 && (M[shuffle(zero_places)[1:number_of_missing_ones]] .= 1)\n",
    "    \n",
    "    # Then randomize matrix by permutating rows and columns a couple times\n",
    "    for i in 1:10\n",
    "        M .= M[shuffle(1:end), :] # shuffle rows\n",
    "        M .= M[:, shuffle(1:end)] # shuffle columns\n",
    "    end\n",
    "    \n",
    "    M\n",
    "end"
   ]
  },
  {
   "cell_type": "code",
   "execution_count": 15,
   "metadata": {},
   "outputs": [
    {
     "data": {
      "text/plain": [
       "maskToMatrix (generic function with 1 method)"
      ]
     },
     "execution_count": 15,
     "metadata": {},
     "output_type": "execute_result"
    }
   ],
   "source": [
    "function maskToMatrix(Φᴹ)\n",
    "    m = convert(Int, sum(Φᴹ))\n",
    "    d₁, d₂ = size(Φᴹ)\n",
    "\n",
    "    Φ = zeros(m, length(Φᴹ))\n",
    "    non_zero_places = findall(vec(Φᴹ) .== 1)\n",
    "    for i in 1:m\n",
    "        Φ[i, non_zero_places[i]] = 1\n",
    "    end\n",
    "end"
   ]
  },
  {
   "cell_type": "markdown",
   "metadata": {},
   "source": [
    "### Generate data\n",
    "\n",
    "#### That's how Chirstian generated the data to compare algorithms:"
   ]
  },
  {
   "cell_type": "code",
   "execution_count": 16,
   "metadata": {},
   "outputs": [
    {
     "name": "stdout",
     "output_type": "stream",
     "text": [
      "size(Xᴳᵀ) = (100, 100)\n",
      "rank(Xᴳᵀ) = 7\n",
      "rank(y) = 100\n"
     ]
    }
   ],
   "source": [
    "d₁, d₂, r = 100, 100, 7\n",
    "df_LR = r * (d₁ + d₂ - r) # Number of degrees of freedom of the setting\n",
    "m = floor(Int, min(1.05 * df_LR, d₁ * d₂))\n",
    "\n",
    "dType = ComplexF64\n",
    "U, S, V = randn(dType, d₁, r), Diagonal(randn(r)), randn(dType, d₂, r)\n",
    "Xᴳᵀ = U * S * V' # Ground Truth matrix\n",
    "\n",
    "@show size(Xᴳᵀ)\n",
    "@show rank(Xᴳᵀ);\n",
    "\n",
    "Φᴹ = generateΦ(d₁, d₂, r, m)\n",
    "Φ = FunctionOperator{dType}(name = \"Φ\", inDims = (d₁, d₂), outDims = (d₁, d₂),\n",
    "    forw = (b,x) -> b .= Φᴹ .* x, backw = (b,x) -> b .= x)\n",
    "y = Φ * Xᴳᵀ\n",
    "@show rank(y);"
   ]
  },
  {
   "cell_type": "code",
   "execution_count": 17,
   "metadata": {},
   "outputs": [
    {
     "data": {
      "text/plain": [
       "true"
      ]
     },
     "execution_count": 17,
     "metadata": {},
     "output_type": "execute_result"
    }
   ],
   "source": [
    "Φᴹ .* Xᴳᵀ == Φ * Xᴳᵀ"
   ]
  },
  {
   "cell_type": "code",
   "execution_count": 28,
   "metadata": {},
   "outputs": [
    {
     "name": "stdout",
     "output_type": "stream",
     "text": [
      "k = 0,\trank(Xᵏ) = 100,\t‖Xᴳᵀ - Xᵏ‖₂ = 106.860, σ₁ = 20.932, ϵᵏ = 13.314\n",
      "k = 1,\trank(Xᵏ) = 100,\t‖Xᴳᵀ - Xᵏ‖₂ = 97.274, σ₁ = 33.810, ϵᵏ = 11.593\n",
      "k = 2,\trank(Xᵏ) = 100,\t‖Xᴳᵀ - Xᵏ‖₂ = 79.361, σ₁ = 61.336, ϵᵏ = 9.145\n",
      "k = 3,\trank(Xᵏ) = 100,\t‖Xᴳᵀ - Xᵏ‖₂ = 64.542, σ₁ = 92.086, ϵᵏ = 6.781\n",
      "k = 4,\trank(Xᵏ) = 100,\t‖Xᴳᵀ - Xᵏ‖₂ = 54.854, σ₁ = 107.337, ϵᵏ = 5.181\n",
      "k = 5,\trank(Xᵏ) = 100,\t‖Xᴳᵀ - Xᵏ‖₂ = 49.916, σ₁ = 114.319, ϵᵏ = 4.150\n",
      "k = 6,\trank(Xᵏ) = 100,\t‖Xᴳᵀ - Xᵏ‖₂ = 45.453, σ₁ = 117.464, ϵᵏ = 3.170\n",
      "k = 7,\trank(Xᵏ) = 100,\t‖Xᴳᵀ - Xᵏ‖₂ = 40.476, σ₁ = 118.937, ϵᵏ = 2.279\n",
      "k = 8,\trank(Xᵏ) = 100,\t‖Xᴳᵀ - Xᵏ‖₂ = 36.148, σ₁ = 119.887, ϵᵏ = 1.674\n",
      "k = 9,\trank(Xᵏ) = 100,\t‖Xᴳᵀ - Xᵏ‖₂ = 31.966, σ₁ = 120.599, ϵᵏ = 1.134\n",
      "k = 10,\trank(Xᵏ) = 100,\t‖Xᴳᵀ - Xᵏ‖₂ = 28.252, σ₁ = 121.172, ϵᵏ = 0.788\n",
      "k = 11,\trank(Xᵏ) = 100,\t‖Xᴳᵀ - Xᵏ‖₂ = 25.382, σ₁ = 121.572, ϵᵏ = 0.606\n",
      "k = 12,\trank(Xᵏ) = 100,\t‖Xᴳᵀ - Xᵏ‖₂ = 23.151, σ₁ = 121.826, ϵᵏ = 0.488\n",
      "k = 13,\trank(Xᵏ) = 100,\t‖Xᴳᵀ - Xᵏ‖₂ = 21.232, σ₁ = 122.004, ϵᵏ = 0.399\n",
      "k = 14,\trank(Xᵏ) = 100,\t‖Xᴳᵀ - Xᵏ‖₂ = 19.530, σ₁ = 122.156, ϵᵏ = 0.331\n",
      "k = 15,\trank(Xᵏ) = 100,\t‖Xᴳᵀ - Xᵏ‖₂ = 18.055, σ₁ = 122.297, ϵᵏ = 0.277\n",
      "k = 16,\trank(Xᵏ) = 100,\t‖Xᴳᵀ - Xᵏ‖₂ = 16.808, σ₁ = 122.421, ϵᵏ = 0.240\n",
      "k = 17,\trank(Xᵏ) = 100,\t‖Xᴳᵀ - Xᵏ‖₂ = 15.784, σ₁ = 122.529, ϵᵏ = 0.218\n",
      "k = 18,\trank(Xᵏ) = 100,\t‖Xᴳᵀ - Xᵏ‖₂ = 14.969, σ₁ = 122.624, ϵᵏ = 0.204\n",
      "k = 19,\trank(Xᵏ) = 100,\t‖Xᴳᵀ - Xᵏ‖₂ = 14.323, σ₁ = 122.709, ϵᵏ = 0.192\n",
      "k = 20,\trank(Xᵏ) = 100,\t‖Xᴳᵀ - Xᵏ‖₂ = 13.802, σ₁ = 122.788, ϵᵏ = 0.181\n",
      "k = 21,\trank(Xᵏ) = 100,\t‖Xᴳᵀ - Xᵏ‖₂ = 13.376, σ₁ = 122.863, ϵᵏ = 0.173\n",
      "k = 22,\trank(Xᵏ) = 100,\t‖Xᴳᵀ - Xᵏ‖₂ = 13.024, σ₁ = 122.933, ϵᵏ = 0.165\n",
      "k = 23,\trank(Xᵏ) = 100,\t‖Xᴳᵀ - Xᵏ‖₂ = 12.734, σ₁ = 122.998, ϵᵏ = 0.158\n",
      "k = 24,\trank(Xᵏ) = 100,\t‖Xᴳᵀ - Xᵏ‖₂ = 12.499, σ₁ = 123.059, ϵᵏ = 0.150\n",
      "k = 25,\trank(Xᵏ) = 100,\t‖Xᴳᵀ - Xᵏ‖₂ = 12.315, σ₁ = 123.113, ϵᵏ = 0.143\n",
      "k = 26,\trank(Xᵏ) = 100,\t‖Xᴳᵀ - Xᵏ‖₂ = 12.175, σ₁ = 123.160, ϵᵏ = 0.136\n",
      "k = 27,\trank(Xᵏ) = 100,\t‖Xᴳᵀ - Xᵏ‖₂ = 12.071, σ₁ = 123.199, ϵᵏ = 0.131\n",
      "k = 28,\trank(Xᵏ) = 100,\t‖Xᴳᵀ - Xᵏ‖₂ = 11.994, σ₁ = 123.228, ϵᵏ = 0.127\n",
      "k = 29,\trank(Xᵏ) = 100,\t‖Xᴳᵀ - Xᵏ‖₂ = 11.934, σ₁ = 123.249, ϵᵏ = 0.123\n",
      " 17.226556 seconds (1.86 M allocations: 3.993 GiB, 1.13% gc time)\n"
     ]
    }
   ],
   "source": [
    "@time HM_IRLS(Xᴳᵀ, y, Φ, maxIter = 1000, N = 30);"
   ]
  },
  {
   "cell_type": "markdown",
   "metadata": {},
   "source": [
    "#### An easy problem:"
   ]
  },
  {
   "cell_type": "code",
   "execution_count": 69,
   "metadata": {},
   "outputs": [
    {
     "name": "stdout",
     "output_type": "stream",
     "text": [
      "size(Xᴳᵀ) = (10, 10)\n",
      "rank(Xᴳᵀ) = 1\n",
      "rank(y) = 5\n"
     ]
    }
   ],
   "source": [
    "d = 10\n",
    "v = rand(d)\n",
    "Xᴳᵀ = v * v'  # Ground Truth matrix\n",
    "@show size(Xᴳᵀ)\n",
    "@show rank(Xᴳᵀ)\n",
    "\n",
    "# mask that erases 5 elements:\n",
    "num_of_points_to_erase = 5\n",
    "Φᴹ = reshape(shuffle!([fill(0, num_of_points_to_erase)...,\n",
    "            fill(1, d*d - num_of_points_to_erase)...]), d, d)\n",
    "Φ = FunctionOperator{Float64}(name = \"Φ\", inDims = (d, d), outDims = (d, d),\n",
    "    forw = (b,x) -> b .= Φᴹ .* x, backw = (b,x) -> b .= x)\n",
    "\n",
    "y = Φ * Xᴳᵀ\n",
    "@show rank(y);"
   ]
  },
  {
   "cell_type": "code",
   "execution_count": 71,
   "metadata": {},
   "outputs": [
    {
     "name": "stdout",
     "output_type": "stream",
     "text": [
      "k = 0,\trank(Xᵏ) = 5,\t‖Xᴳᵀ - Xᵏ‖₂ = 0.553, σ₁ = 2.966, ϵᵏ = 0.459\n",
      "k = 1,\trank(Xᵏ) = 5,\t‖Xᴳᵀ - Xᵏ‖₂ = 0.944, σ₁ = 2.891, ϵᵏ = 0.459\n",
      "k = 2,\trank(Xᵏ) = 5,\t‖Xᴳᵀ - Xᵏ‖₂ = 0.743, σ₁ = 2.921, ϵᵏ = 0.459\n",
      "k = 3,\trank(Xᵏ) = 5,\t‖Xᴳᵀ - Xᵏ‖₂ = 0.830, σ₁ = 2.908, ϵᵏ = 0.459\n",
      "k = 4,\trank(Xᵏ) = 5,\t‖Xᴳᵀ - Xᵏ‖₂ = 0.789, σ₁ = 2.914, ϵᵏ = 0.459\n",
      "k = 5,\trank(Xᵏ) = 5,\t‖Xᴳᵀ - Xᵏ‖₂ = 0.808, σ₁ = 2.912, ϵᵏ = 0.459\n",
      "k = 6,\trank(Xᵏ) = 5,\t‖Xᴳᵀ - Xᵏ‖₂ = 0.799, σ₁ = 2.913, ϵᵏ = 0.459\n",
      "k = 7,\trank(Xᵏ) = 5,\t‖Xᴳᵀ - Xᵏ‖₂ = 0.803, σ₁ = 2.912, ϵᵏ = 0.459\n",
      "k = 8,\trank(Xᵏ) = 5,\t‖Xᴳᵀ - Xᵏ‖₂ = 0.801, σ₁ = 2.912, ϵᵏ = 0.459\n",
      "k = 9,\trank(Xᵏ) = 5,\t‖Xᴳᵀ - Xᵏ‖₂ = 0.802, σ₁ = 2.912, ϵᵏ = 0.459\n",
      "  0.023148 seconds (47.02 k allocations: 3.222 MiB)\n"
     ]
    }
   ],
   "source": [
    "@time HM_IRLS(Xᴳᵀ, y, Φ, maxIter = 100, N = 10);"
   ]
  },
  {
   "cell_type": "code",
   "execution_count": null,
   "metadata": {},
   "outputs": [],
   "source": []
  }
 ],
 "metadata": {
  "kernelspec": {
   "display_name": "Julia 1.4.1",
   "language": "julia",
   "name": "julia-1.4"
  },
  "language_info": {
   "file_extension": ".jl",
   "mimetype": "application/julia",
   "name": "julia",
   "version": "1.4.1"
  }
 },
 "nbformat": 4,
 "nbformat_minor": 4
}
