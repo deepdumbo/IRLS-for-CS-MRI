{
 "cells": [
  {
   "cell_type": "code",
   "execution_count": 1,
   "metadata": {},
   "outputs": [],
   "source": [
    "using LinearAlgebra, ToeplitzMatrices, Random, IterativeSolvers, FunctionOperators,\n",
    "    EllipsisNotation, Printf, MATLAB"
   ]
  },
  {
   "cell_type": "markdown",
   "metadata": {},
   "source": [
    "### The algorithm itself"
   ]
  },
  {
   "cell_type": "code",
   "execution_count": 114,
   "metadata": {},
   "outputs": [
    {
     "data": {
      "text/plain": [
       "HM_IRLS (generic function with 2 methods)"
      ]
     },
     "execution_count": 114,
     "metadata": {},
     "output_type": "execute_result"
    }
   ],
   "source": [
    "function HM_IRLS(\n",
    "        Xᴳᵀ::AbstractArray,                   # ground truth for MSE evaluation\n",
    "        y::AbstractArray,                     # under-sampled data\n",
    "        Φ::FunctionOperator,                  # sampling operator\n",
    "        Φᴹ::AbstractArray;\n",
    "        shape::NTuple = size(Xᴳᵀ),            # size of output matrix\n",
    "        r̃::Int = 0,                           # rank estimate of solution\n",
    "        maxIter::Int = 3,                     # number of CG iteration steps\n",
    "        N::Int = 10,                          # number of iterations\n",
    "        verbose::Bool = false)                # print rank and loss value in each iteration\n",
    "    \n",
    "    dType = eltype(y)\n",
    "    d₁, d₂ = shape\n",
    "    r̃ == 0 && (r̃ = rank(Xᴳᵀ))\n",
    "    \n",
    "    ϵᵏ = Inf\n",
    "    Xᵏ = Φ * y\n",
    "    σ = nothing # I just want to make it available outside of the loop\n",
    "    \n",
    "    for k in 1:N\n",
    "\"\"\"\n",
    "    2. Find best rank-(r̃ + 1) approximation of Xᵏ to obtain\n",
    "        𝒯ᵣ(Xᵏ) = Uᵏ * diag(σᵢᵏ)ᵢ₌₁ʳ * Vᵏ' and σᵣ₊₁ᵏ \n",
    "\"\"\"\n",
    "        F = svd(Xᵏ)\n",
    "        Uᵏ, σ, Vᵏ = F.U[:, 1:r̃], F.S, F.V[:, 1:r̃]\n",
    "        \n",
    "\"\"\"     update smoothing:                                 (2.91) \"\"\"\n",
    "        ϵᵏ = min(ϵᵏ, σ[r̃+1])\n",
    "        \n",
    "        r, n, s, e = sum(svdvals(Xᵏ) .> 1e-3), norm₂(Xᴳᵀ - Xᵏ), σ[1], ϵᵏ\n",
    "        n, s, e = @sprintf(\"%.3f\", n), @sprintf(\"%.3f\", s), @sprintf(\"%.3f\", e)\n",
    "        println(\"k = $(k-1),\\trank(Xᵏ) = $r,\\t‖Xᴳᵀ - Xᵏ‖₂ = $n, σ₁ = $s, ϵᵏ = $e\")\n",
    "        \n",
    "\"\"\"\n",
    "    3. Update Wᵏ as in (2.57), using parameters ϵ = ϵᵏ and p in (2.58) and (2.59), and the\n",
    "        information Uᵏ , Vᵏ and σ₁ᵏ, ..., σᵣ₊₁ᵏ from item 2.\n",
    "\n",
    "        (Lines below are based on Remark 2.3.2, the special case for p = 0)\n",
    "\"\"\"\n",
    "        # Hᵏ = [1 / (max(σ[i], ϵᵏ) * max(σ[j], ϵᵏ))  for i in 1:r̃+1, j in 1:r̃+1]\n",
    "        #Wᵏ = FunctionOperator{dType}(name = \"Wᵏ\", inDims = (d₁, d₂), outDims = (d₁, d₂),\n",
    "        #    forw = Z -> Uᵏ * (Hᵏ .* (Uᵏ' * Z * Vᵏ)) * Vᵏ')\n",
    "        \n",
    "\"\"\"\n",
    "    1. Use a conjugate gradient method to solve linearly constrained quadratic program\n",
    "         Xᵏ = arg minₓ ⟨X,Wᵏ⁻¹(X)⟩ s.t. Φ(X) = y         (2.90)\n",
    "\"\"\"\n",
    "        \n",
    "        # the upper-left (r × r) block of (d₁ × d₂) Hᵏ matrix:\n",
    "        Hᵏᵤᵥ = [1 / (max(σ[i], ϵᵏ) * max(σ[j], ϵᵏ))  for i in 1:r̃, j in 1:r̃]\n",
    "        # the first column of Hᵏᵤᵥ⟂:\n",
    "        dHᵏ = reshape([1 / (max(σ[r̃+1], ϵᵏ) * max(σ[j], ϵᵏ))  for j in 1:r̃], :, 1)\n",
    "        Pᵏ = FunctionOperator{dType}(name=\"Pᵏ\", inDims = (r̃*(r̃+d₁+d₂),), outDims = (d₁, d₂),\n",
    "            forw = γ -> begin\n",
    "                    γ₁ = reshape(γ[1:r̃^2], r̃, r̃)\n",
    "                    γ₂ = reshape(γ[r̃^2+1:r̃*(r̃+d₁)], d₁, r̃)\n",
    "                    γ₃ = reshape(γ[r̃*(r̃+d₁)+1:r̃*(r̃+d₁+d₂)], r̃, d₂)\n",
    "                    # According to (2.169), the equation would be:\n",
    "                    # Uᵏ * γ₁ * Vᵏ' + Uᵏ * γ₂' * (I - Vᵏ*Vᵏ') + (I - Uᵏ*Uᵏ') * γ₃' * Vᵏ'\n",
    "                    # But as the columns of γ₃ are orthogonal to the ones in Uᵏ,\n",
    "                    # the rows of γ₂ are orthogonal to the columns of Vᵏ,\n",
    "                    # the expression can be simplified:\n",
    "                    (Uᵏ * γ₁ + γ₂) * Vᵏ' + Uᵏ * γ₃\n",
    "                end,\n",
    "            backw = Φᵃy -> begin\n",
    "                    γ₁ = Uᵏ' * Φᵃy * Vᵏ\n",
    "                    γ₂ = (I - Uᵏ*Uᵏ') * Φᵃy * Vᵏ\n",
    "                    γ₃ = Uᵏ' * Φᵃy * (I - Vᵏ*Vᵏ')\n",
    "                    vcat(vec(γ₁), vec(γ₂), vec(γ₃))\n",
    "                end)\n",
    "        b = Pᵏ' * Φ' * y\n",
    "        𝒟⁻¹ = I / Diagonal(vcat(vec(Hᵏᵤᵥ), vec(kron(dHᵏ, ones(1, d₁))'), vec(kron(dHᵏ, ones(1, d₂)))))\n",
    "        CG_op = FunctionOperator{dType}(name = \"CG_op\", inDims = (r̃*(r̃+d₁+d₂),), outDims = (r̃*(r̃+d₁+d₂),),\n",
    "            forw = γ ->  begin\n",
    "                    (ϵᵏ^2 * I / (𝒟⁻¹ - ϵᵏ^2 * I)) * γ + Pᵏ' * Φ' * Φ * Pᵏ * γ\n",
    "                end)\n",
    "        γᵏ = cg(CG_op, b, maxiter = maxIter) # 2.167\n",
    "        rᵏ = y - Φ * Pᵏ * γᵏ\n",
    "        γᵏ_tilde = (𝒟⁻¹ / (𝒟⁻¹ - ϵᵏ^2 * I)) * γᵏ - Pᵏ' * Φ' * rᵏ\n",
    "        Xᵏ = Φ' * rᵏ + Pᵏ * γᵏ_tilde   # 2.168\n",
    "    end\n",
    "    \n",
    "    r, n, s, e = sum(svdvals(Xᵏ) .> 1e-3), norm₂(Xᴳᵀ - Xᵏ), σ[1], ϵᵏ\n",
    "    n, s, e = @sprintf(\"%.3f\", n), @sprintf(\"%.3f\", s), @sprintf(\"%.3f\", e)\n",
    "    println(\"k = $N,\\trank(Xᵏ) = $r,\\t‖Xᴳᵀ - Xᵏ‖₂ = $n, σ₁ = $s, ϵᵏ = $e\")\n",
    "    \n",
    "    Xᵏ\n",
    "end"
   ]
  },
  {
   "cell_type": "markdown",
   "metadata": {},
   "source": [
    "### Some helper functions"
   ]
  },
  {
   "cell_type": "code",
   "execution_count": 115,
   "metadata": {},
   "outputs": [],
   "source": [
    "import Base.size\n",
    "function Base.size(FO::FunctionOperator, d::Int)\n",
    "    @assert d in [1, 2]\n",
    "    prod(d == 1 ? FO.outDims : FO.inDims)\n",
    "end"
   ]
  },
  {
   "cell_type": "code",
   "execution_count": 116,
   "metadata": {},
   "outputs": [
    {
     "data": {
      "text/plain": [
       "#234 (generic function with 1 method)"
      ]
     },
     "execution_count": 116,
     "metadata": {},
     "output_type": "execute_result"
    }
   ],
   "source": [
    "norm₂ = (A) -> svdvals(A)[1]"
   ]
  },
  {
   "cell_type": "code",
   "execution_count": 117,
   "metadata": {},
   "outputs": [
    {
     "data": {
      "text/plain": [
       "generateΦ (generic function with 1 method)"
      ]
     },
     "execution_count": 117,
     "metadata": {},
     "output_type": "execute_result"
    }
   ],
   "source": [
    "# This function randomly samples a $(d₁ \\times d₂)$ sparse matrix with ones at $m$ randomly chosen\n",
    "# coordinates (uniform without replacement). The output matrix has at least $r$ non-zero entries\n",
    "# in each row and each column, where $r$ is a specified positive integer. The number of ones in the\n",
    "# output matrix is exactly $m$.\n",
    "function generateΦ(d₁, d₂, r, m)\n",
    "    @assert max(d₁, d₂) * r ≤ m\n",
    "    @assert m ≤ d₁ * d₂\n",
    "    @assert r ≤ d₁\n",
    "    @assert r ≤ d₂\n",
    "    \n",
    "    # generate a square matrix where each row and each column has exactly r ones\n",
    "    initial = Circulant([fill(1, r)..., fill(0, min(d₁, d₂) - r)...])\n",
    "    \n",
    "    # Extend that matrix to a d₁×d₂ matrix where each row and each column has at least r ones\n",
    "    # That is accomplished by repeating the \"initial\" matrix and then cropping\n",
    "    if d₁ < d₂\n",
    "        M = repeat(initial, outer = (1, ceil(Int, d₂ / d₁)))\n",
    "    elseif d₁ > d₂\n",
    "        M = repeat(initial, outer = (ceil(Int, d₁ / d₂), 1))\n",
    "    else\n",
    "        M = initial\n",
    "    end\n",
    "    M = M[1:d₁, 1:d₂]\n",
    "    \n",
    "    # Randomly switch zeros to ones until exactly m number of ones are in the matrix\n",
    "    zero_places = findall(M .== 0)\n",
    "    number_of_missing_ones = m - (d₁*d₂ - length(zero_places))\n",
    "    number_of_missing_ones > 0 && (M[shuffle(zero_places)[1:number_of_missing_ones]] .= 1)\n",
    "    \n",
    "    # Then randomize matrix by permutating rows and columns a couple times\n",
    "    for i in 1:10\n",
    "        M .= M[shuffle(1:end), :] # shuffle rows\n",
    "        M .= M[:, shuffle(1:end)] # shuffle columns\n",
    "    end\n",
    "    \n",
    "    M\n",
    "end"
   ]
  },
  {
   "cell_type": "code",
   "execution_count": 118,
   "metadata": {},
   "outputs": [
    {
     "data": {
      "text/plain": [
       "maskToMatrix (generic function with 1 method)"
      ]
     },
     "execution_count": 118,
     "metadata": {},
     "output_type": "execute_result"
    }
   ],
   "source": [
    "function maskToMatrix(Φᴹ)\n",
    "    m = convert(Int, sum(Φᴹ))\n",
    "    d₁, d₂ = size(Φᴹ)\n",
    "\n",
    "    Φ = zeros(m, length(Φᴹ))\n",
    "    non_zero_places = findall(vec(Φᴹ) .== 1)\n",
    "    for i in 1:m\n",
    "        Φ[i, non_zero_places[i]] = 1\n",
    "    end\n",
    "    return Φ\n",
    "end"
   ]
  },
  {
   "cell_type": "markdown",
   "metadata": {},
   "source": [
    "### Generate data\n",
    "\n",
    "#### That's how Chirstian generated the data to compare algorithms:"
   ]
  },
  {
   "cell_type": "code",
   "execution_count": 119,
   "metadata": {},
   "outputs": [
    {
     "name": "stdout",
     "output_type": "stream",
     "text": [
      "size(Xᴳᵀ) = (40, 40)\n",
      "rank(Xᴳᵀ) = 7\n",
      "rank(y) = 40\n"
     ]
    }
   ],
   "source": [
    "d₁, d₂, r = 40, 40, 7\n",
    "df_LR = r * (d₁ + d₂ - r) # Number of degrees of freedom of the setting\n",
    "m = floor(Int, min(1.05 * df_LR, d₁ * d₂))\n",
    "\n",
    "dType = ComplexF64\n",
    "U, S, V = randn(dType, d₁, r), Diagonal(randn(r)), randn(dType, d₂, r)\n",
    "Xᴳᵀ = U * S * V' # Ground Truth matrix\n",
    "\n",
    "@show size(Xᴳᵀ)\n",
    "@show rank(Xᴳᵀ);\n",
    "\n",
    "Φᴹ = generateΦ(d₁, d₂, r, m)\n",
    "Φ = FunctionOperator{dType}(name = \"Φ\", inDims = (d₁, d₂), outDims = (d₁, d₂),\n",
    "    forw = (b,x) -> b .= Φᴹ .* x, backw = (b,x) -> b .= x)\n",
    "y = Φ * Xᴳᵀ\n",
    "@show rank(y);"
   ]
  },
  {
   "cell_type": "code",
   "execution_count": 120,
   "metadata": {},
   "outputs": [
    {
     "data": {
      "text/plain": [
       "true"
      ]
     },
     "execution_count": 120,
     "metadata": {},
     "output_type": "execute_result"
    }
   ],
   "source": [
    "Φᴹ .* Xᴳᵀ == Φ * Xᴳᵀ"
   ]
  },
  {
   "cell_type": "code",
   "execution_count": 121,
   "metadata": {},
   "outputs": [
    {
     "name": "stdout",
     "output_type": "stream",
     "text": [
      "k = 0,\trank(Xᵏ) = 40,\t‖Xᴳᵀ - Xᵏ‖₂ = 44.486, σ₁ = 22.911, ϵᵏ = 11.187\n",
      "k = 1,\trank(Xᵏ) = 40,\t‖Xᴳᵀ - Xᵏ‖₂ = 35.378, σ₁ = 36.407, ϵᵏ = 7.509\n",
      "k = 2,\trank(Xᵏ) = 40,\t‖Xᴳᵀ - Xᵏ‖₂ = 26.843, σ₁ = 48.331, ϵᵏ = 4.962\n",
      "k = 3,\trank(Xᵏ) = 40,\t‖Xᴳᵀ - Xᵏ‖₂ = 21.862, σ₁ = 53.713, ϵᵏ = 3.306\n",
      "k = 4,\trank(Xᵏ) = 40,\t‖Xᴳᵀ - Xᵏ‖₂ = 18.263, σ₁ = 56.239, ϵᵏ = 2.367\n",
      "k = 5,\trank(Xᵏ) = 40,\t‖Xᴳᵀ - Xᵏ‖₂ = 15.126, σ₁ = 57.794, ϵᵏ = 1.714\n",
      "k = 6,\trank(Xᵏ) = 40,\t‖Xᴳᵀ - Xᵏ‖₂ = 12.406, σ₁ = 58.860, ϵᵏ = 1.186\n",
      "k = 7,\trank(Xᵏ) = 40,\t‖Xᴳᵀ - Xᵏ‖₂ = 10.097, σ₁ = 59.621, ϵᵏ = 0.779\n",
      "k = 8,\trank(Xᵏ) = 40,\t‖Xᴳᵀ - Xᵏ‖₂ = 8.099, σ₁ = 60.140, ϵᵏ = 0.499\n",
      "k = 9,\trank(Xᵏ) = 40,\t‖Xᴳᵀ - Xᵏ‖₂ = 6.361, σ₁ = 60.519, ϵᵏ = 0.334\n",
      "k = 10,\trank(Xᵏ) = 40,\t‖Xᴳᵀ - Xᵏ‖₂ = 4.942, σ₁ = 60.855, ϵᵏ = 0.245\n",
      "k = 11,\trank(Xᵏ) = 40,\t‖Xᴳᵀ - Xᵏ‖₂ = 3.842, σ₁ = 61.146, ϵᵏ = 0.188\n",
      "k = 12,\trank(Xᵏ) = 40,\t‖Xᴳᵀ - Xᵏ‖₂ = 3.018, σ₁ = 61.366, ϵᵏ = 0.142\n",
      "k = 13,\trank(Xᵏ) = 40,\t‖Xᴳᵀ - Xᵏ‖₂ = 2.492, σ₁ = 61.507, ϵᵏ = 0.112\n",
      "k = 14,\trank(Xᵏ) = 39,\t‖Xᴳᵀ - Xᵏ‖₂ = 2.305, σ₁ = 61.589, ϵᵏ = 0.098\n",
      "k = 15,\trank(Xᵏ) = 39,\t‖Xᴳᵀ - Xᵏ‖₂ = 2.232, σ₁ = 61.642, ϵᵏ = 0.089\n",
      "k = 16,\trank(Xᵏ) = 39,\t‖Xᴳᵀ - Xᵏ‖₂ = 2.197, σ₁ = 61.683, ϵᵏ = 0.081\n",
      "k = 17,\trank(Xᵏ) = 39,\t‖Xᴳᵀ - Xᵏ‖₂ = 2.175, σ₁ = 61.717, ϵᵏ = 0.075\n",
      "k = 18,\trank(Xᵏ) = 40,\t‖Xᴳᵀ - Xᵏ‖₂ = 2.161, σ₁ = 61.746, ϵᵏ = 0.068\n",
      "k = 19,\trank(Xᵏ) = 40,\t‖Xᴳᵀ - Xᵏ‖₂ = 2.151, σ₁ = 61.769, ϵᵏ = 0.062\n",
      "k = 20,\trank(Xᵏ) = 39,\t‖Xᴳᵀ - Xᵏ‖₂ = 2.143, σ₁ = 61.787, ϵᵏ = 0.056\n",
      "k = 21,\trank(Xᵏ) = 39,\t‖Xᴳᵀ - Xᵏ‖₂ = 2.134, σ₁ = 61.799, ϵᵏ = 0.051\n",
      "k = 22,\trank(Xᵏ) = 39,\t‖Xᴳᵀ - Xᵏ‖₂ = 2.120, σ₁ = 61.805, ϵᵏ = 0.047\n",
      "k = 23,\trank(Xᵏ) = 38,\t‖Xᴳᵀ - Xᵏ‖₂ = 2.098, σ₁ = 61.806, ϵᵏ = 0.044\n",
      "k = 24,\trank(Xᵏ) = 38,\t‖Xᴳᵀ - Xᵏ‖₂ = 2.068, σ₁ = 61.802, ϵᵏ = 0.041\n",
      "k = 25,\trank(Xᵏ) = 38,\t‖Xᴳᵀ - Xᵏ‖₂ = 2.030, σ₁ = 61.796, ϵᵏ = 0.039\n",
      "k = 26,\trank(Xᵏ) = 38,\t‖Xᴳᵀ - Xᵏ‖₂ = 1.984, σ₁ = 61.787, ϵᵏ = 0.037\n",
      "k = 27,\trank(Xᵏ) = 38,\t‖Xᴳᵀ - Xᵏ‖₂ = 1.932, σ₁ = 61.777, ϵᵏ = 0.035\n",
      "k = 28,\trank(Xᵏ) = 38,\t‖Xᴳᵀ - Xᵏ‖₂ = 1.872, σ₁ = 61.765, ϵᵏ = 0.034\n",
      "k = 29,\trank(Xᵏ) = 38,\t‖Xᴳᵀ - Xᵏ‖₂ = 1.802, σ₁ = 61.753, ϵᵏ = 0.032\n",
      "k = 30,\trank(Xᵏ) = 38,\t‖Xᴳᵀ - Xᵏ‖₂ = 1.722, σ₁ = 61.739, ϵᵏ = 0.030\n",
      "k = 31,\trank(Xᵏ) = 38,\t‖Xᴳᵀ - Xᵏ‖₂ = 1.628, σ₁ = 61.724, ϵᵏ = 0.028\n",
      "k = 32,\trank(Xᵏ) = 38,\t‖Xᴳᵀ - Xᵏ‖₂ = 1.521, σ₁ = 61.708, ϵᵏ = 0.025\n",
      "k = 33,\trank(Xᵏ) = 37,\t‖Xᴳᵀ - Xᵏ‖₂ = 1.402, σ₁ = 61.690, ϵᵏ = 0.023\n",
      "k = 34,\trank(Xᵏ) = 37,\t‖Xᴳᵀ - Xᵏ‖₂ = 1.276, σ₁ = 61.671, ϵᵏ = 0.020\n",
      "k = 35,\trank(Xᵏ) = 37,\t‖Xᴳᵀ - Xᵏ‖₂ = 1.148, σ₁ = 61.654, ϵᵏ = 0.018\n",
      "k = 36,\trank(Xᵏ) = 36,\t‖Xᴳᵀ - Xᵏ‖₂ = 1.025, σ₁ = 61.641, ϵᵏ = 0.015\n",
      "k = 37,\trank(Xᵏ) = 35,\t‖Xᴳᵀ - Xᵏ‖₂ = 0.908, σ₁ = 61.634, ϵᵏ = 0.013\n",
      "k = 38,\trank(Xᵏ) = 35,\t‖Xᴳᵀ - Xᵏ‖₂ = 0.795, σ₁ = 61.633, ϵᵏ = 0.011\n",
      "k = 39,\trank(Xᵏ) = 34,\t‖Xᴳᵀ - Xᵏ‖₂ = 0.684, σ₁ = 61.635, ϵᵏ = 0.009\n",
      "k = 40,\trank(Xᵏ) = 32,\t‖Xᴳᵀ - Xᵏ‖₂ = 0.571, σ₁ = 61.640, ϵᵏ = 0.008\n",
      "k = 41,\trank(Xᵏ) = 31,\t‖Xᴳᵀ - Xᵏ‖₂ = 0.457, σ₁ = 61.646, ϵᵏ = 0.006\n",
      "k = 42,\trank(Xᵏ) = 28,\t‖Xᴳᵀ - Xᵏ‖₂ = 0.348, σ₁ = 61.653, ϵᵏ = 0.004\n",
      "k = 43,\trank(Xᵏ) = 23,\t‖Xᴳᵀ - Xᵏ‖₂ = 0.251, σ₁ = 61.661, ϵᵏ = 0.003\n",
      "k = 44,\trank(Xᵏ) = 15,\t‖Xᴳᵀ - Xᵏ‖₂ = 0.165, σ₁ = 61.669, ϵᵏ = 0.002\n",
      "k = 45,\trank(Xᵏ) = 8,\t‖Xᴳᵀ - Xᵏ‖₂ = 0.092, σ₁ = 61.677, ϵᵏ = 0.001\n",
      "k = 46,\trank(Xᵏ) = 7,\t‖Xᴳᵀ - Xᵏ‖₂ = 0.039, σ₁ = 61.682, ϵᵏ = 0.000\n",
      "k = 47,\trank(Xᵏ) = 7,\t‖Xᴳᵀ - Xᵏ‖₂ = 0.009, σ₁ = 61.684, ϵᵏ = 0.000\n",
      "k = 48,\trank(Xᵏ) = 7,\t‖Xᴳᵀ - Xᵏ‖₂ = 0.001, σ₁ = 61.685, ϵᵏ = 0.000\n",
      "k = 49,\trank(Xᵏ) = 7,\t‖Xᴳᵀ - Xᵏ‖₂ = 0.000, σ₁ = 61.685, ϵᵏ = 0.000\n",
      "k = 50,\trank(Xᵏ) = 7,\t‖Xᴳᵀ - Xᵏ‖₂ = 0.000, σ₁ = 61.685, ϵᵏ = 0.000\n",
      "k = 51,\trank(Xᵏ) = 7,\t‖Xᴳᵀ - Xᵏ‖₂ = 0.000, σ₁ = 61.685, ϵᵏ = 0.000\n",
      "k = 52,\trank(Xᵏ) = 7,\t‖Xᴳᵀ - Xᵏ‖₂ = 0.000, σ₁ = 61.685, ϵᵏ = 0.000\n",
      "k = 53,\trank(Xᵏ) = 7,\t‖Xᴳᵀ - Xᵏ‖₂ = 0.000, σ₁ = 61.685, ϵᵏ = 0.000\n",
      "k = 54,\trank(Xᵏ) = 7,\t‖Xᴳᵀ - Xᵏ‖₂ = 0.000, σ₁ = 61.685, ϵᵏ = 0.000\n",
      "k = 55,\trank(Xᵏ) = 7,\t‖Xᴳᵀ - Xᵏ‖₂ = 0.000, σ₁ = 61.685, ϵᵏ = 0.000\n",
      "k = 56,\trank(Xᵏ) = 7,\t‖Xᴳᵀ - Xᵏ‖₂ = 0.000, σ₁ = 61.685, ϵᵏ = 0.000\n",
      "k = 57,\trank(Xᵏ) = 7,\t‖Xᴳᵀ - Xᵏ‖₂ = 0.000, σ₁ = 61.685, ϵᵏ = 0.000\n",
      "k = 58,\trank(Xᵏ) = 7,\t‖Xᴳᵀ - Xᵏ‖₂ = 0.000, σ₁ = 61.685, ϵᵏ = 0.000\n",
      "k = 59,\trank(Xᵏ) = 7,\t‖Xᴳᵀ - Xᵏ‖₂ = 0.000, σ₁ = 61.685, ϵᵏ = 0.000\n",
      "k = 60,\trank(Xᵏ) = 7,\t‖Xᴳᵀ - Xᵏ‖₂ = 0.000, σ₁ = 61.685, ϵᵏ = 0.000\n",
      "  9.382287 seconds (6.45 M allocations: 3.512 GiB, 1.52% gc time)\n"
     ]
    }
   ],
   "source": [
    "@time HM_IRLS(Xᴳᵀ, y, Φ, maskToMatrix(Φᴹ), maxIter = 1000, N = 60);"
   ]
  },
  {
   "cell_type": "markdown",
   "metadata": {},
   "source": [
    "#### An easy problem:"
   ]
  },
  {
   "cell_type": "code",
   "execution_count": 69,
   "metadata": {},
   "outputs": [
    {
     "name": "stdout",
     "output_type": "stream",
     "text": [
      "size(Xᴳᵀ) = (10, 10)\n",
      "rank(Xᴳᵀ) = 1\n",
      "rank(y) = 5\n"
     ]
    }
   ],
   "source": [
    "d = 10\n",
    "v = rand(d)\n",
    "Xᴳᵀ = v * v'  # Ground Truth matrix\n",
    "@show size(Xᴳᵀ)\n",
    "@show rank(Xᴳᵀ)\n",
    "\n",
    "# mask that erases 5 elements:\n",
    "num_of_points_to_erase = 5\n",
    "Φᴹ = reshape(shuffle!([fill(0, num_of_points_to_erase)...,\n",
    "            fill(1, d*d - num_of_points_to_erase)...]), d, d)\n",
    "Φ = FunctionOperator{Float64}(name = \"Φ\", inDims = (d, d), outDims = (d, d),\n",
    "    forw = (b,x) -> b .= Φᴹ .* x, backw = (b,x) -> b .= x)\n",
    "\n",
    "y = Φ * Xᴳᵀ\n",
    "@show rank(y);"
   ]
  },
  {
   "cell_type": "code",
   "execution_count": 71,
   "metadata": {},
   "outputs": [
    {
     "name": "stdout",
     "output_type": "stream",
     "text": [
      "k = 0,\trank(Xᵏ) = 5,\t‖Xᴳᵀ - Xᵏ‖₂ = 0.553, σ₁ = 2.966, ϵᵏ = 0.459\n",
      "k = 1,\trank(Xᵏ) = 5,\t‖Xᴳᵀ - Xᵏ‖₂ = 0.944, σ₁ = 2.891, ϵᵏ = 0.459\n",
      "k = 2,\trank(Xᵏ) = 5,\t‖Xᴳᵀ - Xᵏ‖₂ = 0.743, σ₁ = 2.921, ϵᵏ = 0.459\n",
      "k = 3,\trank(Xᵏ) = 5,\t‖Xᴳᵀ - Xᵏ‖₂ = 0.830, σ₁ = 2.908, ϵᵏ = 0.459\n",
      "k = 4,\trank(Xᵏ) = 5,\t‖Xᴳᵀ - Xᵏ‖₂ = 0.789, σ₁ = 2.914, ϵᵏ = 0.459\n",
      "k = 5,\trank(Xᵏ) = 5,\t‖Xᴳᵀ - Xᵏ‖₂ = 0.808, σ₁ = 2.912, ϵᵏ = 0.459\n",
      "k = 6,\trank(Xᵏ) = 5,\t‖Xᴳᵀ - Xᵏ‖₂ = 0.799, σ₁ = 2.913, ϵᵏ = 0.459\n",
      "k = 7,\trank(Xᵏ) = 5,\t‖Xᴳᵀ - Xᵏ‖₂ = 0.803, σ₁ = 2.912, ϵᵏ = 0.459\n",
      "k = 8,\trank(Xᵏ) = 5,\t‖Xᴳᵀ - Xᵏ‖₂ = 0.801, σ₁ = 2.912, ϵᵏ = 0.459\n",
      "k = 9,\trank(Xᵏ) = 5,\t‖Xᴳᵀ - Xᵏ‖₂ = 0.802, σ₁ = 2.912, ϵᵏ = 0.459\n",
      "  0.023148 seconds (47.02 k allocations: 3.222 MiB)\n"
     ]
    }
   ],
   "source": [
    "@time HM_IRLS(Xᴳᵀ, y, Φ, maxIter = 100, N = 10);"
   ]
  },
  {
   "cell_type": "code",
   "execution_count": null,
   "metadata": {},
   "outputs": [],
   "source": []
  }
 ],
 "metadata": {
  "kernelspec": {
   "display_name": "Julia 1.4.1",
   "language": "julia",
   "name": "julia-1.4"
  },
  "language_info": {
   "file_extension": ".jl",
   "mimetype": "application/julia",
   "name": "julia",
   "version": "1.4.1"
  }
 },
 "nbformat": 4,
 "nbformat_minor": 4
}
