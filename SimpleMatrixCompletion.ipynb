{
 "cells": [
  {
   "cell_type": "code",
   "execution_count": 1,
   "metadata": {},
   "outputs": [
    {
     "data": {
      "text/plain": [
       "_svd! (generic function with 1 method)"
      ]
     },
     "execution_count": 1,
     "metadata": {},
     "output_type": "execute_result"
    }
   ],
   "source": [
    "using LinearAlgebra, ToeplitzMatrices, Random, IterativeSolvers, FunctionOperators,\n",
    "    EllipsisNotation, Printf\n",
    "include(\"helper_functions.jl\")"
   ]
  },
  {
   "cell_type": "markdown",
   "metadata": {},
   "source": [
    "### The algorithm itself"
   ]
  },
  {
   "cell_type": "code",
   "execution_count": 16,
   "metadata": {},
   "outputs": [
    {
     "data": {
      "text/plain": [
       "HM_IRLS (generic function with 1 method)"
      ]
     },
     "execution_count": 16,
     "metadata": {},
     "output_type": "execute_result"
    }
   ],
   "source": [
    "function HM_IRLS(\n",
    "        Xᴳᵀ::AbstractArray,                   # ground truth for MSE evaluation\n",
    "        y::AbstractArray,                     # under-sampled data\n",
    "        Φ::FunctionOperator;                  # sampling operator\n",
    "        shape::NTuple = size(Xᴳᵀ),            # size of output matrix\n",
    "        r̃::Int = 0,                           # rank estimate of solution\n",
    "        maxIter::Int = 3,                     # number of CG iteration steps\n",
    "        N::Int = 10,                          # number of iterations\n",
    "        verbose::Bool = false)                # print rank and loss value in each iteration\n",
    "    \n",
    "    dType = eltype(y)\n",
    "    d₁, d₂ = shape\n",
    "    r̃ == 0 && (r̃ = rank(Xᴳᵀ))\n",
    "    \n",
    "    ϵᵏ = Inf\n",
    "    Xᵏ = Φ' * y\n",
    "    σ = nothing # I just want to make it available outside of the loop\n",
    "    \n",
    "    for k in 1:N\n",
    "\"\"\"\n",
    "    2. Find best rank-(r̃ + 1) approximation of Xᵏ to obtain\n",
    "        𝒯ᵣ(Xᵏ) = Uᵏ * diag(σᵢᵏ)ᵢ₌₁ʳ * Vᵏ' and σᵣ₊₁ᵏ \n",
    "\"\"\"\n",
    "        F = svd(Xᵏ)\n",
    "        Uᵏ, σ, Vᵏ = F.U[:, 1:r̃], F.S, F.V[:, 1:r̃]\n",
    "        \n",
    "\"\"\"     update smoothing:                                 (2.91) \"\"\"\n",
    "        ϵᵏ = min(ϵᵏ, σ[r̃+1])\n",
    "        \n",
    "        r, n, s, e = sum(svdvals(Xᵏ) .> 1e-3), opnorm(Xᴳᵀ - Xᵏ, 2), σ[1], ϵᵏ\n",
    "        n, s, e = @sprintf(\"%.3f\", n), @sprintf(\"%.3f\", s), @sprintf(\"%.3f\", e)\n",
    "        println(\"k = $(k-1),\\trank(Xᵏ) = $r,\\t‖Xᴳᵀ - Xᵏ‖₂ = $n, σ₁ = $s, ϵᵏ = $e\")\n",
    "        \n",
    "\"\"\"\n",
    "    3. Update Wᵏ as in (2.57), using parameters ϵ = ϵᵏ and p in (2.58) and (2.59), and the\n",
    "        information Uᵏ , Vᵏ and σ₁ᵏ, ..., σᵣ₊₁ᵏ from item 2.\n",
    "\n",
    "        (Lines below are based on Remark 2.3.2, the special case for p = 0)\n",
    "\"\"\"\n",
    "        # Hᵏ = [1 / (max(σ[i], ϵᵏ) * max(σ[j], ϵᵏ))  for i in 1:r̃+1, j in 1:r̃+1]\n",
    "        #Wᵏ = FunctionOperator{dType}(name = \"Wᵏ\", inDims = (d₁, d₂), outDims = (d₁, d₂),\n",
    "        #    forw = Z -> Uᵏ * (Hᵏ .* (Uᵏ' * Z * Vᵏ)) * Vᵏ')\n",
    "        \n",
    "\"\"\"\n",
    "    1. Use a conjugate gradient method to solve linearly constrained quadratic program\n",
    "         Xᵏ = arg minₓ ⟨X,Wᵏ⁻¹(X)⟩ s.t. Φ(X) = y         (2.90)\n",
    "\"\"\"\n",
    "        \n",
    "        # the upper-left (r × r) block of (d₁ × d₂) Hᵏ matrix:\n",
    "        Hᵏᵤᵥ = [1 / (max(σ[i], ϵᵏ) * max(σ[j], ϵᵏ))  for i in 1:r̃, j in 1:r̃]\n",
    "        # the first column of Hᵏᵤᵥ⟂:\n",
    "        dHᵏ = reshape([1 / (max(σ[r̃+1], ϵᵏ) * max(σ[j], ϵᵏ))  for j in 1:r̃], :, 1)\n",
    "        Pᵏ = FunctionOperator{dType}(name=\"Pᵏ\", inDims = (r̃*(r̃+d₁+d₂),), outDims = (d₁, d₂),\n",
    "            forw = γ -> begin\n",
    "                    γ₁ = reshape(γ[1:r̃^2], r̃, r̃)\n",
    "                    γ₂ = reshape(γ[r̃^2+1:r̃*(r̃+d₁)], d₁, r̃)\n",
    "                    γ₃ = reshape(γ[r̃*(r̃+d₁)+1:r̃*(r̃+d₁+d₂)], r̃, d₂)\n",
    "                    # According to (2.169), the equation would be:\n",
    "                    # Uᵏ * γ₁ * Vᵏ' + Uᵏ * γ₂' * (I - Vᵏ*Vᵏ') + (I - Uᵏ*Uᵏ') * γ₃' * Vᵏ'\n",
    "                    # But as the columns of γ₃ are orthogonal to the ones in Uᵏ,\n",
    "                    # the rows of γ₂ are orthogonal to the columns of Vᵏ,\n",
    "                    # the expression can be simplified:\n",
    "                    (Uᵏ * γ₁ + γ₂) * Vᵏ' + Uᵏ * γ₃\n",
    "                end,\n",
    "            backw = Φᵃy -> begin\n",
    "                    γ₁ = Uᵏ' * Φᵃy * Vᵏ\n",
    "                    γ₂ = (I - Uᵏ*Uᵏ') * Φᵃy * Vᵏ\n",
    "                    γ₃ = Uᵏ' * Φᵃy * (I - Vᵏ*Vᵏ')\n",
    "                    vcat(vec(γ₁), vec(γ₂), vec(γ₃))\n",
    "                end)\n",
    "        b = Pᵏ' * Φ' * y\n",
    "        𝒟⁻¹ = I / Diagonal(vcat(vec(Hᵏᵤᵥ), vec(kron(dHᵏ, ones(1, d₁))'), vec(kron(dHᵏ, ones(1, d₂)))))\n",
    "        CG_op = FunctionOperator{dType}(name = \"CG_op\", inDims = (r̃*(r̃+d₁+d₂),), outDims = (r̃*(r̃+d₁+d₂),),\n",
    "            forw = γ ->  begin\n",
    "                    (ϵᵏ^2 * I / (𝒟⁻¹ - ϵᵏ^2 * I)) * γ + Pᵏ' * Φ' * Φ * Pᵏ * γ\n",
    "                end)\n",
    "        γᵏ = cg(CG_op, b, maxiter = maxIter) # 2.167\n",
    "        rᵏ = y - Φ * Pᵏ * γᵏ\n",
    "        γᵏ_tilde = (𝒟⁻¹ / (𝒟⁻¹ - ϵᵏ^2 * I)) * γᵏ - Pᵏ' * Φ' * rᵏ\n",
    "        Xᵏ = Φ' * rᵏ + Pᵏ * γᵏ_tilde   # 2.168\n",
    "    end\n",
    "    \n",
    "    r, n, s, e = sum(svdvals(Xᵏ) .> 1e-3), opnorm(Xᴳᵀ - Xᵏ, 2), σ[1], ϵᵏ\n",
    "    n, s, e = @sprintf(\"%.3f\", n), @sprintf(\"%.3f\", s), @sprintf(\"%.3f\", e)\n",
    "    println(\"k = $N,\\trank(Xᵏ) = $r,\\t‖Xᴳᵀ - Xᵏ‖₂ = $n, σ₁ = $s, ϵᵏ = $e\")\n",
    "    \n",
    "    Xᵏ\n",
    "end"
   ]
  },
  {
   "cell_type": "code",
   "execution_count": 3,
   "metadata": {},
   "outputs": [
    {
     "data": {
      "text/plain": [
       "update_𝒟⁻¹! (generic function with 1 method)"
      ]
     },
     "execution_count": 3,
     "metadata": {},
     "output_type": "execute_result"
    }
   ],
   "source": [
    "function update_H!(H, σ, ϵᵏ)\n",
    "    for ind in CartesianIndices(H)\n",
    "        i, j = ind[1], ind[2]\n",
    "        H[ind] = 1 / (max(σ[i], ϵᵏ) * max(σ[j], ϵᵏ))\n",
    "    end\n",
    "end\n",
    "\n",
    "function update_dH!(dH, σ, ϵᵏ, r̃)\n",
    "    for j in eachindex(dH)\n",
    "        dH[j] = 1 / (max(σ[r̃+1], ϵᵏ) * max(σ[j], ϵᵏ))\n",
    "    end\n",
    "end\n",
    "\n",
    "function update_𝒟⁻¹!(𝒟⁻¹, H, dH, r̃, d₁, d₂)\n",
    "    𝒟⁻¹[1:r̃*r̃] .= vec(H)\n",
    "    𝒟⁻¹[r̃*r̃+1:r̃*(r̃+d₁)] .= vec(kron(dH, ones(1, d₁))')\n",
    "    𝒟⁻¹[r̃*(r̃+d₁)+1:r̃*(r̃+d₁+d₂)] .= vec(kron(dH, ones(1, d₂)))\n",
    "    #broadcast!(*, reshape(𝒟⁻¹[r̃*r̃+1:r̃*(r̃+d₁)], d₁, r̃)', dH, 1) # a bit overcomplicated repeat with transpose\n",
    "    #broadcast!(*, reshape(𝒟⁻¹[r̃*(r̃+d₁)+1:r̃*(r̃+d₁+d₂)], r̃, d₂), dH, 1) # another overcomplicated repeat\n",
    "    𝒟⁻¹ .= 1 ./ 𝒟⁻¹\n",
    "end"
   ]
  },
  {
   "cell_type": "code",
   "execution_count": 4,
   "metadata": {},
   "outputs": [
    {
     "data": {
      "text/plain": [
       "get_P_operator (generic function with 1 method)"
      ]
     },
     "execution_count": 4,
     "metadata": {},
     "output_type": "execute_result"
    }
   ],
   "source": [
    "function get_P_operator(Uᵏ, Vᵏ, Vtᵏ, tempᵈ¹ˣᵈ², r̃, d₁, d₂)\n",
    "    \n",
    "    tempᵈ¹ˣʳ, tempʳˣᵈ² = Array{dType}(undef, d₁, r̃), Array{dType}(undef, r̃, d₂)\n",
    "    \n",
    "    split(γ) = @views begin\n",
    "        γ₁ = reshape(γ[1:r̃^2], r̃, r̃)\n",
    "        γ₂ = reshape(γ[r̃*(r̃+d₁)+1:r̃*(r̃+d₁+d₂)], r̃, d₂)\n",
    "        γ₃ = reshape(γ[r̃^2+1:r̃*(r̃+d₁)], d₁, r̃)\n",
    "        γ₁, γ₂, γ₃\n",
    "    end\n",
    "    \n",
    "    I_VV, I_UU = Array{dType}(undef, d₂, d₂), Array{dType}(undef, d₁, d₁)\n",
    "    Iᵈ¹ˣᵈ¹, Iᵈ²ˣᵈ² = Diagonal(ones(d₁)), Diagonal(ones(d₂))\n",
    "    \n",
    "    Pᵏ = FunctionOperator{dType}(name=\"Pᵏ\", inDims = (r̃*(r̃+d₁+d₂),), outDims = (d₁, d₂),\n",
    "        forw = (b,γ) -> begin\n",
    "                γ₁, γ₂, γ₃ = split(γ)\n",
    "                # According to (2.169), the equation would be:\n",
    "                # Uᵏ * γ₁ * Vᵏ' + Uᵏ * γ₂' * (I - Vᵏ*Vᵏ') + (I - Uᵏ*Uᵏ') * γ₃' * Vᵏ'\n",
    "                # But as the columns of γ₂ are orthogonal to the ones in Uᵏ,\n",
    "                # the rows of γ₃ are orthogonal to the columns of Vᵏ,\n",
    "                # the expression can be simplified:\n",
    "                # (Uᵏ * γ₁ + γ₃) * Vᵏ' + Uᵏ * γ₂\n",
    "                # And this is implemented avoiding array re-allocations:\n",
    "                mul!(tempᵈ¹ˣʳ, Uᵏ, γ₁)\n",
    "                tempᵈ¹ˣʳ .+= γ₃\n",
    "                mul!(b, tempᵈ¹ˣʳ, Vtᵏ)\n",
    "                mul!(tempᵈ¹ˣᵈ², Uᵏ, γ₂)\n",
    "                b .+= tempᵈ¹ˣᵈ²\n",
    "            end,\n",
    "        backw = (γ,Φᵃy) -> begin\n",
    "                γ₁, γ₂, γ₃ = split(γ)\n",
    "                # Things to do:\n",
    "                # γ₁ .= Uᵏ' * Φᵃy * Vᵏ\n",
    "                # γ₂ .= Uᵏ' * Φᵃy * (I - Vᵏ*Vᵏ')\n",
    "                # γ₃ .= (I - Uᵏ*Uᵏ') * Φᵃy * Vᵏ\n",
    "                # Efficient implementation:\n",
    "                I_VV .= Iᵈ²ˣᵈ² .- mul!(I_VV, Vᵏ, Vtᵏ) # same as I - Vᵏ*Vtᵏ\n",
    "                I_UU .= Iᵈ¹ˣᵈ¹ .- mul!(I_UU, Uᵏ, Uᵏ') # same as I - Uᵏ*Uᵏ'\n",
    "                mul!(tempᵈ¹ˣʳ, Φᵃy, Vᵏ)\n",
    "                mul!(γ₁, Uᵏ', tempᵈ¹ˣʳ)\n",
    "                mul!(γ₃, I_UU, tempᵈ¹ˣʳ)\n",
    "                mul!(tempʳˣᵈ², Uᵏ', Φᵃy)\n",
    "                mul!(γ₂, tempʳˣᵈ², I_VV)\n",
    "                γ\n",
    "                #vcat(vec(γ₁), vec(γ₂), vec(γ₃))\n",
    "            end)\n",
    "    \n",
    "    Pᵏ\n",
    "end"
   ]
  },
  {
   "cell_type": "code",
   "execution_count": 5,
   "metadata": {},
   "outputs": [
    {
     "data": {
      "text/plain": [
       "get_CG_operator (generic function with 1 method)"
      ]
     },
     "execution_count": 5,
     "metadata": {},
     "output_type": "execute_result"
    }
   ],
   "source": [
    "function get_CG_operator(PᵃΦᵃΦP, 𝒟_weighting, tempʳ⁽ʳ⁺ᵈ¹⁺ᵈ²⁾, r̃, d₁, d₂)\n",
    "    FunctionOperator{dType}(name = \"CG_op\", inDims = (r̃*(r̃+d₁+d₂),), outDims = (r̃*(r̃+d₁+d₂),),\n",
    "        forw = (b,γ) ->  begin\n",
    "            # An efficient implementation for:\n",
    "            # b .= (ϵᵏ^2 * I / (𝒟⁻¹ - ϵᵏ^2 * I)) * γ + Pᵏ' * Φ' * Φ * Pᵏ * γ\n",
    "            mul!(tempʳ⁽ʳ⁺ᵈ¹⁺ᵈ²⁾, PᵃΦᵃΦP, γ)\n",
    "            mul!(b, Diagonal(𝒟_weighting), γ)\n",
    "            b .+= tempʳ⁽ʳ⁺ᵈ¹⁺ᵈ²⁾\n",
    "        end)\n",
    "end"
   ]
  },
  {
   "cell_type": "code",
   "execution_count": 6,
   "metadata": {},
   "outputs": [
    {
     "data": {
      "text/plain": [
       "HM_IRLS_optimized (generic function with 1 method)"
      ]
     },
     "execution_count": 6,
     "metadata": {},
     "output_type": "execute_result"
    }
   ],
   "source": [
    "function HM_IRLS_optimized(\n",
    "        Xᴳᵀ::AbstractArray,                   # ground truth for MSE evaluation\n",
    "        y::AbstractArray,                     # under-sampled data\n",
    "        Φ::FunctionOperator;                  # sampling operator\n",
    "        shape::NTuple = size(Xᴳᵀ),            # size of output matrix\n",
    "        r̃::Int = 0,                           # rank estimate of solution\n",
    "        maxIter::Union{Int, Nothing} = nothing, # number of CG iteration steps\n",
    "        N::Int = 10,                          # number of iterations\n",
    "        verbose::Bool = false)                # print rank and loss value in each iteration\n",
    "    \n",
    "    # Initialize variables\n",
    "    dType = eltype(y)\n",
    "    d₁, d₂ = shape\n",
    "    r̃ == 0 && (r̃ = rank(Xᴳᵀ))\n",
    "    maxIter = maxIter isa Nothing ? r̃*(r̃+d₁+d₂) : maxIter\n",
    "    ϵᵏ = Inf\n",
    "    Xᵏ = Φ' * y\n",
    "    \n",
    "    # Preallocate arrays\n",
    "    F = svd(Xᵏ)\n",
    "    Uᵏ, σ, Vᵏ, Vtᵏ = F.U[:, 1:r̃], F.S, F.V[:, 1:r̃], F.Vt[1:r̃, :]\n",
    "    Hᵏᵤᵥ = Array{dType}(undef, r̃, r̃)\n",
    "    dHᵏ = Array{dType}(undef, r̃, 1)\n",
    "    𝒟⁻¹, 𝒟_weighting, b, γᵏ, tempʳ⁽ʳ⁺ᵈ¹⁺ᵈ²⁾ = [Vector{dType}(undef, r̃*(r̃+d₁+d₂)) for _ in 1:5]\n",
    "    tempᵈ¹ˣᵈ² = Array{dType}(undef, d₁, d₂)\n",
    "    rᵏ, γᵏ_tilde = similar(y), similar(γᵏ)\n",
    "    statevars = IterativeSolvers.CGStateVariables(similar(γᵏ), similar(γᵏ), similar(γᵏ))\n",
    "    \n",
    "    # Create operators\n",
    "    Pᵏ= get_P_operator(Uᵏ, Vᵏ, Vtᵏ, tempᵈ¹ˣᵈ², r̃, d₁, d₂)\n",
    "    PᵃΦᵃΦP = Pᵏ' * Φ' * Φ * Pᵏ\n",
    "    ΦP, PᵃΦᵃ = Φ * Pᵏ, Pᵏ' * Φ'\n",
    "    CG_op = get_CG_operator(PᵃΦᵃΦP, 𝒟_weighting, tempʳ⁽ʳ⁺ᵈ¹⁺ᵈ²⁾, r̃, d₁, d₂)\n",
    "    \n",
    "    for k in 1:N\n",
    "        \n",
    "        svd!(tempᵈ¹ˣᵈ² .= Xᵏ, F)\n",
    "        @views begin Uᵏ .= F.U[:, 1:r̃]; Vᵏ .=  F.V[:, 1:r̃]; Vtᵏ .= F.Vt[1:r̃, :]; end\n",
    "        \n",
    "        ϵᵏ = min(ϵᵏ, σ[r̃+1])\n",
    "        \n",
    "        r, n, s, e = sum(σ .> 1e-3), opnorm(tempᵈ¹ˣᵈ² .= Xᴳᵀ .- Xᵏ, 2), σ[1], ϵᵏ\n",
    "        n, s, e = @sprintf(\"%.3f\", n), @sprintf(\"%.3f\", s), @sprintf(\"%.3f\", e)\n",
    "        println(\"k = $(k-1),\\trank(Xᵏ) = $r,\\t‖Xᴳᵀ - Xᵏ‖₂ = $n, σ₁ = $s, ϵᵏ = $e\")\n",
    "        \n",
    "        update_H!(Hᵏᵤᵥ, σ, ϵᵏ)\n",
    "        update_dH!(dHᵏ, σ, ϵᵏ, r̃)\n",
    "        update_𝒟⁻¹!(𝒟⁻¹, Hᵏᵤᵥ, dHᵏ, r̃, d₁, d₂)\n",
    "        \n",
    "        # An efficient implementation of 𝒟_weighting = ϵᵏ^2 * I / (𝒟⁻¹ - ϵᵏ^2 * I):\n",
    "        𝒟_weighting .= ϵᵏ^2 ./ (𝒟⁻¹ .- ϵᵏ^2)\n",
    "        \n",
    "        mul!(b, PᵃΦᵃ, y) # right hand side for CG\n",
    "        mul!(γᵏ, Pᵏ', Xᵏ) # initial value for CG\n",
    "        \n",
    "        cg!(γᵏ, CG_op, b, maxiter = maxIter, statevars = statevars) # 2.167\n",
    "        \n",
    "        # An efficient implementation of rᵏ = y - Φ * Pᵏ * γᵏ:\n",
    "        rᵏ .= y .- mul!(rᵏ, ΦP,  γᵏ)\n",
    "        \n",
    "        # An efficient implementation of γᵏ_tilde = Diagonal(𝒟⁻¹ ./ (𝒟⁻¹ .- ϵᵏ^2)) * γᵏ - Pᵏ' * Φ' * rᵏ\n",
    "        𝒟_weighting .= 𝒟⁻¹ ./ (𝒟⁻¹ .- ϵᵏ^2) # same as Diagonal(𝒟⁻¹ ./ (𝒟⁻¹ .- ϵᵏ^2))\n",
    "        mul!(tempʳ⁽ʳ⁺ᵈ¹⁺ᵈ²⁾, PᵃΦᵃ, rᵏ)\n",
    "        mul!(γᵏ_tilde, Diagonal(𝒟_weighting), γᵏ)\n",
    "        γᵏ_tilde .-= tempʳ⁽ʳ⁺ᵈ¹⁺ᵈ²⁾\n",
    "        \n",
    "        # An efficient implementation of Xᵏ = Φ' * rᵏ + Pᵏ * γᵏ_tilde\n",
    "        mul!(Xᵏ, Pᵏ, γᵏ_tilde)\n",
    "        Xᵏ .+= mul!(tempᵈ¹ˣᵈ², Φ', rᵏ)   # 2.168\n",
    "        \n",
    "    end\n",
    "    \n",
    "    r, n, s, e = sum(svdvals(Xᵏ) .> 1e-3), opnorm(Xᴳᵀ - Xᵏ, 2), σ[1], ϵᵏ\n",
    "    n, s, e = @sprintf(\"%.3f\", n), @sprintf(\"%.3f\", s), @sprintf(\"%.3f\", e)\n",
    "    println(\"k = $N,\\trank(Xᵏ) = $r,\\t‖Xᴳᵀ - Xᵏ‖₂ = $n, σ₁ = $s, ϵᵏ = $e\")\n",
    "    \n",
    "    Xᵏ\n",
    "end"
   ]
  },
  {
   "cell_type": "markdown",
   "metadata": {},
   "source": [
    "### Some helper functions"
   ]
  },
  {
   "cell_type": "code",
   "execution_count": 7,
   "metadata": {},
   "outputs": [],
   "source": [
    "import Base.size\n",
    "function Base.size(FO::FunctionOperator, d::Int)\n",
    "    @assert d in [1, 2]\n",
    "    prod(d == 1 ? FO.outDims : FO.inDims)\n",
    "end"
   ]
  },
  {
   "cell_type": "code",
   "execution_count": 8,
   "metadata": {},
   "outputs": [
    {
     "data": {
      "text/plain": [
       "generateΦ (generic function with 1 method)"
      ]
     },
     "execution_count": 8,
     "metadata": {},
     "output_type": "execute_result"
    }
   ],
   "source": [
    "# This function randomly samples a $(d₁ \\times d₂)$ sparse matrix with ones at $m$ randomly chosen\n",
    "# coordinates (uniform without replacement). The output matrix has at least $r$ non-zero entries\n",
    "# in each row and each column, where $r$ is a specified positive integer. The number of ones in the\n",
    "# output matrix is exactly $m$.\n",
    "function generateΦ(d₁, d₂, r, m)\n",
    "    @assert max(d₁, d₂) * r ≤ m\n",
    "    @assert m ≤ d₁ * d₂\n",
    "    @assert r ≤ d₁\n",
    "    @assert r ≤ d₂\n",
    "    \n",
    "    # generate a square matrix where each row and each column has exactly r ones\n",
    "    initial = Circulant([fill(1, r)..., fill(0, min(d₁, d₂) - r)...])\n",
    "    \n",
    "    # Extend that matrix to a d₁×d₂ matrix where each row and each column has at least r ones\n",
    "    # That is accomplished by repeating the \"initial\" matrix and then cropping\n",
    "    if d₁ < d₂\n",
    "        M = repeat(initial, outer = (1, ceil(Int, d₂ / d₁)))\n",
    "    elseif d₁ > d₂\n",
    "        M = repeat(initial, outer = (ceil(Int, d₁ / d₂), 1))\n",
    "    else\n",
    "        M = initial\n",
    "    end\n",
    "    M = M[1:d₁, 1:d₂]\n",
    "    \n",
    "    # Randomly switch zeros to ones until exactly m number of ones are in the matrix\n",
    "    zero_places = findall(M .== 0)\n",
    "    number_of_missing_ones = m - (d₁*d₂ - length(zero_places))\n",
    "    number_of_missing_ones > 0 && (M[shuffle(zero_places)[1:number_of_missing_ones]] .= 1)\n",
    "    \n",
    "    # Then randomize matrix by permutating rows and columns a couple times\n",
    "    for i in 1:10\n",
    "        M .= M[shuffle(1:end), :] # shuffle rows\n",
    "        M .= M[:, shuffle(1:end)] # shuffle columns\n",
    "    end\n",
    "    \n",
    "    M\n",
    "end"
   ]
  },
  {
   "cell_type": "code",
   "execution_count": 9,
   "metadata": {},
   "outputs": [
    {
     "data": {
      "text/plain": [
       "maskToMatrix (generic function with 1 method)"
      ]
     },
     "execution_count": 9,
     "metadata": {},
     "output_type": "execute_result"
    }
   ],
   "source": [
    "function maskToMatrix(Φᴹ)\n",
    "    m = convert(Int, sum(Φᴹ))\n",
    "    d₁, d₂ = size(Φᴹ)\n",
    "\n",
    "    Φ = zeros(m, length(Φᴹ))\n",
    "    non_zero_places = findall(vec(Φᴹ) .== 1)\n",
    "    for i in 1:m\n",
    "        Φ[i, non_zero_places[i]] = 1\n",
    "    end\n",
    "    return Φ\n",
    "end"
   ]
  },
  {
   "cell_type": "markdown",
   "metadata": {},
   "source": [
    "### Generate data\n",
    "\n",
    "#### That's how Chirstian generated the data to compare algorithms:"
   ]
  },
  {
   "cell_type": "code",
   "execution_count": 17,
   "metadata": {},
   "outputs": [
    {
     "name": "stdout",
     "output_type": "stream",
     "text": [
      "size(Xᴳᵀ) = (60, 40)\n",
      "rank(Xᴳᵀ) = 7\n",
      "rank(y) = 40\n"
     ]
    }
   ],
   "source": [
    "d₁, d₂, r = 60, 40, 7\n",
    "df_LR = r * (d₁ + d₂ - r) # Number of degrees of freedom of the setting\n",
    "m = floor(Int, min(1.05 * df_LR, d₁ * d₂))\n",
    "\n",
    "dType = ComplexF64\n",
    "U, S, V = randn(dType, d₁, r), Diagonal(randn(r)), randn(dType, d₂, r)\n",
    "Xᴳᵀ = U * S * V' # Ground Truth matrix\n",
    "\n",
    "@show size(Xᴳᵀ)\n",
    "@show rank(Xᴳᵀ);\n",
    "\n",
    "Φᴹ = generateΦ(d₁, d₂, r, m)\n",
    "Φ = FunctionOperator{dType}(name = \"Φ\", inDims = (d₁, d₂), outDims = (d₁, d₂),\n",
    "    forw = (b,x) -> b .= Φᴹ .* x, backw = (b,x) -> b .= x)\n",
    "y = Φ * Xᴳᵀ\n",
    "@show rank(y);"
   ]
  },
  {
   "cell_type": "code",
   "execution_count": 18,
   "metadata": {},
   "outputs": [
    {
     "data": {
      "text/plain": [
       "true"
      ]
     },
     "execution_count": 18,
     "metadata": {},
     "output_type": "execute_result"
    }
   ],
   "source": [
    "Φᴹ .* Xᴳᵀ == Φ * Xᴳᵀ"
   ]
  },
  {
   "cell_type": "code",
   "execution_count": 19,
   "metadata": {},
   "outputs": [
    {
     "name": "stdout",
     "output_type": "stream",
     "text": [
      "k = 0,\trank(Xᵏ) = 40,\t‖Xᴳᵀ - Xᵏ‖₂ = 52.467, σ₁ = 23.527, ϵᵏ = 13.725\n",
      "k = 1,\trank(Xᵏ) = 40,\t‖Xᴳᵀ - Xᵏ‖₂ = 48.094, σ₁ = 28.085, ϵᵏ = 10.400\n",
      "k = 2,\trank(Xᵏ) = 40,\t‖Xᴳᵀ - Xᵏ‖₂ = 45.267, σ₁ = 33.368, ϵᵏ = 8.350\n",
      "k = 3,\trank(Xᵏ) = 40,\t‖Xᴳᵀ - Xᵏ‖₂ = 43.444, σ₁ = 38.757, ϵᵏ = 7.685\n",
      "k = 4,\trank(Xᵏ) = 40,\t‖Xᴳᵀ - Xᵏ‖₂ = 44.804, σ₁ = 42.666, ϵᵏ = 7.660\n",
      "k = 5,\trank(Xᵏ) = 40,\t‖Xᴳᵀ - Xᵏ‖₂ = 45.863, σ₁ = 45.539, ϵᵏ = 7.660\n",
      "k = 6,\trank(Xᵏ) = 40,\t‖Xᴳᵀ - Xᵏ‖₂ = 48.779, σ₁ = 55.074, ϵᵏ = 7.660\n",
      "k = 7,\trank(Xᵏ) = 40,\t‖Xᴳᵀ - Xᵏ‖₂ = 100.285, σ₁ = 122.456, ϵᵏ = 7.660\n",
      "k = 8,\trank(Xᵏ) = 40,\t‖Xᴳᵀ - Xᵏ‖₂ = 3013.551, σ₁ = 3032.981, ϵᵏ = 7.660\n",
      "k = 9,\trank(Xᵏ) = 40,\t‖Xᴳᵀ - Xᵏ‖₂ = 140087.650, σ₁ = 140101.683, ϵᵏ = 7.660\n",
      "k = 10,\trank(Xᵏ) = 40,\t‖Xᴳᵀ - Xᵏ‖₂ = 35780.224, σ₁ = 35791.145, ϵᵏ = 7.660\n",
      "k = 11,\trank(Xᵏ) = 40,\t‖Xᴳᵀ - Xᵏ‖₂ = 145750.577, σ₁ = 145761.218, ϵᵏ = 7.660\n",
      "k = 12,\trank(Xᵏ) = 40,\t‖Xᴳᵀ - Xᵏ‖₂ = 169341.913, σ₁ = 169340.733, ϵᵏ = 7.660\n",
      "k = 13,\trank(Xᵏ) = 40,\t‖Xᴳᵀ - Xᵏ‖₂ = 6154.689, σ₁ = 6156.734, ϵᵏ = 7.660\n",
      "k = 14,\trank(Xᵏ) = 40,\t‖Xᴳᵀ - Xᵏ‖₂ = 6595.662, σ₁ = 6598.621, ϵᵏ = 7.660\n",
      "k = 15,\trank(Xᵏ) = 40,\t‖Xᴳᵀ - Xᵏ‖₂ = 1008249.695, σ₁ = 1008246.798, ϵᵏ = 7.660\n",
      "k = 16,\trank(Xᵏ) = 40,\t‖Xᴳᵀ - Xᵏ‖₂ = 11137.366, σ₁ = 11139.413, ϵᵏ = 7.660\n",
      "k = 17,\trank(Xᵏ) = 40,\t‖Xᴳᵀ - Xᵏ‖₂ = 92291.907, σ₁ = 92293.445, ϵᵏ = 7.660\n",
      "k = 18,\trank(Xᵏ) = 40,\t‖Xᴳᵀ - Xᵏ‖₂ = 17425.611, σ₁ = 17425.876, ϵᵏ = 7.660\n",
      "k = 19,\trank(Xᵏ) = 40,\t‖Xᴳᵀ - Xᵏ‖₂ = 439894.369, σ₁ = 439896.698, ϵᵏ = 7.660\n",
      "k = 20,\trank(Xᵏ) = 40,\t‖Xᴳᵀ - Xᵏ‖₂ = 208539.759, σ₁ = 208539.088, ϵᵏ = 7.660\n",
      "k = 21,\trank(Xᵏ) = 40,\t‖Xᴳᵀ - Xᵏ‖₂ = 355291.560, σ₁ = 355293.597, ϵᵏ = 7.660\n",
      "k = 22,\trank(Xᵏ) = 40,\t‖Xᴳᵀ - Xᵏ‖₂ = 198319.006, σ₁ = 198322.125, ϵᵏ = 7.660\n",
      "k = 23,\trank(Xᵏ) = 40,\t‖Xᴳᵀ - Xᵏ‖₂ = 1899339.190, σ₁ = 1899339.989, ϵᵏ = 7.660\n",
      "k = 24,\trank(Xᵏ) = 40,\t‖Xᴳᵀ - Xᵏ‖₂ = 303273.171, σ₁ = 303273.470, ϵᵏ = 7.660\n",
      "k = 25,\trank(Xᵏ) = 40,\t‖Xᴳᵀ - Xᵏ‖₂ = 100965.213, σ₁ = 100966.300, ϵᵏ = 7.660\n",
      "k = 26,\trank(Xᵏ) = 40,\t‖Xᴳᵀ - Xᵏ‖₂ = 54528.907, σ₁ = 54530.713, ϵᵏ = 7.660\n",
      "k = 27,\trank(Xᵏ) = 40,\t‖Xᴳᵀ - Xᵏ‖₂ = 63824.532, σ₁ = 63825.170, ϵᵏ = 7.660\n",
      "k = 28,\trank(Xᵏ) = 40,\t‖Xᴳᵀ - Xᵏ‖₂ = 52211.843, σ₁ = 52211.075, ϵᵏ = 7.660\n",
      "k = 29,\trank(Xᵏ) = 40,\t‖Xᴳᵀ - Xᵏ‖₂ = 44176.136, σ₁ = 44179.568, ϵᵏ = 7.660\n",
      "k = 30,\trank(Xᵏ) = 40,\t‖Xᴳᵀ - Xᵏ‖₂ = 19349.543, σ₁ = 19353.679, ϵᵏ = 7.660\n",
      "k = 31,\trank(Xᵏ) = 40,\t‖Xᴳᵀ - Xᵏ‖₂ = 35942.263, σ₁ = 35947.177, ϵᵏ = 7.660\n",
      "k = 32,\trank(Xᵏ) = 40,\t‖Xᴳᵀ - Xᵏ‖₂ = 165025.706, σ₁ = 165022.887, ϵᵏ = 7.660\n",
      "k = 33,\trank(Xᵏ) = 40,\t‖Xᴳᵀ - Xᵏ‖₂ = 107009.068, σ₁ = 107009.669, ϵᵏ = 7.660\n",
      "k = 34,\trank(Xᵏ) = 40,\t‖Xᴳᵀ - Xᵏ‖₂ = 688172.835, σ₁ = 688171.763, ϵᵏ = 7.660\n",
      "k = 35,\trank(Xᵏ) = 40,\t‖Xᴳᵀ - Xᵏ‖₂ = 43733.728, σ₁ = 43736.913, ϵᵏ = 7.660\n",
      "k = 36,\trank(Xᵏ) = 40,\t‖Xᴳᵀ - Xᵏ‖₂ = 286843.363, σ₁ = 286844.738, ϵᵏ = 7.660\n",
      "k = 37,\trank(Xᵏ) = 40,\t‖Xᴳᵀ - Xᵏ‖₂ = 24247.487, σ₁ = 24248.825, ϵᵏ = 7.660\n",
      "k = 38,\trank(Xᵏ) = 40,\t‖Xᴳᵀ - Xᵏ‖₂ = 43702.370, σ₁ = 43702.832, ϵᵏ = 7.660\n",
      "k = 39,\trank(Xᵏ) = 40,\t‖Xᴳᵀ - Xᵏ‖₂ = 1176815.058, σ₁ = 1176813.039, ϵᵏ = 7.660\n",
      "k = 40,\trank(Xᵏ) = 40,\t‖Xᴳᵀ - Xᵏ‖₂ = 61107.066, σ₁ = 61110.003, ϵᵏ = 7.660\n",
      "k = 41,\trank(Xᵏ) = 40,\t‖Xᴳᵀ - Xᵏ‖₂ = 114879.116, σ₁ = 114879.085, ϵᵏ = 7.660\n",
      "k = 42,\trank(Xᵏ) = 40,\t‖Xᴳᵀ - Xᵏ‖₂ = 126688.779, σ₁ = 126690.522, ϵᵏ = 7.660\n",
      "k = 43,\trank(Xᵏ) = 40,\t‖Xᴳᵀ - Xᵏ‖₂ = 102640.281, σ₁ = 102637.451, ϵᵏ = 7.660\n",
      "k = 44,\trank(Xᵏ) = 40,\t‖Xᴳᵀ - Xᵏ‖₂ = 95097.801, σ₁ = 95099.095, ϵᵏ = 7.660\n",
      "k = 45,\trank(Xᵏ) = 40,\t‖Xᴳᵀ - Xᵏ‖₂ = 129658.335, σ₁ = 129660.134, ϵᵏ = 7.660\n",
      "k = 46,\trank(Xᵏ) = 40,\t‖Xᴳᵀ - Xᵏ‖₂ = 299821.865, σ₁ = 299818.117, ϵᵏ = 7.660\n",
      "k = 47,\trank(Xᵏ) = 40,\t‖Xᴳᵀ - Xᵏ‖₂ = 52931.426, σ₁ = 52932.211, ϵᵏ = 7.660\n",
      "k = 48,\trank(Xᵏ) = 40,\t‖Xᴳᵀ - Xᵏ‖₂ = 15250.983, σ₁ = 15253.803, ϵᵏ = 7.660\n",
      "k = 49,\trank(Xᵏ) = 40,\t‖Xᴳᵀ - Xᵏ‖₂ = 222794.685, σ₁ = 222795.854, ϵᵏ = 7.660\n",
      "k = 50,\trank(Xᵏ) = 40,\t‖Xᴳᵀ - Xᵏ‖₂ = 101819.506, σ₁ = 222795.854, ϵᵏ = 7.660\n",
      "  1.034980 seconds (916.27 k allocations: 180.038 MiB, 3.54% gc time)\n"
     ]
    }
   ],
   "source": [
    "@time HM_IRLS(Xᴳᵀ, y, Φ, N = 50);"
   ]
  },
  {
   "cell_type": "code",
   "execution_count": 13,
   "metadata": {},
   "outputs": [
    {
     "name": "stdout",
     "output_type": "stream",
     "text": [
      "k = 0,\trank(Xᵏ) = 40,\t‖Xᴳᵀ - Xᵏ‖₂ = 68.011, σ₁ = 30.281, ϵᵏ = 16.058\n",
      "k = 1,\trank(Xᵏ) = 40,\t‖Xᴳᵀ - Xᵏ‖₂ = 52.576, σ₁ = 49.147, ϵᵏ = 12.027\n",
      "k = 2,\trank(Xᵏ) = 40,\t‖Xᴳᵀ - Xᵏ‖₂ = 39.174, σ₁ = 70.810, ϵᵏ = 8.638\n",
      "k = 3,\trank(Xᵏ) = 40,\t‖Xᴳᵀ - Xᵏ‖₂ = 34.841, σ₁ = 81.528, ϵᵏ = 6.350\n",
      "k = 4,\trank(Xᵏ) = 40,\t‖Xᴳᵀ - Xᵏ‖₂ = 32.662, σ₁ = 85.622, ϵᵏ = 4.738\n",
      "k = 5,\trank(Xᵏ) = 40,\t‖Xᴳᵀ - Xᵏ‖₂ = 29.900, σ₁ = 87.653, ϵᵏ = 3.608\n",
      "k = 6,\trank(Xᵏ) = 40,\t‖Xᴳᵀ - Xᵏ‖₂ = 27.277, σ₁ = 88.888, ϵᵏ = 2.656\n",
      "k = 7,\trank(Xᵏ) = 40,\t‖Xᴳᵀ - Xᵏ‖₂ = 25.348, σ₁ = 89.893, ϵᵏ = 2.017\n",
      "k = 8,\trank(Xᵏ) = 40,\t‖Xᴳᵀ - Xᵏ‖₂ = 24.184, σ₁ = 90.703, ϵᵏ = 1.563\n",
      "k = 9,\trank(Xᵏ) = 40,\t‖Xᴳᵀ - Xᵏ‖₂ = 23.371, σ₁ = 91.255, ϵᵏ = 1.257\n",
      "k = 10,\trank(Xᵏ) = 40,\t‖Xᴳᵀ - Xᵏ‖₂ = 22.527, σ₁ = 91.560, ϵᵏ = 1.061\n",
      "k = 11,\trank(Xᵏ) = 40,\t‖Xᴳᵀ - Xᵏ‖₂ = 21.583, σ₁ = 91.733, ϵᵏ = 0.902\n",
      "k = 12,\trank(Xᵏ) = 40,\t‖Xᴳᵀ - Xᵏ‖₂ = 20.573, σ₁ = 91.886, ϵᵏ = 0.771\n",
      "k = 13,\trank(Xᵏ) = 40,\t‖Xᴳᵀ - Xᵏ‖₂ = 19.513, σ₁ = 92.070, ϵᵏ = 0.661\n",
      "k = 14,\trank(Xᵏ) = 40,\t‖Xᴳᵀ - Xᵏ‖₂ = 18.411, σ₁ = 92.287, ϵᵏ = 0.567\n",
      "k = 15,\trank(Xᵏ) = 40,\t‖Xᴳᵀ - Xᵏ‖₂ = 17.281, σ₁ = 92.517, ϵᵏ = 0.486\n",
      "k = 16,\trank(Xᵏ) = 40,\t‖Xᴳᵀ - Xᵏ‖₂ = 16.140, σ₁ = 92.731, ϵᵏ = 0.418\n",
      "k = 17,\trank(Xᵏ) = 40,\t‖Xᴳᵀ - Xᵏ‖₂ = 15.010, σ₁ = 92.907, ϵᵏ = 0.364\n",
      "k = 18,\trank(Xᵏ) = 40,\t‖Xᴳᵀ - Xᵏ‖₂ = 13.911, σ₁ = 93.038, ϵᵏ = 0.320\n",
      "k = 19,\trank(Xᵏ) = 40,\t‖Xᴳᵀ - Xᵏ‖₂ = 12.855, σ₁ = 93.131, ϵᵏ = 0.284\n",
      "k = 20,\trank(Xᵏ) = 40,\t‖Xᴳᵀ - Xᵏ‖₂ = 11.847, σ₁ = 93.201, ϵᵏ = 0.250\n",
      "k = 21,\trank(Xᵏ) = 40,\t‖Xᴳᵀ - Xᵏ‖₂ = 10.886, σ₁ = 93.260, ϵᵏ = 0.219\n",
      "k = 22,\trank(Xᵏ) = 40,\t‖Xᴳᵀ - Xᵏ‖₂ = 9.968, σ₁ = 93.318, ϵᵏ = 0.190\n",
      "k = 23,\trank(Xᵏ) = 40,\t‖Xᴳᵀ - Xᵏ‖₂ = 9.091, σ₁ = 93.379, ϵᵏ = 0.162\n",
      "k = 24,\trank(Xᵏ) = 40,\t‖Xᴳᵀ - Xᵏ‖₂ = 8.256, σ₁ = 93.444, ϵᵏ = 0.137\n",
      "k = 25,\trank(Xᵏ) = 40,\t‖Xᴳᵀ - Xᵏ‖₂ = 7.462, σ₁ = 93.514, ϵᵏ = 0.117\n",
      "k = 26,\trank(Xᵏ) = 40,\t‖Xᴳᵀ - Xᵏ‖₂ = 6.723, σ₁ = 93.583, ϵᵏ = 0.101\n",
      "k = 27,\trank(Xᵏ) = 40,\t‖Xᴳᵀ - Xᵏ‖₂ = 6.030, σ₁ = 93.648, ϵᵏ = 0.087\n",
      "k = 28,\trank(Xᵏ) = 40,\t‖Xᴳᵀ - Xᵏ‖₂ = 5.364, σ₁ = 93.705, ϵᵏ = 0.075\n",
      "k = 29,\trank(Xᵏ) = 40,\t‖Xᴳᵀ - Xᵏ‖₂ = 4.706, σ₁ = 93.751, ϵᵏ = 0.063\n",
      "k = 30,\trank(Xᵏ) = 40,\t‖Xᴳᵀ - Xᵏ‖₂ = 4.041, σ₁ = 93.786, ϵᵏ = 0.051\n",
      "k = 31,\trank(Xᵏ) = 40,\t‖Xᴳᵀ - Xᵏ‖₂ = 3.362, σ₁ = 93.809, ϵᵏ = 0.041\n",
      "k = 32,\trank(Xᵏ) = 40,\t‖Xᴳᵀ - Xᵏ‖₂ = 2.672, σ₁ = 93.821, ϵᵏ = 0.031\n",
      "k = 33,\trank(Xᵏ) = 40,\t‖Xᴳᵀ - Xᵏ‖₂ = 1.988, σ₁ = 93.824, ϵᵏ = 0.022\n",
      "k = 34,\trank(Xᵏ) = 40,\t‖Xᴳᵀ - Xᵏ‖₂ = 1.343, σ₁ = 93.819, ϵᵏ = 0.014\n",
      "k = 35,\trank(Xᵏ) = 36,\t‖Xᴳᵀ - Xᵏ‖₂ = 0.786, σ₁ = 93.810, ϵᵏ = 0.008\n",
      "k = 36,\trank(Xᵏ) = 28,\t‖Xᴳᵀ - Xᵏ‖₂ = 0.367, σ₁ = 93.799, ϵᵏ = 0.004\n",
      "k = 37,\trank(Xᵏ) = 8,\t‖Xᴳᵀ - Xᵏ‖₂ = 0.114, σ₁ = 93.790, ϵᵏ = 0.001\n",
      "k = 38,\trank(Xᵏ) = 7,\t‖Xᴳᵀ - Xᵏ‖₂ = 0.015, σ₁ = 93.784, ϵᵏ = 0.000\n",
      "k = 39,\trank(Xᵏ) = 7,\t‖Xᴳᵀ - Xᵏ‖₂ = 0.001, σ₁ = 93.784, ϵᵏ = 0.000\n",
      "k = 40,\trank(Xᵏ) = 7,\t‖Xᴳᵀ - Xᵏ‖₂ = 0.001, σ₁ = 93.784, ϵᵏ = 0.000\n",
      "k = 41,\trank(Xᵏ) = 7,\t‖Xᴳᵀ - Xᵏ‖₂ = 0.001, σ₁ = 93.784, ϵᵏ = 0.000\n",
      "k = 42,\trank(Xᵏ) = 7,\t‖Xᴳᵀ - Xᵏ‖₂ = 0.001, σ₁ = 93.784, ϵᵏ = 0.000\n",
      "k = 43,\trank(Xᵏ) = 7,\t‖Xᴳᵀ - Xᵏ‖₂ = 0.001, σ₁ = 93.784, ϵᵏ = 0.000\n",
      "k = 44,\trank(Xᵏ) = 7,\t‖Xᴳᵀ - Xᵏ‖₂ = 0.001, σ₁ = 93.784, ϵᵏ = 0.000\n",
      "k = 45,\trank(Xᵏ) = 7,\t‖Xᴳᵀ - Xᵏ‖₂ = 0.001, σ₁ = 93.784, ϵᵏ = 0.000\n",
      "k = 46,\trank(Xᵏ) = 7,\t‖Xᴳᵀ - Xᵏ‖₂ = 0.001, σ₁ = 93.784, ϵᵏ = 0.000\n",
      "k = 47,\trank(Xᵏ) = 7,\t‖Xᴳᵀ - Xᵏ‖₂ = 0.001, σ₁ = 93.784, ϵᵏ = 0.000\n",
      "k = 48,\trank(Xᵏ) = 7,\t‖Xᴳᵀ - Xᵏ‖₂ = 0.001, σ₁ = 93.784, ϵᵏ = 0.000\n",
      "k = 49,\trank(Xᵏ) = 7,\t‖Xᴳᵀ - Xᵏ‖₂ = 0.001, σ₁ = 93.784, ϵᵏ = 0.000\n",
      "k = 50,\trank(Xᵏ) = 7,\t‖Xᴳᵀ - Xᵏ‖₂ = 0.001, σ₁ = 93.784, ϵᵏ = 0.000\n",
      "  6.065064 seconds (16.09 M allocations: 786.696 MiB, 4.40% gc time)\n"
     ]
    }
   ],
   "source": [
    "@time HM_IRLS_optimized(Xᴳᵀ, y, Φ, N = 50);"
   ]
  },
  {
   "cell_type": "markdown",
   "metadata": {},
   "source": [
    "#### An easy problem:"
   ]
  },
  {
   "cell_type": "code",
   "execution_count": 14,
   "metadata": {},
   "outputs": [
    {
     "name": "stdout",
     "output_type": "stream",
     "text": [
      "size(Xᴳᵀ) = (10, 10)\n",
      "rank(Xᴳᵀ) = 1\n",
      "rank(y) = 4\n"
     ]
    }
   ],
   "source": [
    "d = 10\n",
    "v = rand(d)\n",
    "Xᴳᵀ = v * v'  # Ground Truth matrix\n",
    "@show size(Xᴳᵀ)\n",
    "@show rank(Xᴳᵀ)\n",
    "\n",
    "# mask that erases 5 elements:\n",
    "num_of_points_to_erase = 5\n",
    "Φᴹ = reshape(shuffle!([fill(0, num_of_points_to_erase)...,\n",
    "            fill(1, d*d - num_of_points_to_erase)...]), d, d)\n",
    "Φ = FunctionOperator{Float64}(name = \"Φ\", inDims = (d, d), outDims = (d, d),\n",
    "    forw = (b,x) -> b .= Φᴹ .* x, backw = (b,x) -> b .= x)\n",
    "\n",
    "y = Φ * Xᴳᵀ\n",
    "@show rank(y);"
   ]
  },
  {
   "cell_type": "code",
   "execution_count": 15,
   "metadata": {},
   "outputs": [
    {
     "name": "stdout",
     "output_type": "stream",
     "text": [
      "k = 0,\trank(Xᵏ) = 4,\t‖Xᴳᵀ - Xᵏ‖₂ = 0.408, σ₁ = 2.158, ϵᵏ = 0.314\n",
      "k = 1,\trank(Xᵏ) = 3,\t‖Xᴳᵀ - Xᵏ‖₂ = 0.051, σ₁ = 2.228, ϵᵏ = 0.038\n",
      "k = 2,\trank(Xᵏ) = 1,\t‖Xᴳᵀ - Xᵏ‖₂ = 0.002, σ₁ = 2.238, ϵᵏ = 0.001\n",
      "k = 3,\trank(Xᵏ) = 1,\t‖Xᴳᵀ - Xᵏ‖₂ = 0.001, σ₁ = 2.238, ϵᵏ = 0.000\n",
      "k = 4,\trank(Xᵏ) = 1,\t‖Xᴳᵀ - Xᵏ‖₂ = 0.001, σ₁ = 2.238, ϵᵏ = 0.000\n",
      "k = 5,\trank(Xᵏ) = 1,\t‖Xᴳᵀ - Xᵏ‖₂ = 0.001, σ₁ = 2.238, ϵᵏ = 0.000\n",
      "k = 6,\trank(Xᵏ) = 1,\t‖Xᴳᵀ - Xᵏ‖₂ = 0.001, σ₁ = 2.238, ϵᵏ = 0.000\n",
      "k = 7,\trank(Xᵏ) = 1,\t‖Xᴳᵀ - Xᵏ‖₂ = 0.001, σ₁ = 2.238, ϵᵏ = 0.000\n",
      "k = 8,\trank(Xᵏ) = 1,\t‖Xᴳᵀ - Xᵏ‖₂ = 0.001, σ₁ = 2.238, ϵᵏ = 0.000\n",
      "k = 9,\trank(Xᵏ) = 1,\t‖Xᴳᵀ - Xᵏ‖₂ = 0.001, σ₁ = 2.238, ϵᵏ = 0.000\n",
      "k = 10,\trank(Xᵏ) = 1,\t‖Xᴳᵀ - Xᵏ‖₂ = 0.001, σ₁ = 2.238, ϵᵏ = 0.000\n",
      "  3.114524 seconds (6.84 M allocations: 335.284 MiB, 4.30% gc time)\n"
     ]
    }
   ],
   "source": [
    "@time HM_IRLS(Xᴳᵀ, y, Φ, N = 10);"
   ]
  },
  {
   "cell_type": "code",
   "execution_count": null,
   "metadata": {},
   "outputs": [],
   "source": []
  }
 ],
 "metadata": {
  "kernelspec": {
   "display_name": "Julia 1.4.1",
   "language": "julia",
   "name": "julia-1.4"
  },
  "language_info": {
   "file_extension": ".jl",
   "mimetype": "application/julia",
   "name": "julia",
   "version": "1.4.1"
  }
 },
 "nbformat": 4,
 "nbformat_minor": 4
}
