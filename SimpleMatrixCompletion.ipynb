{
 "cells": [
  {
   "cell_type": "code",
   "execution_count": 17,
   "metadata": {},
   "outputs": [],
   "source": [
    "using LinearAlgebra, ToeplitzMatrices, Random, IterativeSolvers, FunctionOperators, EllipsisNotation"
   ]
  },
  {
   "cell_type": "markdown",
   "metadata": {},
   "source": [
    "### The algorithm itself"
   ]
  },
  {
   "cell_type": "code",
   "execution_count": 93,
   "metadata": {},
   "outputs": [
    {
     "data": {
      "text/plain": [
       "HM_IRLS (generic function with 2 methods)"
      ]
     },
     "execution_count": 93,
     "metadata": {},
     "output_type": "execute_result"
    }
   ],
   "source": [
    "function HM_IRLS(\n",
    "        Xᴳᵀ::AbstractArray,                   # ground truth for MSE evaluation\n",
    "        y::AbstractArray,                     # under-sampled data\n",
    "        Φ::FunctionOperator;                  # sampling operator\n",
    "        shape::NTuple = size(Xᴳᵀ),            # size of output matrix\n",
    "        r̃::Int = 0,                           # rank estimate of solution\n",
    "        maxIter::Int = 3,                     # number of CG iteration steps\n",
    "        N::Int = 10,                          # number of iterations\n",
    "        verbose::Bool = false)                # print rank and loss value in each iteration\n",
    "    \n",
    "    dType = eltype(y)\n",
    "    d₁, d₂ = shape\n",
    "    \n",
    "    X⁰ = Φ' * y\n",
    "    Wᵏ = I\n",
    "    b = [y; zeros(dType, (d₁, d₂))]\n",
    "    ϵᵏ = Inf\n",
    "    Xᵏ = copy(X⁰)\n",
    "    \n",
    "    println(\"k = 0,\\trank(Xᵏ) = $(rank(Xᵏ)),\\t‖Xᴳᵀ - Xᵏ‖₂ = $(norm(Xᴳᵀ - Xᵏ))\")\n",
    "    \n",
    "    for k in 1:N\n",
    "        \n",
    "\"\"\"\n",
    "    1. Use a conjugate gradient method to solve linearly constrained quadratic program\n",
    "         Xᵏ = arg minₓ ⟨X,Wᵏ⁻¹(X)⟩ s.t. Φ(X) = y         (2.90)\n",
    "\"\"\"\n",
    "        CG_op = FunctionOperator{dType}(name = \"CG_op\", inDims = (d₁*d₂*2,), outDims = (d₁*d₂*2,),\n",
    "            forw = x_ext -> begin\n",
    "                x = reshape(x_ext, 2, d₁, d₂)[1, ..]\n",
    "                vec([Φ'Φ * x; Wᵏ * x])\n",
    "            end)\n",
    "        Xᵏ_ext = [Xᵏ; zeros(dType, (d₁, d₂))]\n",
    "        bicgstabl!(vec(Xᵏ_ext), CG_op, vec(b), max_mv_products = maxIter) # stabilized biconjugate gradients\n",
    "        Xᵏ = Xᵏ_ext[1:end÷2, :] # crop the the part we need\n",
    "        \n",
    "\"\"\"\n",
    "    2. Find best rank-(r̃ + 1) approximation of Xᵏ to obtain\n",
    "        𝒯ᵣ(Xᵏ) = Uᵏ * diag(σᵢᵏ)ᵢ₌₁ʳ * Vᵏ' and σᵣ₊₁ᵏ \n",
    "\"\"\"\n",
    "        F = svd(Xᵏ)\n",
    "        Uᵏ, σ, Vᵏ = F.U[:, 1:r̃+1], F.S, F.V[:, 1:r̃+1]\n",
    "\"\"\"     update smoothing:                                 (2.91) \"\"\"\n",
    "        ϵᵏ = min(ϵᵏ, σ[r̃+1])\n",
    "        \n",
    "\"\"\"\n",
    "    3. Update Wᵏ as in (2.57), using parameters ϵ = ϵᵏ and p in (2.58) and (2.59), and the\n",
    "        information Uᵏ , Vᵏ and σ₁ᵏ, ..., σᵣ₊₁ᵏ from item 2.\n",
    "\n",
    "        (Lines below are based on Remark 2.3.2, the special case for p = 0)\n",
    "\"\"\"\n",
    "        Hᵏ = [1 / (max(σ[i], ϵᵏ) * max(σ[j], ϵᵏ))  for i in 1:r̃+1, j in 1:r̃+1] # \n",
    "        Wᵏ = FunctionOperator{dType}(name = \"Wᵏ\", inDims = (d₁, d₂), outDims = (d₁, d₂),\n",
    "            forw = Z -> Uᵏ * (Hᵏ .* (Uᵏ' * Z * Vᵏ)) * Vᵏ')\n",
    "        \n",
    "        println(\"k = $k,\\trank(Xᵏ) = $(rank(Xᵏ)),\\t‖Xᴳᵀ - Xᵏ‖₂ = $(norm(Xᴳᵀ - Xᵏ))\")\n",
    "    end\n",
    "    \n",
    "    Xᵏ\n",
    "end"
   ]
  },
  {
   "cell_type": "markdown",
   "metadata": {},
   "source": [
    "### Some helper functions"
   ]
  },
  {
   "cell_type": "code",
   "execution_count": 34,
   "metadata": {},
   "outputs": [],
   "source": [
    "import Base.size\n",
    "function Base.size(FO::FunctionOperator, d::Int)\n",
    "    @assert d in [1, 2]\n",
    "    prod(d == 1 ? FO.outDims : FO.inDims)\n",
    "end"
   ]
  },
  {
   "cell_type": "code",
   "execution_count": 9,
   "metadata": {},
   "outputs": [
    {
     "data": {
      "text/plain": [
       "generateΦ (generic function with 1 method)"
      ]
     },
     "execution_count": 9,
     "metadata": {},
     "output_type": "execute_result"
    }
   ],
   "source": [
    "# This function randomly samples a $(d₁ \\times d₂)$ sparse matrix with ones at $m$ randomly chosen\n",
    "# coordinates (uniform without replacement). The output matrix has at least $r$ non-zero entries\n",
    "# in each row and each column, where $r$ is a specified positive integer. The number of ones in the\n",
    "# output matrix is exactly $m$.\n",
    "function generateΦ(d₁, d₂, r, m)\n",
    "    @assert max(d₁, d₂) * r ≤ m\n",
    "    @assert m ≤ d₁ * d₂\n",
    "    @assert r ≤ d₁\n",
    "    @assert r ≤ d₂\n",
    "    \n",
    "    # generate a square matrix where each row and each column has exactly r ones\n",
    "    initial = Circulant([fill(1, r)..., fill(0, min(d₁, d₂) - r)...])\n",
    "    \n",
    "    # Extend that matrix to a d₁×d₂ matrix where each row and each column has at least r ones\n",
    "    # That is accomplished by repeating the \"initial\" matrix and then cropping\n",
    "    if d₁ < d₂\n",
    "        M = repeat(initial, outer = (1, ceil(Int, d₂ / d₁)))\n",
    "    elseif d₁ > d₂\n",
    "        M = repeat(initial, outer = (ceil(Int, d₁ / d₂), 1))\n",
    "    else\n",
    "        M = initial\n",
    "    end\n",
    "    M = M[1:d₁, 1:d₂]\n",
    "    \n",
    "    # Randomly switch zeros to ones until exactly m number of ones are in the matrix\n",
    "    zero_places = findall(M .== 0)\n",
    "    number_of_missing_ones = m - (d₁*d₂ - length(zero_places))\n",
    "    number_of_missing_ones > 0 && (M[shuffle(zero_places)[1:number_of_missing_ones]] .= 1)\n",
    "    \n",
    "    # Then randomize matrix by permutating rows and columns a couple times\n",
    "    for i in 1:10\n",
    "        M .= M[shuffle(1:end), :] # shuffle rows\n",
    "        M .= M[:, shuffle(1:end)] # shuffle columns\n",
    "    end\n",
    "    \n",
    "    M\n",
    "end"
   ]
  },
  {
   "cell_type": "markdown",
   "metadata": {},
   "source": [
    "### Generate data\n",
    "\n",
    "#### That's how Chirstian generated the data to compare algorithms:"
   ]
  },
  {
   "cell_type": "code",
   "execution_count": 91,
   "metadata": {},
   "outputs": [
    {
     "name": "stdout",
     "output_type": "stream",
     "text": [
      "size(Xᴳᵀ) = (100, 100)\n",
      "rank(Xᴳᵀ) = 7\n",
      "rank(y) = 100\n"
     ]
    }
   ],
   "source": [
    "d₁, d₂, r = 100, 100, 7\n",
    "df_LR = r * (d₁ + d₂ - r) # Number of degrees of freedom of the setting\n",
    "m = floor(Int, min(1.05 * df_LR, d₁ * d₂))\n",
    "\n",
    "dType = ComplexF64\n",
    "U, S, V = randn(dType, d₁, r), Diagonal(randn(r)), randn(dType, d₂, r)\n",
    "Xᴳᵀ = U * S * V' # Ground Truth matrix\n",
    "\n",
    "@show size(Xᴳᵀ)\n",
    "@show rank(Xᴳᵀ);\n",
    "\n",
    "Φᴹ = generateΦ(d₁, d₂, r, m)\n",
    "Φ = FunctionOperator{dType}(name = \"Φ\", inDims = (d₁, d₂), outDims = (d₁, d₂),\n",
    "    forw = (b,x) -> b .= Φᴹ .* x, backw = (b,x) -> b .= x)\n",
    "y = Φ * Xᴳᵀ\n",
    "@show rank(y);"
   ]
  },
  {
   "cell_type": "code",
   "execution_count": 94,
   "metadata": {},
   "outputs": [
    {
     "name": "stdout",
     "output_type": "stream",
     "text": [
      "k = 0,\trank(Xᵏ) = 100,\t‖Xᴳᵀ - Xᵏ‖₂ = 176.8729774834078\n",
      "k = 1,\trank(Xᵏ) = 100,\t‖Xᴳᵀ - Xᵏ‖₂ = 185.564976608905\n",
      "k = 2,\trank(Xᵏ) = 100,\t‖Xᴳᵀ - Xᵏ‖₂ = 632.2462503242906\n",
      "k = 3,\trank(Xᵏ) = 100,\t‖Xᴳᵀ - Xᵏ‖₂ = 1229.4714490421254\n",
      "k = 4,\trank(Xᵏ) = 100,\t‖Xᴳᵀ - Xᵏ‖₂ = 1644.5586340854968\n",
      "k = 5,\trank(Xᵏ) = 100,\t‖Xᴳᵀ - Xᵏ‖₂ = 1826.7171304714955\n",
      "k = 6,\trank(Xᵏ) = 100,\t‖Xᴳᵀ - Xᵏ‖₂ = 2167.988608432281\n",
      "k = 7,\trank(Xᵏ) = 100,\t‖Xᴳᵀ - Xᵏ‖₂ = 2305.884006078355\n",
      "k = 8,\trank(Xᵏ) = 100,\t‖Xᴳᵀ - Xᵏ‖₂ = 3032.853767438843\n",
      "k = 9,\trank(Xᵏ) = 100,\t‖Xᴳᵀ - Xᵏ‖₂ = 3111.2634495222196\n",
      "k = 10,\trank(Xᵏ) = 100,\t‖Xᴳᵀ - Xᵏ‖₂ = 3312.686043584227\n",
      "  0.485198 seconds (543.03 k allocations: 145.019 MiB, 8.62% gc time)\n"
     ]
    }
   ],
   "source": [
    "@time HM_IRLS(Xᴳᵀ, y, Φ, N = 10);"
   ]
  },
  {
   "cell_type": "markdown",
   "metadata": {},
   "source": [
    "#### An easy problem:"
   ]
  },
  {
   "cell_type": "code",
   "execution_count": 103,
   "metadata": {},
   "outputs": [
    {
     "name": "stdout",
     "output_type": "stream",
     "text": [
      "size(Xᴳᵀ) = (10, 10)\n",
      "rank(Xᴳᵀ) = 1\n",
      "rank(y) = 4\n"
     ]
    }
   ],
   "source": [
    "d = 10\n",
    "v = rand(d)\n",
    "Xᴳᵀ = v * v'  # Ground Truth matrix\n",
    "@show size(Xᴳᵀ)\n",
    "@show rank(Xᴳᵀ)\n",
    "\n",
    "# mask that erases 5 elements:\n",
    "num_of_points_to_erase = 5\n",
    "Φᴹ = reshape(shuffle!([fill(0, num_of_points_to_erase)...,\n",
    "            fill(1, d*d - num_of_points_to_erase)...]), d, d)\n",
    "Φ = FunctionOperator{Float64}(name = \"Φ\", inDims = (d, d), outDims = (d, d),\n",
    "    forw = (b,x) -> b .= Φᴹ .* x, backw = (b,x) -> b .= x)\n",
    "\n",
    "y = Φ * Xᴳᵀ\n",
    "@show rank(y);"
   ]
  },
  {
   "cell_type": "code",
   "execution_count": 104,
   "metadata": {},
   "outputs": [
    {
     "name": "stdout",
     "output_type": "stream",
     "text": [
      "k = 0,\trank(Xᵏ) = 4,\t‖Xᴳᵀ - Xᵏ‖₂ = 0.55469945286125\n",
      "k = 1,\trank(Xᵏ) = 4,\t‖Xᴳᵀ - Xᵏ‖₂ = 5.020881565879722\n",
      "k = 2,\trank(Xᵏ) = 4,\t‖Xᴳᵀ - Xᵏ‖₂ = 5.030105996305296\n",
      "k = 3,\trank(Xᵏ) = 4,\t‖Xᴳᵀ - Xᵏ‖₂ = 6.3359699325930965\n",
      "k = 4,\trank(Xᵏ) = 4,\t‖Xᴳᵀ - Xᵏ‖₂ = 77.82130976070576\n",
      "k = 5,\trank(Xᵏ) = 4,\t‖Xᴳᵀ - Xᵏ‖₂ = 133.4250873941241\n",
      "k = 6,\trank(Xᵏ) = 4,\t‖Xᴳᵀ - Xᵏ‖₂ = 183.80576126779502\n",
      "k = 7,\trank(Xᵏ) = 4,\t‖Xᴳᵀ - Xᵏ‖₂ = 254.0177948525734\n",
      "k = 8,\trank(Xᵏ) = 4,\t‖Xᴳᵀ - Xᵏ‖₂ = 293.25797761437633\n",
      "k = 9,\trank(Xᵏ) = 4,\t‖Xᴳᵀ - Xᵏ‖₂ = 354.2763504623122\n",
      "k = 10,\trank(Xᵏ) = 4,\t‖Xᴳᵀ - Xᵏ‖₂ = 413.53799784140466\n",
      "  0.043236 seconds (34.08 k allocations: 2.203 MiB)\n"
     ]
    }
   ],
   "source": [
    "@time HM_IRLS(Xᴳᵀ, y, Φ, N = 10);"
   ]
  },
  {
   "cell_type": "code",
   "execution_count": null,
   "metadata": {},
   "outputs": [],
   "source": []
  }
 ],
 "metadata": {
  "kernelspec": {
   "display_name": "Julia 1.4.0",
   "language": "julia",
   "name": "julia-1.4"
  },
  "language_info": {
   "file_extension": ".jl",
   "mimetype": "application/julia",
   "name": "julia",
   "version": "1.4.0"
  }
 },
 "nbformat": 4,
 "nbformat_minor": 4
}
