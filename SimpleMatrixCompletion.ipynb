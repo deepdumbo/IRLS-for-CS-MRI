{
 "cells": [
  {
   "cell_type": "code",
   "execution_count": 51,
   "metadata": {},
   "outputs": [],
   "source": [
    "using LinearAlgebra, ToeplitzMatrices, Random, IterativeSolvers, FunctionOperators, EllipsisNotation, Printf"
   ]
  },
  {
   "cell_type": "code",
   "execution_count": 12,
   "metadata": {},
   "outputs": [
    {
     "name": "stdout",
     "output_type": "stream",
     "text": [
      "size(Xᴳᵀ) = (10, 10)\n",
      "rank(Xᴳᵀ) = 1\n",
      "size(y) = (95,)\n",
      "size(Φ' * y) = (10, 10)\n",
      "rank(Φ' * y) = 5\n"
     ]
    }
   ],
   "source": [
    "d = 10\n",
    "v = rand(d)\n",
    "Xᴳᵀ = v * v'  # Ground Truth matrix\n",
    "@show size(Xᴳᵀ)\n",
    "@show rank(Xᴳᵀ)\n",
    "\n",
    "# mask that erases 5 elements:\n",
    "num_of_points_to_erase = 5\n",
    "Φᴹ = reshape(shuffle!([fill(0, num_of_points_to_erase)...,\n",
    "            fill(1, d*d - num_of_points_to_erase)...]), d, d)\n",
    "bit_mask = Φᴹ .== 1\n",
    "m = Int(sum(Φᴹ))\n",
    "Φ = FunctionOperator{Float64}(name = \"Φ\", inDims = (d, d), outDims = (m,),\n",
    "    forw = (b,x) -> b .= x[bit_mask], backw = (b,x) -> begin b[bit_mask] .= x; b; end)\n",
    "\n",
    "y = Φ * Xᴳᵀ\n",
    "@show size(y)\n",
    "@show size(Φ' * y)\n",
    "@show rank(Φ' * y);"
   ]
  },
  {
   "cell_type": "markdown",
   "metadata": {},
   "source": [
    "### The algorithm itself"
   ]
  },
  {
   "cell_type": "code",
   "execution_count": 56,
   "metadata": {},
   "outputs": [
    {
     "data": {
      "text/plain": [
       "HM_IRLS (generic function with 1 method)"
      ]
     },
     "execution_count": 56,
     "metadata": {},
     "output_type": "execute_result"
    }
   ],
   "source": [
    "function HM_IRLS(\n",
    "        Xᴳᵀ::AbstractArray,                   # ground truth for MSE evaluation\n",
    "        y::AbstractArray,                     # under-sampled data\n",
    "        Φ::FunctionOperator;                  # sampling operator\n",
    "        shape::NTuple = size(Xᴳᵀ),            # size of output matrix\n",
    "        r̃::Int = 0,                           # rank estimate of solution\n",
    "        maxIter::Int = 3,                     # number of CG iteration steps\n",
    "        N::Int = 10,                          # number of iterations\n",
    "        verbose::Bool = false)                # print rank and loss value in each iteration\n",
    "    \n",
    "    dType = eltype(y)\n",
    "    d₁, d₂ = shape\n",
    "    r̃ == 0 && (r̃ = rank(Xᴳᵀ))\n",
    "    \n",
    "    ϵᵏ = Inf\n",
    "    Xᵏ = Φ' * y\n",
    "    \n",
    "    for k in 1:N\n",
    "\"\"\"\n",
    "    2. Find best rank-(r̃ + 1) approximation of Xᵏ to obtain\n",
    "        𝒯ᵣ(Xᵏ) = Uᵏ * diag(σᵢᵏ)ᵢ₌₁ʳ * Vᵏ' and σᵣ₊₁ᵏ \n",
    "\"\"\"\n",
    "        F = svd(Xᵏ)\n",
    "        Uᵏ, σ, Vᵏ = F.U[:, 1:r̃], F.S, F.V[:, 1:r̃]\n",
    "        \n",
    "\"\"\"     update smoothing:                                 (2.91) \"\"\"\n",
    "        ϵᵏ = min(ϵᵏ, σ[r̃+1])\n",
    "        \n",
    "        r, n, s, e = rank(Xᵏ), norm₂(Xᴳᵀ - Xᵏ), σ[1], ϵᵏ\n",
    "        n, s, e = @sprintf(\"%.3f\", n), @sprintf(\"%.3f\", s), @sprintf(\"%.3f\", e)\n",
    "        println(\"k = $(k-1),\\trank(Xᵏ) = $r,\\t‖Xᴳᵀ - Xᵏ‖₂ = $n, σ₁ = $s, ϵᵏ = $e\")\n",
    "        \n",
    "\"\"\"\n",
    "    3. Update Wᵏ as in (2.57), using parameters ϵ = ϵᵏ and p in (2.58) and (2.59), and the\n",
    "        information Uᵏ , Vᵏ and σ₁ᵏ, ..., σᵣ₊₁ᵏ from item 2.\n",
    "\n",
    "        (Lines below are based on Remark 2.3.2, the special case for p = 0)\n",
    "\"\"\"\n",
    "        # Hᵏ = [1 / (max(σ[i], ϵᵏ) * max(σ[j], ϵᵏ))  for i in 1:r̃+1, j in 1:r̃+1]\n",
    "        #Wᵏ = FunctionOperator{dType}(name = \"Wᵏ\", inDims = (d₁, d₂), outDims = (d₁, d₂),\n",
    "        #    forw = Z -> Uᵏ * (Hᵏ .* (Uᵏ' * Z * Vᵏ)) * Vᵏ')\n",
    "        \n",
    "\"\"\"\n",
    "    1. Use a conjugate gradient method to solve linearly constrained quadratic program\n",
    "         Xᵏ = arg minₓ ⟨X,Wᵏ⁻¹(X)⟩ s.t. Φ(X) = y         (2.90)\n",
    "\"\"\"\n",
    "        \n",
    "        Hᵏᵤᵥ = [1 / (max(σ[i], ϵᵏ) * max(σ[j], ϵᵏ))  for i in 1:r̃, j in 1:r̃] # the upper-left (r × r) block of (d₁ × d₂) Hᵏ matrix\n",
    "        dHᵏ = reshape([1 / (max(σ[r̃+1], ϵᵏ) * max(σ[j], ϵᵏ))  for j in 1:r̃], :, 1) # the first column of Hᵏᵤᵥ⟂\n",
    "        Pᵏ = FunctionOperator{dType}(name=\"Pᵏ\", inDims = (r̃*(r̃+d₁+d₂),), outDims = (d₁, d₂),\n",
    "            forw = γ -> begin\n",
    "                    γ = reshape(γ, r̃, r̃+d₁+d₂)\n",
    "                    γ₁, γ₂, γ₃ = γ[:,1:r̃], γ[:,r̃+1:r̃+d₁], γ[:,r̃+d₁+1:r̃+d₁+d₂]\n",
    "                    (Uᵏ * γ₁ + γ₂') * Vᵏ' + Uᵏ * γ₃\n",
    "                end,\n",
    "            backw = Φᵃy -> begin\n",
    "                    γ₁ = Uᵏ' * Φᵃy * Vᵏ\n",
    "                    γ₂ = (I - Uᵏ*Uᵏ') * Φᵃy * Vᵏ\n",
    "                    γ₃ = Uᵏ' * Φᵃy * (I - Vᵏ*Vᵏ')\n",
    "                    vec(hcat(γ₁, γ₂', γ₃)) # is it ok to transpose γ₂ ??\n",
    "                end)\n",
    "        b = Pᵏ' * Φ' * y\n",
    "        𝒟⁻¹ = Diagonal(vec(hcat(Hᵏᵤᵥ, repeat(dHᵏ, outer=(1, d₁)), repeat(dHᵏ, outer=(1, d₂)))))\n",
    "        CG_op = FunctionOperator{dType}(name = \"CG_op\", inDims = (r̃*(r̃+d₁+d₂),), outDims = (r̃*(r̃+d₁+d₂),),\n",
    "            forw = γ ->  begin\n",
    "                    #println(size((ϵᵏ^2 * I / (𝒟⁻¹ - ϵᵏ^2 * I)) * γ))\n",
    "                    #println(size(Φ * Pᵏ * γ))\n",
    "                    #println(size(Pᵏ' * Φ' * Φ * Pᵏ * γ))\n",
    "                    (ϵᵏ^2 * I / (𝒟⁻¹ - ϵᵏ^2 * I)) * γ + Pᵏ' * Φ' * Φ * Pᵏ * γ\n",
    "                end)\n",
    "        γᵏ = cg(CG_op, b, maxiter = maxIter) # 2.167\n",
    "        rᵏ = y - Φ * Pᵏ * γᵏ\n",
    "        γᵏ_tilde = (𝒟⁻¹ / (𝒟⁻¹ - ϵᵏ^2 * I)) * γᵏ - Pᵏ' * Φ' * rᵏ\n",
    "        Xᵏ = Φ' * rᵏ + Pᵏ * γᵏ_tilde   # 2.168\n",
    "    end\n",
    "    \n",
    "    println(\"k = $(k-1),\\trank(Xᵏ) = $r,\\t‖Xᴳᵀ - Xᵏ‖₂ = $n, σ₁ = $s, ϵᵏ = $e\")\n",
    "    \n",
    "    Xᵏ\n",
    "end"
   ]
  },
  {
   "cell_type": "code",
   "execution_count": 60,
   "metadata": {},
   "outputs": [
    {
     "name": "stdout",
     "output_type": "stream",
     "text": [
      "k = 0,\trank(Xᵏ) = 100,\t‖Xᴳᵀ - Xᵏ‖₂ = 197.185, σ₁ = 35.775, ϵᵏ = 18.771\n",
      "k = 1,\trank(Xᵏ) = 100,\t‖Xᴳᵀ - Xᵏ‖₂ = 225.056, σ₁ = 135.500, ϵᵏ = 18.771\n",
      "k = 2,\trank(Xᵏ) = 100,\t‖Xᴳᵀ - Xᵏ‖₂ = 191.552, σ₁ = 45.714, ϵᵏ = 18.771\n",
      "k = 3,\trank(Xᵏ) = 100,\t‖Xᴳᵀ - Xᵏ‖₂ = 226.305, σ₁ = 106.121, ϵᵏ = 18.771\n",
      "k = 4,\trank(Xᵏ) = 100,\t‖Xᴳᵀ - Xᵏ‖₂ = 190.294, σ₁ = 46.880, ϵᵏ = 18.771\n",
      "k = 5,\trank(Xᵏ) = 100,\t‖Xᴳᵀ - Xᵏ‖₂ = 226.261, σ₁ = 95.904, ϵᵏ = 18.771\n",
      "k = 6,\trank(Xᵏ) = 100,\t‖Xᴳᵀ - Xᵏ‖₂ = 190.149, σ₁ = 47.067, ϵᵏ = 18.771\n",
      "k = 7,\trank(Xᵏ) = 100,\t‖Xᴳᵀ - Xᵏ‖₂ = 226.096, σ₁ = 92.236, ϵᵏ = 18.771\n",
      "k = 8,\trank(Xᵏ) = 100,\t‖Xᴳᵀ - Xᵏ‖₂ = 189.924, σ₁ = 47.144, ϵᵏ = 18.771\n",
      "k = 9,\trank(Xᵏ) = 100,\t‖Xᴳᵀ - Xᵏ‖₂ = 226.059, σ₁ = 91.270, ϵᵏ = 18.771\n",
      "k = 10,\trank(Xᵏ) = 100,\t‖Xᴳᵀ - Xᵏ‖₂ = 189.931, σ₁ = 47.172, ϵᵏ = 18.771\n",
      "k = 11,\trank(Xᵏ) = 100,\t‖Xᴳᵀ - Xᵏ‖₂ = 226.013, σ₁ = 91.011, ϵᵏ = 18.771\n",
      "k = 12,\trank(Xᵏ) = 100,\t‖Xᴳᵀ - Xᵏ‖₂ = 189.885, σ₁ = 47.148, ϵᵏ = 18.771\n",
      "k = 13,\trank(Xᵏ) = 100,\t‖Xᴳᵀ - Xᵏ‖₂ = 226.011, σ₁ = 90.976, ϵᵏ = 18.771\n",
      "k = 14,\trank(Xᵏ) = 100,\t‖Xᴳᵀ - Xᵏ‖₂ = 189.876, σ₁ = 47.140, ϵᵏ = 18.771\n",
      "k = 15,\trank(Xᵏ) = 100,\t‖Xᴳᵀ - Xᵏ‖₂ = 226.026, σ₁ = 91.006, ϵᵏ = 18.771\n",
      "k = 16,\trank(Xᵏ) = 100,\t‖Xᴳᵀ - Xᵏ‖₂ = 189.868, σ₁ = 47.131, ϵᵏ = 18.771\n",
      "k = 17,\trank(Xᵏ) = 100,\t‖Xᴳᵀ - Xᵏ‖₂ = 226.042, σ₁ = 91.080, ϵᵏ = 18.771\n",
      "k = 18,\trank(Xᵏ) = 100,\t‖Xᴳᵀ - Xᵏ‖₂ = 189.861, σ₁ = 47.134, ϵᵏ = 18.771\n",
      "k = 19,\trank(Xᵏ) = 100,\t‖Xᴳᵀ - Xᵏ‖₂ = 226.073, σ₁ = 91.107, ϵᵏ = 18.771\n",
      "  2.281161 seconds (358.69 k allocations: 1.118 GiB, 3.34% gc time)\n"
     ]
    }
   ],
   "source": [
    "@time HM_IRLS(Xᴳᵀ, y, Φ, maxIter = 100, N = 20);"
   ]
  },
  {
   "cell_type": "code",
   "execution_count": 83,
   "metadata": {},
   "outputs": [
    {
     "data": {
      "text/plain": [
       "HM_IRLS (generic function with 1 method)"
      ]
     },
     "execution_count": 83,
     "metadata": {},
     "output_type": "execute_result"
    }
   ],
   "source": [
    "function HM_IRLS(\n",
    "        Xᴳᵀ::AbstractArray,                   # ground truth for MSE evaluation\n",
    "        y::AbstractArray,                     # under-sampled data\n",
    "        Φ::FunctionOperator;                  # sampling operator\n",
    "        shape::NTuple = size(Xᴳᵀ),            # size of output matrix\n",
    "        r̃::Int = 0,                           # rank estimate of solution\n",
    "        maxIter::Int = 3,                     # number of CG iteration steps\n",
    "        N::Int = 10,                          # number of iterations\n",
    "        verbose::Bool = false)                # print rank and loss value in each iteration\n",
    "    \n",
    "    dType = eltype(y)\n",
    "    d₁, d₂ = shape\n",
    "    r̃ == 0 && (r̃ = rank(Xᴳᵀ))\n",
    "    \n",
    "    X⁰ = Φ' * y\n",
    "    Wᵏ = I\n",
    "    b = [y; zeros(dType, (d₁, d₂))]\n",
    "    ϵᵏ = Inf\n",
    "    Xᵏ = copy(X⁰)\n",
    "    \n",
    "    println(\"k = 0,\\trank(Xᵏ) = $(rank(Xᵏ)),\\t‖Xᴳᵀ - Xᵏ‖₂ = $(norm(Xᴳᵀ - Xᵏ))\")\n",
    "    \n",
    "    for k in 1:N\n",
    "        \n",
    "\"\"\"\n",
    "    1. Use a conjugate gradient method to solve linearly constrained quadratic program\n",
    "         Xᵏ = arg minₓ ⟨X,Wᵏ⁻¹(X)⟩ s.t. Φ(X) = y         (2.90)\n",
    "\"\"\"\n",
    "        CG_op = FunctionOperator{dType}(name = \"CG_op\", inDims = (d₁*d₂*2,), outDims = (d₁*d₂*2,),\n",
    "            forw = x_ext -> begin\n",
    "                x = reshape(x_ext, 2, d₁, d₂)[1, ..]\n",
    "                vec([Φ' * Φ * x; Wᵏ * x])\n",
    "            end)\n",
    "        Xᵏ_ext = [Xᵏ; zeros(dType, (d₁, d₂))]\n",
    "        bicgstabl!(vec(Xᵏ_ext), CG_op, vec(b), #Pl = ,\n",
    "            max_mv_products = maxIter) # stabilized biconjugate gradients\n",
    "        Xᵏ_ext[1:end÷2, :]\n",
    "        Xᵏ = Xᵏ_ext[1:end÷2, :] # crop the the part we need\n",
    "        \n",
    "\"\"\"\n",
    "    2. Find best rank-(r̃ + 1) approximation of Xᵏ to obtain\n",
    "        𝒯ᵣ(Xᵏ) = Uᵏ * diag(σᵢᵏ)ᵢ₌₁ʳ * Vᵏ' and σᵣ₊₁ᵏ \n",
    "\"\"\"\n",
    "        F = svd(Xᵏ)\n",
    "        Uᵏ, σ, Vᵏ = F.U[:, 1:r̃+1], F.S, F.V[:, 1:r̃+1]\n",
    "        println(\"σ₁: \", σ[1])\n",
    "\"\"\"     update smoothing:                                 (2.91) \"\"\"\n",
    "        ϵᵏ = min(ϵᵏ, σ[r̃+1])\n",
    "        println(\"ϵᵏ: \", ϵᵏ)\n",
    "        \n",
    "\"\"\"\n",
    "    3. Update Wᵏ as in (2.57), using parameters ϵ = ϵᵏ and p in (2.58) and (2.59), and the\n",
    "        information Uᵏ , Vᵏ and σ₁ᵏ, ..., σᵣ₊₁ᵏ from item 2.\n",
    "\n",
    "        (Lines below are based on Remark 2.3.2, the special case for p = 0)\n",
    "\"\"\"\n",
    "        Hᵏ = [1 / (max(σ[i], ϵᵏ) * max(σ[j], ϵᵏ))  for i in 1:r̃+1, j in 1:r̃+1] # \n",
    "        Wᵏ = FunctionOperator{dType}(name = \"Wᵏ\", inDims = (d₁, d₂), outDims = (d₁, d₂),\n",
    "            forw = Z -> Uᵏ * (Hᵏ .* (Uᵏ' * Z * Vᵏ)) * Vᵏ')\n",
    "        \n",
    "        println(\"k = $k,\\trank(Xᵏ) = $(rank(Xᵏ)),\\t‖Xᴳᵀ - Xᵏ‖₂ = $(norm₂(Xᴳᵀ - Xᵏ))\")\n",
    "    end\n",
    "    \n",
    "    Xᵏ\n",
    "end"
   ]
  },
  {
   "cell_type": "code",
   "execution_count": 85,
   "metadata": {},
   "outputs": [
    {
     "name": "stdout",
     "output_type": "stream",
     "text": [
      "k = 0,\trank(Xᵏ) = 100,\t‖Xᴳᵀ - Xᵏ‖₂ = 249.87729971831368\n",
      "σ₁: 8.434948101987105e15\n",
      "ϵᵏ: 4.5078289462956025e14\n",
      "k = 1,\trank(Xᵏ) = 99,\t‖Xᴳᵀ - Xᵏ‖₂ = 8.43494810198711e15\n",
      "σ₁: 5.337565515140542e45\n",
      "ϵᵏ: 4.5078289462956025e14\n",
      "k = 2,\trank(Xᵏ) = 25,\t‖Xᴳᵀ - Xᵏ‖₂ = 5.337565515140541e45\n",
      "σ₁: 7.731340991909634e114\n",
      "ϵᵏ: 4.5078289462956025e14\n",
      "k = 3,\trank(Xᵏ) = 8,\t‖Xᴳᵀ - Xᵏ‖₂ = 7.731340991909632e114\n"
     ]
    },
    {
     "ename": "SingularException",
     "evalue": "SingularException(2)",
     "output_type": "error",
     "traceback": [
      "SingularException(2)",
      "",
      "Stacktrace:",
      " [1] checknonsingular at /buildworker/worker/package_linux64/build/usr/share/julia/stdlib/v1.4/LinearAlgebra/src/factorization.jl:19 [inlined]",
      " [2] checknonsingular at /buildworker/worker/package_linux64/build/usr/share/julia/stdlib/v1.4/LinearAlgebra/src/factorization.jl:21 [inlined]",
      " [3] lu!(::SubArray{Complex{Float64},2,Array{Complex{Float64},2},Tuple{UnitRange{Int64},UnitRange{Int64}},false}, ::Val{true}; check::Bool) at /buildworker/worker/package_linux64/build/usr/share/julia/stdlib/v1.4/LinearAlgebra/src/lu.jl:85",
      " [4] lu! at /buildworker/worker/package_linux64/build/usr/share/julia/stdlib/v1.4/LinearAlgebra/src/lu.jl:81 [inlined] (repeats 2 times)",
      " [5] iterate(::BiCGStabIterable{Identity,FunctionOperator{Complex{Float64}},Array{Complex{Float64},1},Array{Complex{Float64},1},Array{Complex{Float64},2},Float64,Complex{Float64}}, ::Int64) at /home/hakkelt/.julia/packages/IterativeSolvers/3g7hG/src/bicgstabl.jl:123",
      " [6] iterate at ./iterators.jl:139 [inlined]",
      " [7] bicgstabl!(::Array{Complex{Float64},1}, ::FunctionOperator{Complex{Float64}}, ::Array{Complex{Float64},1}, ::Int64; tol::Float64, max_mv_products::Int64, log::Bool, verbose::Bool, Pl::Identity, kwargs::Base.Iterators.Pairs{Union{},Union{},Tuple{},NamedTuple{(),Tuple{}}}) at /home/hakkelt/.julia/packages/IterativeSolvers/3g7hG/src/bicgstabl.jl:203",
      " [8] HM_IRLS(::Array{Complex{Float64},2}, ::Array{Complex{Float64},2}, ::FunctionOperator{Complex{Float64}}; shape::Tuple{Int64,Int64}, r̃::Int64, maxIter::Int64, N::Int64, verbose::Bool) at ./In[83]:35",
      " [9] macro expansion at ./util.jl:175 [inlined]",
      " [10] top-level scope at ./In[85]:1"
     ]
    }
   ],
   "source": [
    "@time HM_IRLS(Xᴳᵀ, y, Φ, maxIter = 200, N = 10);"
   ]
  },
  {
   "cell_type": "markdown",
   "metadata": {},
   "source": [
    "### Some helper functions"
   ]
  },
  {
   "cell_type": "code",
   "execution_count": 2,
   "metadata": {},
   "outputs": [],
   "source": [
    "import Base.size\n",
    "function Base.size(FO::FunctionOperator, d::Int)\n",
    "    @assert d in [1, 2]\n",
    "    prod(d == 1 ? FO.outDims : FO.inDims)\n",
    "end"
   ]
  },
  {
   "cell_type": "code",
   "execution_count": 3,
   "metadata": {},
   "outputs": [
    {
     "data": {
      "text/plain": [
       "#3 (generic function with 1 method)"
      ]
     },
     "execution_count": 3,
     "metadata": {},
     "output_type": "execute_result"
    }
   ],
   "source": [
    "norm₂ = (A) -> svdvals(A)[1]"
   ]
  },
  {
   "cell_type": "code",
   "execution_count": 4,
   "metadata": {},
   "outputs": [
    {
     "data": {
      "text/plain": [
       "generateΦ (generic function with 1 method)"
      ]
     },
     "execution_count": 4,
     "metadata": {},
     "output_type": "execute_result"
    }
   ],
   "source": [
    "# This function randomly samples a $(d₁ \\times d₂)$ sparse matrix with ones at $m$ randomly chosen\n",
    "# coordinates (uniform without replacement). The output matrix has at least $r$ non-zero entries\n",
    "# in each row and each column, where $r$ is a specified positive integer. The number of ones in the\n",
    "# output matrix is exactly $m$.\n",
    "function generateΦ(d₁, d₂, r, m)\n",
    "    @assert max(d₁, d₂) * r ≤ m\n",
    "    @assert m ≤ d₁ * d₂\n",
    "    @assert r ≤ d₁\n",
    "    @assert r ≤ d₂\n",
    "    \n",
    "    # generate a square matrix where each row and each column has exactly r ones\n",
    "    initial = Circulant([fill(1, r)..., fill(0, min(d₁, d₂) - r)...])\n",
    "    \n",
    "    # Extend that matrix to a d₁×d₂ matrix where each row and each column has at least r ones\n",
    "    # That is accomplished by repeating the \"initial\" matrix and then cropping\n",
    "    if d₁ < d₂\n",
    "        M = repeat(initial, outer = (1, ceil(Int, d₂ / d₁)))\n",
    "    elseif d₁ > d₂\n",
    "        M = repeat(initial, outer = (ceil(Int, d₁ / d₂), 1))\n",
    "    else\n",
    "        M = initial\n",
    "    end\n",
    "    M = M[1:d₁, 1:d₂]\n",
    "    \n",
    "    # Randomly switch zeros to ones until exactly m number of ones are in the matrix\n",
    "    zero_places = findall(M .== 0)\n",
    "    number_of_missing_ones = m - (d₁*d₂ - length(zero_places))\n",
    "    number_of_missing_ones > 0 && (M[shuffle(zero_places)[1:number_of_missing_ones]] .= 1)\n",
    "    \n",
    "    # Then randomize matrix by permutating rows and columns a couple times\n",
    "    for i in 1:10\n",
    "        M .= M[shuffle(1:end), :] # shuffle rows\n",
    "        M .= M[:, shuffle(1:end)] # shuffle columns\n",
    "    end\n",
    "    \n",
    "    M\n",
    "end"
   ]
  },
  {
   "cell_type": "code",
   "execution_count": 5,
   "metadata": {},
   "outputs": [
    {
     "data": {
      "text/plain": [
       "maskToMatrix (generic function with 1 method)"
      ]
     },
     "execution_count": 5,
     "metadata": {},
     "output_type": "execute_result"
    }
   ],
   "source": [
    "function maskToMatrix(Φᴹ)\n",
    "    m = convert(Int, sum(Φᴹ))\n",
    "    d₁, d₂ = size(Φᴹ)\n",
    "\n",
    "    Φ = zeros(m, length(Φᴹ))\n",
    "    non_zero_places = findall(vec(Φᴹ) .== 1)\n",
    "    for i in 1:m\n",
    "        Φ[i, non_zero_places[i]] = 1\n",
    "    end\n",
    "end"
   ]
  },
  {
   "cell_type": "markdown",
   "metadata": {},
   "source": [
    "### Generate data\n",
    "\n",
    "#### That's how Chirstian generated the data to compare algorithms:"
   ]
  },
  {
   "cell_type": "code",
   "execution_count": 6,
   "metadata": {},
   "outputs": [
    {
     "name": "stdout",
     "output_type": "stream",
     "text": [
      "size(Xᴳᵀ) = (100, 100)\n",
      "rank(Xᴳᵀ) = 7\n",
      "rank(y) = 100\n"
     ]
    }
   ],
   "source": [
    "d₁, d₂, r = 100, 100, 7\n",
    "df_LR = r * (d₁ + d₂ - r) # Number of degrees of freedom of the setting\n",
    "m = floor(Int, min(1.05 * df_LR, d₁ * d₂))\n",
    "\n",
    "dType = ComplexF64\n",
    "U, S, V = randn(dType, d₁, r), Diagonal(randn(r)), randn(dType, d₂, r)\n",
    "Xᴳᵀ = U * S * V' # Ground Truth matrix\n",
    "\n",
    "@show size(Xᴳᵀ)\n",
    "@show rank(Xᴳᵀ);\n",
    "\n",
    "Φᴹ = generateΦ(d₁, d₂, r, m)\n",
    "Φ = FunctionOperator{dType}(name = \"Φ\", inDims = (d₁, d₂), outDims = (d₁, d₂),\n",
    "    forw = (b,x) -> b .= Φᴹ .* x, backw = (b,x) -> b .= x)\n",
    "y = Φ * Xᴳᵀ\n",
    "@show rank(y);"
   ]
  },
  {
   "cell_type": "code",
   "execution_count": 7,
   "metadata": {},
   "outputs": [
    {
     "data": {
      "text/plain": [
       "true"
      ]
     },
     "execution_count": 7,
     "metadata": {},
     "output_type": "execute_result"
    }
   ],
   "source": [
    "Φᴹ .* Xᴳᵀ == Φ * Xᴳᵀ"
   ]
  },
  {
   "cell_type": "code",
   "execution_count": 24,
   "metadata": {},
   "outputs": [
    {
     "name": "stdout",
     "output_type": "stream",
     "text": [
      "k = 0,\trank(Xᵏ) = 100,\t‖Xᴳᵀ - Xᵏ‖₂ = 229.55303757693594\n",
      "5.283342883762677e18\n",
      "27.703482115888328\n",
      "k = 1,\trank(Xᵏ) = 99,\t‖Xᴳᵀ - Xᵏ‖₂ = 9.116281210837809e18\n",
      "5.630430334974542e71\n",
      "27.703482115888328\n",
      "k = 2,\trank(Xᵏ) = 7,\t‖Xᴳᵀ - Xᵏ‖₂ = 7.90630929664771e71\n",
      " ** On entry to DLASCLS parameter number  4 had an illegal value\n",
      " ** On entry to DLASCLS parameter number  4 had an illegal value\n"
     ]
    },
    {
     "ename": "LAPACKException",
     "evalue": "LAPACKException(23)",
     "output_type": "error",
     "traceback": [
      "LAPACKException(23)",
      "",
      "Stacktrace:",
      " [1] chklapackerror at /buildworker/worker/package_linux64/build/usr/share/julia/stdlib/v1.4/LinearAlgebra/src/lapack.jl:38 [inlined]",
      " [2] gesdd!(::Char, ::Array{Complex{Float64},2}) at /buildworker/worker/package_linux64/build/usr/share/julia/stdlib/v1.4/LinearAlgebra/src/lapack.jl:1667",
      " [3] _svd! at /buildworker/worker/package_linux64/build/usr/share/julia/stdlib/v1.4/LinearAlgebra/src/svd.jl:105 [inlined]",
      " [4] svd!(::Array{Complex{Float64},2}; full::Bool, alg::LinearAlgebra.DivideAndConquer) at /buildworker/worker/package_linux64/build/usr/share/julia/stdlib/v1.4/LinearAlgebra/src/svd.jl:98",
      " [5] #svd#93 at /buildworker/worker/package_linux64/build/usr/share/julia/stdlib/v1.4/LinearAlgebra/src/svd.jl:158 [inlined]",
      " [6] svd(::Array{Complex{Float64},2}) at /buildworker/worker/package_linux64/build/usr/share/julia/stdlib/v1.4/LinearAlgebra/src/svd.jl:158",
      " [7] HM_IRLS(::Array{Complex{Float64},2}, ::Array{Complex{Float64},2}, ::FunctionOperator{Complex{Float64}}; shape::Tuple{Int64,Int64}, r̃::Int64, maxIter::Int64, N::Int64, verbose::Bool) at ./In[20]:41",
      " [8] macro expansion at ./util.jl:175 [inlined]",
      " [9] top-level scope at ./In[24]:1"
     ]
    }
   ],
   "source": [
    "@time HM_IRLS(Xᴳᵀ, y, Φ, maxIter = 200, N = 10);"
   ]
  },
  {
   "cell_type": "markdown",
   "metadata": {},
   "source": [
    "#### An easy problem:"
   ]
  },
  {
   "cell_type": "code",
   "execution_count": 103,
   "metadata": {},
   "outputs": [
    {
     "name": "stdout",
     "output_type": "stream",
     "text": [
      "size(Xᴳᵀ) = (10, 10)\n",
      "rank(Xᴳᵀ) = 1\n",
      "rank(y) = 4\n"
     ]
    }
   ],
   "source": [
    "d = 10\n",
    "v = rand(d)\n",
    "Xᴳᵀ = v * v'  # Ground Truth matrix\n",
    "@show size(Xᴳᵀ)\n",
    "@show rank(Xᴳᵀ)\n",
    "\n",
    "# mask that erases 5 elements:\n",
    "num_of_points_to_erase = 5\n",
    "Φᴹ = reshape(shuffle!([fill(0, num_of_points_to_erase)...,\n",
    "            fill(1, d*d - num_of_points_to_erase)...]), d, d)\n",
    "Φ = FunctionOperator{Float64}(name = \"Φ\", inDims = (d, d), outDims = (d, d),\n",
    "    forw = (b,x) -> b .= Φᴹ .* x, backw = (b,x) -> b .= x)\n",
    "\n",
    "y = Φ * Xᴳᵀ\n",
    "@show rank(y);"
   ]
  },
  {
   "cell_type": "code",
   "execution_count": 104,
   "metadata": {},
   "outputs": [
    {
     "name": "stdout",
     "output_type": "stream",
     "text": [
      "k = 0,\trank(Xᵏ) = 4,\t‖Xᴳᵀ - Xᵏ‖₂ = 0.55469945286125\n",
      "k = 1,\trank(Xᵏ) = 4,\t‖Xᴳᵀ - Xᵏ‖₂ = 5.020881565879722\n",
      "k = 2,\trank(Xᵏ) = 4,\t‖Xᴳᵀ - Xᵏ‖₂ = 5.030105996305296\n",
      "k = 3,\trank(Xᵏ) = 4,\t‖Xᴳᵀ - Xᵏ‖₂ = 6.3359699325930965\n",
      "k = 4,\trank(Xᵏ) = 4,\t‖Xᴳᵀ - Xᵏ‖₂ = 77.82130976070576\n",
      "k = 5,\trank(Xᵏ) = 4,\t‖Xᴳᵀ - Xᵏ‖₂ = 133.4250873941241\n",
      "k = 6,\trank(Xᵏ) = 4,\t‖Xᴳᵀ - Xᵏ‖₂ = 183.80576126779502\n",
      "k = 7,\trank(Xᵏ) = 4,\t‖Xᴳᵀ - Xᵏ‖₂ = 254.0177948525734\n",
      "k = 8,\trank(Xᵏ) = 4,\t‖Xᴳᵀ - Xᵏ‖₂ = 293.25797761437633\n",
      "k = 9,\trank(Xᵏ) = 4,\t‖Xᴳᵀ - Xᵏ‖₂ = 354.2763504623122\n",
      "k = 10,\trank(Xᵏ) = 4,\t‖Xᴳᵀ - Xᵏ‖₂ = 413.53799784140466\n",
      "  0.043236 seconds (34.08 k allocations: 2.203 MiB)\n"
     ]
    }
   ],
   "source": [
    "@time HM_IRLS(Xᴳᵀ, y, Φ, N = 10);"
   ]
  },
  {
   "cell_type": "code",
   "execution_count": null,
   "metadata": {},
   "outputs": [],
   "source": []
  }
 ],
 "metadata": {
  "kernelspec": {
   "display_name": "Julia 1.4.0",
   "language": "julia",
   "name": "julia-1.4"
  },
  "language_info": {
   "file_extension": ".jl",
   "mimetype": "application/julia",
   "name": "julia",
   "version": "1.4.0"
  }
 },
 "nbformat": 4,
 "nbformat_minor": 4
}
